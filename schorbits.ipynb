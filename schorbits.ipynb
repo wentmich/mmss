{
 "cells": [
  {
   "cell_type": "code",
   "execution_count": 78,
   "metadata": {},
   "outputs": [],
   "source": [
    "\"\"\"\n",
    "Here we import all of the necessary functions and packages that we\n",
    "won't be defining in our code. \n",
    "Sympy: a computer algebra package in python which allows us to perform\n",
    "       algebraic manipulations easily.\n",
    "Numpy: a package used for matrix algebra and basic mathematical functions\n",
    "Matplotlib: a plotting packaged which allows us to make sick figures\"\"\"\n",
    "from sympy import *\n",
    "import numpy as np\n",
    "import matplotlib.pyplot as plt\n",
    "from sympy.plotting import plot\n",
    "from sympy.functions.elementary.exponential import exp\n",
    "from sympy.functions.elementary.trigonometric import sin, cos, tan\n",
    "from sympy.diffgeom import Manifold, Patch, CoordSystem\n",
    "from sympy.diffgeom import metric_to_Riemann_components as Riemann\n",
    "from sympy.diffgeom import metric_to_Ricci_components as Ricci\n",
    "from sympy.diffgeom import metric_to_Christoffel_2nd as Christoffel\n",
    "from sympy import latex\n",
    "from IPython.display import display, Math\n",
    "import sympy.diffgeom as diffgeom\n",
    "from sympy.tensor.array import MutableDenseNDimArray as mArray\n",
    "\n",
    "import scipy.optimize as opt\n",
    "import scipy.integrate as integrate"
   ]
  },
  {
   "cell_type": "code",
   "execution_count": 2,
   "metadata": {},
   "outputs": [],
   "source": [
    "def print_nonzero_christoffels(metric, component_list):\n",
    "# given a metrix and a list of coordinates in the form ['t', 'x', 'y', 'z']\n",
    "# prints out all of the non-zero Christoffel symbols in the form Gamma^c1_c2, c3\n",
    "    print('********************** Christoffel Symbols **********************')\n",
    "    christoffels = Christoffel(metric)\n",
    "    size = len(component_list)\n",
    "    for i in range(1):\n",
    "        for j in range(size):\n",
    "            for k in range(size):\n",
    "                simplified = simplify(christoffels[i, j, k])\n",
    "                if simplified != 0:\n",
    "                    print(component_list[i] + ', ' + component_list[j] + ', ' + component_list[k] + ':   ')\n",
    "                    display(Math(latex(simplified)))\n",
    "                    print('---------------------------------')\n",
    "    print('*****************************************************************')\n",
    "    return;\n",
    "\n",
    "def print_nonzero_riemann(R, component_list):\n",
    "# R is the riemann tensor\n",
    "# component list is the list of indices of R in the form ['t', 'x', 'y', 'z']\n",
    "# prints out R^c1_c2,c3,c4\n",
    "    print('************************* Riemann Tensor *************************')\n",
    "    n = np.shape(R)[0]\n",
    "    for i in range(n):\n",
    "        for j in range(n):\n",
    "            for k in range(n):\n",
    "                for q in range(n):\n",
    "                    simplified = simplify(R[i, j, k, q])\n",
    "                    if simplified != 0:\n",
    "                        print(component_list[i] + ', ' + component_list[j] + ', ' + component_list[k] + ', '\n",
    "                              + component_list[q] + ':   ')\n",
    "                        display(Math(latex(simplify(simplified))))\n",
    "                        print('---------------------------------')\n",
    "    print('******************************************************************')\n",
    "    return;\n",
    "\n",
    "def print_nonzero_ricci(R, component_list):\n",
    "# R is the Ricci tensor\n",
    "# component list is the list of coordinates in the form ['t', 'x', 'y', 'z']\n",
    "# prints out R_c1, c2\n",
    "    print('************************* Ricci Tensor *************************')\n",
    "    n = np.shape(R)[0]\n",
    "    for i in range(n):\n",
    "        for j in range(n):\n",
    "            simplified = simplify(R[i, j])\n",
    "            if simplified != 0:\n",
    "                print(component_list[i] + ', ' + component_list[j])\n",
    "                display(simplified)\n",
    "                print('---------------------------------')\n",
    "    print('******************************************************************')\n",
    "    return;\n",
    "\n",
    "def print_ricci_scalar(g):\n",
    "# finds and prints the Ricci scalar\n",
    "    R = Ricci(g)\n",
    "    metric_matrix = diffgeom.twoform_to_matrix(g)\n",
    "    metric_inv = metric_matrix.inv()\n",
    "    ricci_scalar = 0\n",
    "    for i in range(np.shape(R)[0]):\n",
    "        for j in range(np.shape(R)[0]):\n",
    "            ricci_scalar += metric_inv[i, j] * R[i, j]\n",
    "    print('************************** Ricci Scalar **************************')\n",
    "    display(Math(latex(simplify(ricci_scalar))))\n",
    "    print('******************************************************************')\n",
    "    return;\n",
    "\n",
    "def get_ricci_scalar(g):\n",
    "# finds and prints the Ricci scalar\n",
    "    R = Ricci(g)\n",
    "    metric_matrix = diffgeom.twoform_to_matrix(g)\n",
    "    metric_inv = metric_matrix.inv()\n",
    "    ricci_scalar = 0\n",
    "    for i in range(np.shape(R)[0]):\n",
    "        for j in range(np.shape(R)[0]):\n",
    "            ricci_scalar += metric_inv[i, j] * R[i, j]\n",
    "\n",
    "    return ricci_scalar;\n",
    "\n",
    "def print_nonzero_einstein(metric, component_list):\n",
    "    ricci_tensor = Ricci(metric)\n",
    "    ricci_scalar = get_ricci_scalar(metric)\n",
    "    metric_matrix = diffgeom.twoform_to_matrix(metric)\n",
    "    term1 = ricci_tensor \n",
    "    term2 = - Rational(1 / 2) * metric * ricci_scalar\n",
    "    #einstein = term1 + term2\n",
    "    display(Math(latex(simplify(term1))))\n",
    "    display(Math(latex(simplify(term2))))\n",
    "    #print('************************* Einstein Tensor *************************')\n",
    "    #for i in range(np.shape(einstein_tensor)[0]):\n",
    "    #    for j in range(np.shape(einstein_tensor[1])):\n",
    "    #        \n",
    "    #print('*******************************************************************')"
   ]
  },
  {
   "cell_type": "code",
   "execution_count": 3,
   "metadata": {},
   "outputs": [
    {
     "name": "stdout",
     "output_type": "stream",
     "text": [
      "********************** Christoffel Symbols **********************\n",
      "t, t, r:   \n"
     ]
    },
    {
     "data": {
      "text/latex": [
       "$\\displaystyle \\frac{M}{\\mathbf{r} \\left(\\mathbf{r} - 2 M\\right)}$"
      ],
      "text/plain": [
       "<IPython.core.display.Math object>"
      ]
     },
     "metadata": {},
     "output_type": "display_data"
    },
    {
     "name": "stdout",
     "output_type": "stream",
     "text": [
      "---------------------------------\n",
      "t, r, t:   \n"
     ]
    },
    {
     "data": {
      "text/latex": [
       "$\\displaystyle \\frac{M}{\\mathbf{r} \\left(\\mathbf{r} - 2 M\\right)}$"
      ],
      "text/plain": [
       "<IPython.core.display.Math object>"
      ]
     },
     "metadata": {},
     "output_type": "display_data"
    },
    {
     "name": "stdout",
     "output_type": "stream",
     "text": [
      "---------------------------------\n",
      "*****************************************************************\n"
     ]
    }
   ],
   "source": [
    "## Schwarzschild Metric\n",
    "t, r, theta, phi, M, c = symbols('t, r, theta, phi, M, c')\n",
    "m = Manifold('M', 4)\n",
    "patch = Patch('P', m)\n",
    "coords = CoordSystem('coords', patch, ['t', 'r', 'theta', 'phi'])\n",
    "t, r, theta, phi = coords.coord_functions()\n",
    "dt, dr, dtheta, dphi = coords.base_oneforms()\n",
    "\n",
    "# make my metric\n",
    "TP = diffgeom.TensorProduct\n",
    "metric = - (1 - 2 * M / r) * c**2 * TP(dt, dt) + (1 / (1 - 2 * M / r)) * TP(dr, dr) + r**2 * TP(dtheta, dtheta) + r**2 * sin(theta)**2 * TP(dphi, dphi)\n",
    "components = ['t', 'r', 'theta', 'phi']\n",
    "print_nonzero_christoffels(metric, components)\n",
    "#print_nonzero_riemann(Riemann(metric), components)\n",
    "#print_nonzero_ricci(Ricci(metric), components)\n",
    "#print_ricci_scalar(Ricci(metric), metric)\n",
    "#print_nonzero_einstein(metric, components)"
   ]
  },
  {
   "cell_type": "markdown",
   "metadata": {},
   "source": [
    "## Shape of Orbits in the Schwarzschild Geometry\n",
    "This is a Jupyter Notebook to compute and display the shapes of orbits in a Schwarzschild geometry. We're going to be computing the orbit of a particle around a black-hole-esque object. The Schwarzschild radial coordinate is measured in units of $M$ so that $M=1$ in the following formulae. Throughout the variable $u = 1/r$ is used. Here is a list of what you must set to run the program:\n",
    "\n",
    "1. The angular momentum: $\\ell$\n",
    "2. The energy parameter: $\\epsilon = (e^2 - 1) / 2$\n",
    "3. The starting radius for an orbit which is not bound: *rst.*\n",
    "4. The number of orbits to be computed if the orbit is bound: *norbit*\n",
    "\n",
    "These are set by editing the definition statements at various places in the program **You must be sure these parameters are set so the orbit is classically allowed and doesn't tart at a position where the value of the effective potential is grater than $\\epsilon$**.\n",
    "\n",
    "We'll run through all the basics of this program, and then we'll mess around with the paramters to see what's up with different values of energy and angular momentum."
   ]
  },
  {
   "cell_type": "markdown",
   "metadata": {},
   "source": [
    "### The Potential\n",
    "The effective potential for radial motion $V_{eff}$ given by (9.28) is here denoted simply by $V$. To be slightly more general, a parameter **signewt** is introduced which multiplies the non-Newtonian $1/r^2$ term in the potential. Set it equal to $1$ for general relativity $0$ for a Newtonian $1/r$ potential, and an appropriate value for Newtonian $1/r$ potential with an additional quadrupole moment term.\n",
    "\n",
    "We'll get you started by defining signewt for GR and then defining an effective potential below."
   ]
  },
  {
   "cell_type": "code",
   "execution_count": 1,
   "metadata": {},
   "outputs": [],
   "source": [
    "# define signewt\n",
    "signewt = 1.0"
   ]
  },
  {
   "cell_type": "code",
   "execution_count": 2,
   "metadata": {},
   "outputs": [],
   "source": [
    "# define the effective potential\n",
    "def V(u, ell):\n",
    "    return -u + ell**2 * u**2 / 2.0 - signewt * ell**2 * u**3;"
   ]
  },
  {
   "cell_type": "markdown",
   "metadata": {},
   "source": [
    "### Specifying the Orbit\n",
    "It takes four numbers to specify an orbit: (1) angular momentum $\\ell$, (2) energy $\\epsilon$, (3) starting radius $rst$, and (4) the number of orbits to be calculated $norbit$.\n",
    "\n",
    "Let's specify the angular momentum below. Try defining a variable `ell` for angular momentum as equal to `5.0`."
   ]
  },
  {
   "cell_type": "code",
   "execution_count": 48,
   "metadata": {},
   "outputs": [],
   "source": [
    "ell = 5.0"
   ]
  },
  {
   "cell_type": "markdown",
   "metadata": {},
   "source": [
    "Now we plot the effective potential as a function of $r / M$ for the specified value of $\\ell$. Use bounds on the radius of $[2, 80]$ and $1000$ points. Remember that we've implicitly define $M = 1$.\n",
    "\n",
    "In the box below define an array of $r$ values and then find the corresponding $V$ values. Finally plot these values using `plt.plot()`."
   ]
  },
  {
   "cell_type": "code",
   "execution_count": 49,
   "metadata": {},
   "outputs": [
    {
     "data": {
      "image/png": "[encoded data removed]",
      "text/plain": [
       "<Figure size 432x288 with 1 Axes>"
      ]
     },
     "metadata": {
      "needs_background": "light"
     },
     "output_type": "display_data"
    }
   ],
   "source": [
    "rvals = np.linspace(2, 80, 1000)\n",
    "# recall that M is defined to be 1\n",
    "Vvals = np.zeros(np.shape(rvals))\n",
    "\n",
    "for i in range(np.size(rvals)):\n",
    "    Vvals[i] = V(1/rvals[i], ell)\n",
    "    \n",
    "plt.plot(rvals, Vvals)\n",
    "plt.xlabel(r'$r / M$')\n",
    "plt.ylabel(r'$V_{eff}$')\n",
    "plt.grid('on')\n",
    "plt.ylim((-0.04, 0.01))\n",
    "plt.show()"
   ]
  },
  {
   "cell_type": "markdown",
   "metadata": {},
   "source": [
    "Now we want to find the values of the potential at the extrema. To do this, define a function `dV` which gives the derivative of $V$ at a given piont. Define `dV` as a function of `u = 1/r` and then plot the function for the values of `r` given above."
   ]
  },
  {
   "cell_type": "code",
   "execution_count": 50,
   "metadata": {},
   "outputs": [
    {
     "data": {
      "image/png": "[encoded data removed]",
      "text/plain": [
       "<Figure size 432x288 with 1 Axes>"
      ]
     },
     "metadata": {
      "needs_background": "light"
     },
     "output_type": "display_data"
    }
   ],
   "source": [
    "# Define the derivative function\n",
    "def dV(u):\n",
    "    return -1 + ell**2 * u - 3 * signewt * ell**2 * u**2;\n",
    "\n",
    "dVvals = np.zeros(np.shape(rvals))\n",
    "for i in range(np.size(rvals)):\n",
    "    dVvals[i] = dV(1 / rvals[i])\n",
    "\n",
    "plt.plot(rvals, dVvals)\n",
    "plt.xlabel(r'$r / M$')\n",
    "plt.ylabel(r'$\\frac{dV}{du}$')\n",
    "plt.grid('on')\n",
    "plt.show()"
   ]
  },
  {
   "cell_type": "markdown",
   "metadata": {},
   "source": [
    "Now we are going to use this to solve for the extrema using a python package function called `opt.fsolve(function, [initial guesses])`. We need to give `fsolve` some initial guesses which we can take from the plot of $dV$ above. Remember that `dV` is plotted against $r$ but takes $1/r$ as an argument, so our guesses need to be in terms of $1/r$. Using the format above, find the u coordinates of the extrema and print them out. You'll need to use the line `maxmin = opt.fsolve(dV, uguess)` where `uguess` is a list of two values you can guess from your plot above."
   ]
  },
  {
   "cell_type": "code",
   "execution_count": 56,
   "metadata": {
    "scrolled": true
   },
   "outputs": [
    {
     "name": "stdout",
     "output_type": "stream",
     "text": [
      "0.2868517091822027 0.046481624151364205\n"
     ]
    }
   ],
   "source": [
    "uguess = np.array([1 / 3.0, 1 / 30.0])\n",
    "maxmin = opt.fsolve(dV, uguess)\n",
    "\n",
    "print(maxmin[0], maxmin[1])"
   ]
  },
  {
   "cell_type": "markdown",
   "metadata": {},
   "source": [
    "Now that we've found the extrema $u$ values, we can find the actual extreme values of $V$. Use the function `V` defined above and the `maxmin` values you found to define and then print the extreme values of $V$. Do these things in the box below."
   ]
  },
  {
   "cell_type": "code",
   "execution_count": 53,
   "metadata": {},
   "outputs": [
    {
     "name": "stdout",
     "output_type": "stream",
     "text": [
      "0.15161512329820703 -0.021985493668577518\n"
     ]
    }
   ],
   "source": [
    "Vmax = V(maxmin[0], ell)\n",
    "Vmin = V(maxmin[1], ell)\n",
    "\n",
    "print(Vmax, Vmin)"
   ]
  },
  {
   "cell_type": "markdown",
   "metadata": {},
   "source": [
    "Now we are going to specify the energy of an orbiting object. In order to have a classically allowed orbit, the energy parameter must be larger than the minimum value of $V$ you found above. We also want the orbit to be bound, so we need to have the energy by less than $0$.\n",
    "\n",
    "In the box below, define a new variable `epsilon` for the energy that has a physically appropriate value."
   ]
  },
  {
   "cell_type": "code",
   "execution_count": 68,
   "metadata": {},
   "outputs": [],
   "source": [
    "epsilon = -0.01"
   ]
  },
  {
   "cell_type": "markdown",
   "metadata": {},
   "source": [
    "To check that we have appropriate values for energy, let's plot the values of `V` and the value of `epsilon` below. You can use the same plot code for `V` from above, you'll just need to add in a plot line which plots the constant `epsilon`."
   ]
  },
  {
   "cell_type": "code",
   "execution_count": 69,
   "metadata": {},
   "outputs": [
    {
     "data": {
      "image/png": "[encoded data removed]",
      "text/plain": [
       "<Figure size 432x288 with 1 Axes>"
      ]
     },
     "metadata": {
      "needs_background": "light"
     },
     "output_type": "display_data"
    }
   ],
   "source": [
    "rvals = np.linspace(2, 80, 1000)\n",
    "# recall that M is defined to be 1\n",
    "Vvals = np.zeros(np.shape(rvals))\n",
    "\n",
    "for i in range(np.size(rvals)):\n",
    "    Vvals[i] = V(1/rvals[i], ell)\n",
    "    \n",
    "plt.plot(rvals, Vvals)\n",
    "plt.plot([2, 80], [epsilon, epsilon])\n",
    "plt.xlabel(r'$r / M$')\n",
    "plt.ylabel(r'$V_{eff}$')\n",
    "plt.grid('on')\n",
    "plt.ylim((-0.04, 0.01))\n",
    "plt.show()"
   ]
  },
  {
   "cell_type": "markdown",
   "metadata": {},
   "source": [
    "You should be able to see with this plot that $V$ will intersect the constant `epsilon` at three points. These are our three points of interest, so let's use the same `fsolve` function from above to find where these intersections occur.\n",
    "\n",
    "Importantly, `fsolve` finds where a function is equal to zero. What change do we need to make to $V$ to use `fsolve` to find intersections with `epsilon`? Define a new function `V_adjusted` as a function of `u` which will serve this purpose.\n",
    "\n",
    "After you've defined this function, use `fsolve` and an array of three guesses to find the points of intersection. Then print out these points."
   ]
  },
  {
   "cell_type": "code",
   "execution_count": 70,
   "metadata": {},
   "outputs": [
    {
     "name": "stdout",
     "output_type": "stream",
     "text": [
      "[0.40327064 0.08506962 0.01165974]\n",
      "[ 2.47972427 11.75507823 85.76519777]\n"
     ]
    }
   ],
   "source": [
    "def V_adjusted(u):\n",
    "    return -u + ell**2 * u**2 / 2.0 - signewt * ell**2 * u**3 - epsilon;\n",
    "\n",
    "uguess = np.array([1 / 2.5, 1 / 13.0, 1 / 50.0])\n",
    "intersections = opt.fsolve(V_adjusted, uguess)\n",
    "print(intersections)\n",
    "print(1 / intersections)"
   ]
  },
  {
   "cell_type": "markdown",
   "metadata": {},
   "source": [
    "We've now specified the angular momentum and the energy. Next we'll specify a starting radius for our orbiting particle. Here we'll want to use a starting radius of $20.0$, so in the box below, define a starting radius `rst` equal to $20.0$ and then a corresponding initial value of $u$, `ust`."
   ]
  },
  {
   "cell_type": "code",
   "execution_count": 72,
   "metadata": {},
   "outputs": [],
   "source": [
    "rst = 20.0\n",
    "ust = 1 / rst"
   ]
  },
  {
   "cell_type": "markdown",
   "metadata": {},
   "source": [
    "Finally, we need to define the last needed parameter for our program, `norbits`. We need to calculate at least 2 orbits to see that the orbit is actually an orbit, so let's just go ahead and say 3. Define a new variable `norbits` below, and set it equal to 3."
   ]
  },
  {
   "cell_type": "code",
   "execution_count": 73,
   "metadata": {},
   "outputs": [],
   "source": [
    "norbit = 3.0"
   ]
  },
  {
   "cell_type": "markdown",
   "metadata": {},
   "source": [
    "### Computing the Schwarzschild Orbits for Our Particle\n",
    "\n",
    "The following bits of code uses a bit more background than you've got from the two hours you've been programming, so a lot of them will be predefined for you.\n",
    "\n",
    "Now we are going to numerically determine the orbit of our particle around a black-hole-eque object. We will be performing the following integral:\n",
    "\n",
    "$$ \\int \\frac{\\ell}{\\sqrt{2(\\epsilon - V)}} du$$\n",
    "\n",
    "Notice that when $\\epsilon = V$ the integrand diverges. To dodge this problem, we'll define a parameter $eps$ which will determine how close the integrand can get to this divergent part."
   ]
  },
  {
   "cell_type": "code",
   "execution_count": 84,
   "metadata": {},
   "outputs": [],
   "source": [
    "eps = 1.0e-8"
   ]
  },
  {
   "cell_type": "markdown",
   "metadata": {},
   "source": [
    "Next we need to write a program that picks the appropriate radii to start and end the integration of the orbit given the energy and starting radius defined above. There are are four types of orbits:\n",
    "\n",
    "1. Bound orbits which start at the outer turning point.\n",
    "2. Orbits which come in from infinity and go out again. These start at rst.\n",
    "3. Orbits which start close to $r = 2M$ (the Schwarzschild radius) and fall back to it.\n",
    "4. Plunge orbits which start at rst and end at $r = 2M$.\n",
    "\n",
    "The following lines test what type of orbit we are dealing with."
   ]
  },
  {
   "cell_type": "code",
   "execution_count": 85,
   "metadata": {},
   "outputs": [
    {
     "name": "stdout",
     "output_type": "stream",
     "text": [
      "Case 1\n",
      "0.011659741199944082 0.08506961587939317\n"
     ]
    }
   ],
   "source": [
    "if epsilon < 0 and ust < intersections[1]:\n",
    "    print('Case 1')\n",
    "    u1 = intersections[2] * (1 + eps)\n",
    "    u2 = intersections[1] * (1 - eps)\n",
    "    \n",
    "elif epsilon > 0 and epsilon < Vmax and ust < intersections[1]:\n",
    "    print('Case 2')\n",
    "    u1 = ust\n",
    "    u2 = intersections[1] * (1 - eps)\n",
    "\n",
    "elif epsilon > Vmax and ust > intersections[2]:\n",
    "    print('Case 3')\n",
    "    u1 = 0.5\n",
    "    u2 = intersections[0] * (1 + eps)\n",
    "\n",
    "elif epsilon > Vmax:\n",
    "    print('Case 4')\n",
    "    u1 = ust\n",
    "    u2 = 0.5 * (1 - eps)\n",
    "    \n",
    "print(u1, u2)"
   ]
  },
  {
   "cell_type": "markdown",
   "metadata": {},
   "source": [
    "Next we are going to define a function which integrates the angle `theta` swept out from the innermost turning point of the particle orbit. This function utilizes a numerical integration function within python."
   ]
  },
  {
   "cell_type": "code",
   "execution_count": 147,
   "metadata": {},
   "outputs": [],
   "source": [
    "def integrand(u, ell, epsilon):\n",
    "    return ell / np.sqrt(2 * epsilon - 2 * V(u, ell))\n",
    "\n",
    "def theta(u, epsilon, ell, u1):\n",
    "    return integrate.quad(integrand, u1, u, args=(ell, epsilon))[0]"
   ]
  },
  {
   "cell_type": "markdown",
   "metadata": {},
   "source": [
    "Now we define a variable `delphi` which is the total angle `theta` swept out bewteen two endpoints of the orbit.\n",
    "\n",
    "Use the function `theta` above and the parameters for `epsilon, u2, ell, and u1` defined above to define and find `delphi` in the box below. Print out the value you find."
   ]
  },
  {
   "cell_type": "code",
   "execution_count": 148,
   "metadata": {},
   "outputs": [
    {
     "name": "stdout",
     "output_type": "stream",
     "text": [
      "3.7364007962032155\n"
     ]
    }
   ],
   "source": [
    "delphi = theta(u2, epsilon, ell, u1)\n",
    "print(delphi)"
   ]
  },
  {
   "cell_type": "markdown",
   "metadata": {},
   "source": [
    "Now we're going to define some new functions."
   ]
  },
  {
   "cell_type": "code",
   "execution_count": 143,
   "metadata": {},
   "outputs": [],
   "source": [
    "# write a function that returns the rounded integer of a float z\n",
    "def n(z):\n",
    "    return int(z);\n",
    "\n",
    "# write a function that returns the decimal of an integer z\n",
    "def zf(z):\n",
    "    return z - int(z);\n",
    "\n",
    "def ua(z):\n",
    "    return u1 * (1 - 2 * zf(z)) + u2 * 2 * zf(z);\n",
    "\n",
    "def ub(z):\n",
    "    return u1 * (2 * zf(z) - 1) + 2 * u2 * (1 - zf(z));\n",
    "\n",
    "def u(z):\n",
    "    if zf(z) < 0.5:\n",
    "        return ua(z);\n",
    "    else:\n",
    "        return ub(z);\n",
    "\n",
    "def phia(z):\n",
    "    return 2 * n(z) * delphi + theta(u(z), epsilon, ell, u1);\n",
    "\n",
    "def phib(z):\n",
    "    return 2 * n(z) * delphi - theta(u(z), epsilon, ell, u1);\n",
    "\n",
    "def accphi(z):\n",
    "    if zf(z) < 0.5:\n",
    "        return phia(z);\n",
    "    else:\n",
    "        return phib(z);\n",
    "\n",
    "def xpoints(z):\n",
    "    return np.cos(accphi(z)) / u(z);\n",
    "\n",
    "def ypoints(z):\n",
    "    return np.sin(accphi(z)) / u(z);"
   ]
  },
  {
   "cell_type": "markdown",
   "metadata": {},
   "source": [
    "### Displaying Orbits\n",
    "\n",
    "`accphi` defined above is the accumulated angle as a function of position along the orbit, as measured by the parameter z (also define above) to vary from `0` to `norbit` so that $z=1$ is the end of the first orbit, $z=2$ is the end of the second orbit, etc..\n",
    "\n",
    "Below, write an if statement that will define `norbit` to be equal to `norbit` if the orbit is bound (use the if statement for case 1 above) and set it to `1` if it isn't bound."
   ]
  },
  {
   "cell_type": "code",
   "execution_count": 144,
   "metadata": {},
   "outputs": [],
   "source": [
    "if epsilon < 0 and ust < intersections[1]:\n",
    "    norbit = norbit\n",
    "\n",
    "else:\n",
    "    norbit = 1"
   ]
  },
  {
   "cell_type": "markdown",
   "metadata": {},
   "source": [
    "Now write an if statement which defines `norbit` to `0.5` if the orbit is a plunge orbit. Again you can use the if statement from Case 4 from above."
   ]
  },
  {
   "cell_type": "code",
   "execution_count": 145,
   "metadata": {},
   "outputs": [],
   "source": [
    "if epsilon > Vmax:\n",
    "    norbit = 0.5"
   ]
  },
  {
   "cell_type": "markdown",
   "metadata": {},
   "source": [
    "Finally, write an if statement which will plot `accphi(z)` from z=0 to z=1 if `norbit` is greater than `0.9999`."
   ]
  },
  {
   "cell_type": "code",
   "execution_count": 146,
   "metadata": {},
   "outputs": [
    {
     "name": "stderr",
     "output_type": "stream",
     "text": [
      "/Users/wentmich/anaconda3/lib/python3.7/site-packages/ipykernel_launcher.py:5: IntegrationWarning: The algorithm does not converge.  Roundoff error is detected\n",
      "  in the extrapolation table.  It is assumed that the requested tolerance\n",
      "  cannot be achieved, and that the returned result (if full_output = 1) is \n",
      "  the best which can be obtained.\n",
      "  \"\"\"\n"
     ]
    },
    {
     "data": {
      "image/png": "[encoded data removed]",
      "text/plain": [
       "<Figure size 432x288 with 1 Axes>"
      ]
     },
     "metadata": {
      "needs_background": "light"
     },
     "output_type": "display_data"
    }
   ],
   "source": [
    "if norbit > 1:\n",
    "    zvals = np.linspace(0, 1.0, 1000)\n",
    "    accvals = np.zeros(np.shape(zvals))\n",
    "    \n",
    "    for i in range(np.size(zvals)):\n",
    "        accvals[i] = accphi(zvals[i])\n",
    "    \n",
    "    plt.plot(zvals, accvals)\n",
    "    plt.xlabel('z')\n",
    "    plt.ylabel(r'$\\phi$')\n",
    "    plt.show()"
   ]
  },
  {
   "cell_type": "markdown",
   "metadata": {},
   "source": [
    "Now make a plot of `accphi` from `z=0` to `z = norbit - 1e-6`."
   ]
  },
  {
   "cell_type": "code",
   "execution_count": 139,
   "metadata": {},
   "outputs": [
    {
     "name": "stderr",
     "output_type": "stream",
     "text": [
      "/Users/wentmich/anaconda3/lib/python3.7/site-packages/ipykernel_launcher.py:5: IntegrationWarning: The algorithm does not converge.  Roundoff error is detected\n",
      "  in the extrapolation table.  It is assumed that the requested tolerance\n",
      "  cannot be achieved, and that the returned result (if full_output = 1) is \n",
      "  the best which can be obtained.\n",
      "  \"\"\"\n"
     ]
    },
    {
     "data": {
      "image/png": "[encoded data removed]",
      "text/plain": [
       "<Figure size 432x288 with 1 Axes>"
      ]
     },
     "metadata": {
      "needs_background": "light"
     },
     "output_type": "display_data"
    }
   ],
   "source": [
    "zvals = np.linspace(0, norbit, 1000)\n",
    "accvals = np.zeros(np.shape(zvals))\n",
    "    \n",
    "for i in range(np.size(zvals)):\n",
    "    accvals[i] = accphi(zvals[i])\n",
    "    \n",
    "plt.plot(zvals, accvals)\n",
    "plt.xlabel('z')\n",
    "plt.ylabel(r'$\\phi$')\n",
    "plt.show()"
   ]
  },
  {
   "cell_type": "markdown",
   "metadata": {},
   "source": [
    "Calculating and plotting the orbit: Two parameters specify how accurately the orbit is calculated: `PlotDivision` specifies the number of plot points, `MaxBend` specifies the maximum bending angle permitted.\n",
    "\n",
    "For shorter calculations and rougher orbits decrease `PlotDivision` and increase `MaxBend`. For longer calculations and more accurate orbits, increase `PlotDivision` and decrease `MaxBend`.\n",
    "\n",
    "The final step here is to plot the orbits actual positions rather than angular positions. \n",
    "\n",
    "Write some code that plots `xpoints` and `ypoints` for the z values defined above."
   ]
  },
  {
   "cell_type": "code",
   "execution_count": 140,
   "metadata": {},
   "outputs": [
    {
     "name": "stderr",
     "output_type": "stream",
     "text": [
      "/Users/wentmich/anaconda3/lib/python3.7/site-packages/ipykernel_launcher.py:5: IntegrationWarning: The algorithm does not converge.  Roundoff error is detected\n",
      "  in the extrapolation table.  It is assumed that the requested tolerance\n",
      "  cannot be achieved, and that the returned result (if full_output = 1) is \n",
      "  the best which can be obtained.\n",
      "  \"\"\"\n"
     ]
    },
    {
     "data": {
      "image/png": "[encoded data removed]",
      "text/plain": [
       "<Figure size 432x288 with 1 Axes>"
      ]
     },
     "metadata": {
      "needs_background": "light"
     },
     "output_type": "display_data"
    }
   ],
   "source": [
    "xvals = np.zeros(np.shape(zvals))\n",
    "yvals = np.zeros(np.shape(zvals))\n",
    "\n",
    "for i in range(np.size(zvals)):\n",
    "    xvals[i] = xpoints(zvals[i])\n",
    "    yvals[i] = ypoints(zvals[i])\n",
    "\n",
    "plt.plot(xvals, yvals)\n",
    "#plt.axes().set_aspect('equal')\n",
    "plt.xlabel('x')\n",
    "plt.ylabel('y')\n",
    "plt.show()"
   ]
  },
  {
   "cell_type": "code",
   "execution_count": null,
   "metadata": {},
   "outputs": [],
   "source": []
  }
 ],
 "metadata": {
  "kernelspec": {
   "display_name": "Python 3",
   "language": "python",
   "name": "python3"
  },
  "language_info": {
   "codemirror_mode": {
    "name": "ipython",
    "version": 3
   },
   "file_extension": ".py",
   "mimetype": "text/x-python",
   "name": "python",
   "nbconvert_exporter": "python",
   "pygments_lexer": "ipython3",
   "version": "3.7.3"
  }
 },
 "nbformat": 4,
 "nbformat_minor": 2
}
