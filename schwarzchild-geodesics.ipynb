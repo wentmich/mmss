{
 "cells": [
  {
   "cell_type": "code",
   "execution_count": 1,
   "metadata": {},
   "outputs": [],
   "source": [
    "\"\"\"\n",
    "Here we import all of the necessary functions and packages that we\n",
    "won't be defining in our code. \n",
    "Sympy: a computer algebra package in python which allows us to perform\n",
    "       algebraic manipulations easily.\n",
    "Numpy: a package used for matrix algebra and basic mathematical functions\n",
    "Matplotlib: a plotting packaged which allows us to make sick figures\"\"\"\n",
    "from sympy import *\n",
    "import numpy as np\n",
    "import matplotlib.pyplot as plt\n",
    "from sympy.functions.elementary.exponential import exp\n",
    "from sympy.functions.elementary.trigonometric import sin, cos, tan\n",
    "from sympy.diffgeom import Manifold, Patch, CoordSystem\n",
    "from sympy.diffgeom import metric_to_Riemann_components as Riemann\n",
    "from sympy.diffgeom import metric_to_Ricci_components as Ricci\n",
    "from sympy.diffgeom import metric_to_Christoffel_2nd as Christoffel\n",
    "from sympy import latex\n",
    "from IPython.display import display, Math\n",
    "import sympy.diffgeom as diffgeom\n",
    "from sympy.tensor.array import MutableDenseNDimArray as mArray"
   ]
  },
  {
   "cell_type": "code",
   "execution_count": 2,
   "metadata": {},
   "outputs": [],
   "source": [
    "def print_nonzero_christoffels(metric, component_list):\n",
    "# given a metrix and a list of coordinates in the form ['t', 'x', 'y', 'z']\n",
    "# prints out all of the non-zero Christoffel symbols in the form Gamma^c1_c2, c3\n",
    "    print('********************** Christoffel Symbols **********************')\n",
    "    christoffels = Christoffel(metric)\n",
    "    size = len(component_list)\n",
    "    for i in range(1):\n",
    "        for j in range(size):\n",
    "            for k in range(size):\n",
    "                simplified = simplify(christoffels[i, j, k])\n",
    "                if simplified != 0:\n",
    "                    print(component_list[i] + ', ' + component_list[j] + ', ' + component_list[k] + ':   ')\n",
    "                    display(Math(latex(simplified)))\n",
    "                    print('---------------------------------')\n",
    "    print('*****************************************************************')\n",
    "    return;\n",
    "\n",
    "def print_nonzero_riemann(R, component_list):\n",
    "# R is the riemann tensor\n",
    "# component list is the list of indices of R in the form ['t', 'x', 'y', 'z']\n",
    "# prints out R^c1_c2,c3,c4\n",
    "    print('************************* Riemann Tensor *************************')\n",
    "    n = np.shape(R)[0]\n",
    "    for i in range(n):\n",
    "        for j in range(n):\n",
    "            for k in range(n):\n",
    "                for q in range(n):\n",
    "                    simplified = simplify(R[i, j, k, q])\n",
    "                    if simplified != 0:\n",
    "                        print(component_list[i] + ', ' + component_list[j] + ', ' + component_list[k] + ', '\n",
    "                              + component_list[q] + ':   ')\n",
    "                        display(Math(latex(simplify(simplified))))\n",
    "                        print('---------------------------------')\n",
    "    print('******************************************************************')\n",
    "    return;\n",
    "\n",
    "def print_nonzero_ricci(R, component_list):\n",
    "# R is the Ricci tensor\n",
    "# component list is the list of coordinates in the form ['t', 'x', 'y', 'z']\n",
    "# prints out R_c1, c2\n",
    "    print('************************* Ricci Tensor *************************')\n",
    "    n = np.shape(R)[0]\n",
    "    for i in range(n):\n",
    "        for j in range(n):\n",
    "            simplified = simplify(R[i, j])\n",
    "            if simplified != 0:\n",
    "                print(component_list[i] + ', ' + component_list[j])\n",
    "                display(simplified)\n",
    "                print('---------------------------------')\n",
    "    print('******************************************************************')\n",
    "    return;\n",
    "\n",
    "def print_ricci_scalar(g):\n",
    "# finds and prints the Ricci scalar\n",
    "    R = Ricci(g)\n",
    "    metric_matrix = diffgeom.twoform_to_matrix(g)\n",
    "    metric_inv = metric_matrix.inv()\n",
    "    ricci_scalar = 0\n",
    "    for i in range(np.shape(R)[0]):\n",
    "        for j in range(np.shape(R)[0]):\n",
    "            ricci_scalar += metric_inv[i, j] * R[i, j]\n",
    "    print('************************** Ricci Scalar **************************')\n",
    "    display(Math(latex(simplify(ricci_scalar))))\n",
    "    print('******************************************************************')\n",
    "    return;\n",
    "\n",
    "def get_ricci_scalar(g):\n",
    "# finds and prints the Ricci scalar\n",
    "    R = Ricci(g)\n",
    "    metric_matrix = diffgeom.twoform_to_matrix(g)\n",
    "    metric_inv = metric_matrix.inv()\n",
    "    ricci_scalar = 0\n",
    "    for i in range(np.shape(R)[0]):\n",
    "        for j in range(np.shape(R)[0]):\n",
    "            ricci_scalar += metric_inv[i, j] * R[i, j]\n",
    "\n",
    "    return ricci_scalar;\n",
    "\n",
    "def print_nonzero_einstein(metric, component_list):\n",
    "    ricci_tensor = Ricci(metric)\n",
    "    ricci_scalar = get_ricci_scalar(metric)\n",
    "    metric_matrix = diffgeom.twoform_to_matrix(metric)\n",
    "    term1 = ricci_tensor \n",
    "    term2 = - Rational(1 / 2) * metric * ricci_scalar\n",
    "    #einstein = term1 + term2\n",
    "    display(Math(latex(simplify(term1))))\n",
    "    display(Math(latex(simplify(term2))))\n",
    "    #print('************************* Einstein Tensor *************************')\n",
    "    #for i in range(np.shape(einstein_tensor)[0]):\n",
    "    #    for j in range(np.shape(einstein_tensor[1])):\n",
    "    #        \n",
    "    #print('*******************************************************************')"
   ]
  },
  {
   "cell_type": "code",
   "execution_count": 19,
   "metadata": {},
   "outputs": [
    {
     "name": "stdout",
     "output_type": "stream",
     "text": [
      "********************** Christoffel Symbols **********************\n",
      "t, t, r:   \n"
     ]
    },
    {
     "data": {
      "text/latex": [
       "$\\displaystyle \\frac{M}{\\mathbf{r} \\left(\\mathbf{r} - 2 M\\right)}$"
      ],
      "text/plain": [
       "<IPython.core.display.Math object>"
      ]
     },
     "metadata": {},
     "output_type": "display_data"
    },
    {
     "name": "stdout",
     "output_type": "stream",
     "text": [
      "---------------------------------\n",
      "t, r, t:   \n"
     ]
    },
    {
     "data": {
      "text/latex": [
       "$\\displaystyle \\frac{M}{\\mathbf{r} \\left(\\mathbf{r} - 2 M\\right)}$"
      ],
      "text/plain": [
       "<IPython.core.display.Math object>"
      ]
     },
     "metadata": {},
     "output_type": "display_data"
    },
    {
     "name": "stdout",
     "output_type": "stream",
     "text": [
      "---------------------------------\n",
      "*****************************************************************\n"
     ]
    }
   ],
   "source": [
    "## Schwarzschild Metric\n",
    "t, r, theta, phi, M, c = symbols('t, r, theta, phi, M, c')\n",
    "m = Manifold('M', 4)\n",
    "patch = Patch('P', m)\n",
    "coords = CoordSystem('coords', patch, ['t', 'r', 'theta', 'phi'])\n",
    "t, r, theta, phi = coords.coord_functions()\n",
    "dt, dr, dtheta, dphi = coords.base_oneforms()\n",
    "\n",
    "# make my metric\n",
    "TP = diffgeom.TensorProduct\n",
    "metric = - (1 - 2 * M / r) * c**2 * TP(dt, dt) + (1 / (1 - 2 * M / r)) * TP(dr, dr) + r**2 * TP(dtheta, dtheta) + r**2 * sin(theta)**2 * TP(dphi, dphi)\n",
    "components = ['t', 'r', 'theta', 'phi']\n",
    "print_nonzero_christoffels(metric, components)\n",
    "#print_nonzero_riemann(Riemann(metric), components)\n",
    "#print_nonzero_ricci(Ricci(metric), components)\n",
    "#print_ricci_scalar(Ricci(metric), metric)\n",
    "#print_nonzero_einstein(metric, components)"
   ]
  },
  {
   "cell_type": "code",
   "execution_count": 17,
   "metadata": {},
   "outputs": [],
   "source": [
    "#my_components = [t, r, theta, phi]\n",
    "#geodesic_equations = []\n",
    "x = Symbol('x')\n",
    "R = Function('R')(x)\n",
    "geo1 = R.diff(x)"
   ]
  },
  {
   "cell_type": "code",
   "execution_count": null,
   "metadata": {},
   "outputs": [],
   "source": []
  }
 ],
 "metadata": {
  "kernelspec": {
   "display_name": "Python 3",
   "language": "python",
   "name": "python3"
  },
  "language_info": {
   "codemirror_mode": {
    "name": "ipython",
    "version": 3
   },
   "file_extension": ".py",
   "mimetype": "text/x-python",
   "name": "python",
   "nbconvert_exporter": "python",
   "pygments_lexer": "ipython3",
   "version": "3.7.3"
  }
 },
 "nbformat": 4,
 "nbformat_minor": 2
}
