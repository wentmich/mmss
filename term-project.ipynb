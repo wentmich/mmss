{
 "cells": [
  {
   "cell_type": "code",
   "execution_count": 120,
   "metadata": {},
   "outputs": [],
   "source": [
    "from sympy import exp, sin, cos, acos, tan, diffgeom, latex, pi, symbols, Rational, simplify, Function, Matrix, sqrt\n",
    "from sympy import diff, Derivative\n",
    "import numpy as np\n",
    "import matplotlib.pyplot as plt\n",
    "from sympy.diffgeom import Manifold, Patch, CoordSystem\n",
    "from sympy.diffgeom import metric_to_Riemann_components as Riemann\n",
    "from sympy.diffgeom import metric_to_Ricci_components as Ricci\n",
    "from sympy.diffgeom import metric_to_Christoffel_2nd as Christoffel\n",
    "from IPython.display import display, Math\n",
    "from sympy.tensor.array import MutableDenseNDimArray as mArray"
   ]
  },
  {
   "cell_type": "code",
   "execution_count": 121,
   "metadata": {},
   "outputs": [],
   "source": [
    "def print_nonzero_christoffels(metric, component_list):\n",
    "# given a metrix and a list of coordinates in the form ['t', 'x', 'y', 'z']\n",
    "# prints out all of the non-zero Christoffel symbols in the form Gamma^c1_c2, c3\n",
    "    print('********************** Christoffel Symbols **********************')\n",
    "    christoffels = Christoffel(metric)\n",
    "    size = len(component_list)\n",
    "    for i in range(1):\n",
    "        for j in range(size):\n",
    "            for k in range(size):\n",
    "                simplified = simplify(christoffels[i, j, k])\n",
    "                if simplified != 0:\n",
    "                    print(component_list[i] + ', ' + component_list[j] + ', ' + component_list[k] + ':   ')\n",
    "                    display(Math(latex(simplified)))\n",
    "                    print('---------------------------------')\n",
    "    print('*****************************************************************')\n",
    "    return;\n",
    "\n",
    "def print_nonzero_riemann(R, component_list):\n",
    "# R is the riemann tensor\n",
    "# component list is the list of indices of R in the form ['t', 'x', 'y', 'z']\n",
    "# prints out R^c1_c2,c3,c4\n",
    "    print('************************* Riemann Tensor *************************')\n",
    "    n = np.shape(R)[0]\n",
    "    for i in range(n):\n",
    "        for j in range(n):\n",
    "            for k in range(n):\n",
    "                for q in range(n):\n",
    "                    simplified = simplify(R[i, j, k, q])\n",
    "                    if simplified != 0:\n",
    "                        print(component_list[i] + ', ' + component_list[j] + ', ' + component_list[k] + ', '\n",
    "                              + component_list[q] + ':   ')\n",
    "                        display(Math(latex(simplify(simplified))))\n",
    "                        print('---------------------------------')\n",
    "    print('******************************************************************')\n",
    "    return;\n",
    "                        \n",
    "def print_nonzero_ricci(R, component_list):\n",
    "# R is the Ricci tensor\n",
    "# component list is the list of coordinates in the form ['t', 'x', 'y', 'z']\n",
    "# prints out R_c1, c2\n",
    "    print('************************* Ricci Tensor *************************')\n",
    "    n = np.shape(R)[0]\n",
    "    for i in range(n):\n",
    "        for j in range(n):\n",
    "            simplified = simplify(R[i, j])\n",
    "            if simplified != 0:\n",
    "                print(component_list[i] + ', ' + component_list[j])\n",
    "                display(simplified)\n",
    "                print('---------------------------------')\n",
    "    print('******************************************************************')\n",
    "    return;\n",
    "\n",
    "def print_ricci_scalar(g):\n",
    "# finds and prints the Ricci scalar\n",
    "    R = Ricci(g)\n",
    "    metric_matrix = diffgeom.twoform_to_matrix(g)\n",
    "    metric_inv = metric_matrix.inv()\n",
    "    ricci_scalar = 0\n",
    "    for i in range(np.shape(R)[0]):\n",
    "        for j in range(np.shape(R)[0]):\n",
    "            ricci_scalar += metric_inv[i, j] * R[i, j]\n",
    "    print('************************** Ricci Scalar **************************')\n",
    "    display(Math(latex(simplify(ricci_scalar))))\n",
    "    print('******************************************************************')\n",
    "    return;\n",
    "\n",
    "def get_ricci_scalar(g):\n",
    "# finds and prints the Ricci scalar\n",
    "    R = Ricci(g)\n",
    "    metric_matrix = diffgeom.twoform_to_matrix(g)\n",
    "    metric_inv = metric_matrix.inv()\n",
    "    ricci_scalar = 0\n",
    "    for i in range(np.shape(R)[0]):\n",
    "        for j in range(np.shape(R)[0]):\n",
    "            ricci_scalar += metric_inv[i, j] * R[i, j]\n",
    "\n",
    "    return ricci_scalar;\n",
    "\n",
    "def print_nonzero_einstein(metric, component_list):\n",
    "    ricci_tensor = Ricci(metric)\n",
    "    ricci_scalar = get_ricci_scalar(metric)\n",
    "    metric_matrix = diffgeom.twoform_to_matrix(metric)\n",
    "    term1 = ricci_tensor \n",
    "    term2 = - Rational(1 / 2) * metric * ricci_scalar\n",
    "    #einstein = term1 + term2\n",
    "    display(Math(latex(simplify(term1))))\n",
    "    display(Math(latex(simplify(term2))))\n",
    "    #print('************************* Einstein Tensor *************************')\n",
    "    #for i in range(np.shape(einstein_tensor)[0]):\n",
    "    #    for j in range(np.shape(einstein_tensor[1])):\n",
    "    #        \n",
    "    #print('*******************************************************************')"
   ]
  },
  {
   "cell_type": "code",
   "execution_count": 125,
   "metadata": {},
   "outputs": [
    {
     "name": "stdout",
     "output_type": "stream",
     "text": [
      "***************************** Metric *****************************\n"
     ]
    },
    {
     "data": {
      "text/latex": [
       "$\\displaystyle \\left[\\begin{matrix}-1 & 0 & 0 & 0\\\\0 & - \\frac{a^{2}{\\left(\\mathbf{t} \\right)}}{\\mathbf{r}^{2} k - 1} & 0 & 0\\\\0 & 0 & \\mathbf{r}^{2} a^{2}{\\left(\\mathbf{t} \\right)} & 0\\\\0 & 0 & 0 & \\mathbf{r}^{2} a^{2}{\\left(\\mathbf{t} \\right)} \\sin^{2}{\\left(\\mathbf{\\theta} \\right)}\\end{matrix}\\right]$"
      ],
      "text/plain": [
       "Matrix([\n",
       "[-1,                     0,            0,                          0],\n",
       "[ 0, -a(t)**2/(r**2*k - 1),            0,                          0],\n",
       "[ 0,                     0, r**2*a(t)**2,                          0],\n",
       "[ 0,                     0,            0, r**2*a(t)**2*sin(theta)**2]])"
      ]
     },
     "metadata": {},
     "output_type": "display_data"
    },
    {
     "name": "stdout",
     "output_type": "stream",
     "text": [
      "************************** Ricci Scalar **************************\n"
     ]
    },
    {
     "data": {
      "text/latex": [
       "$\\displaystyle \\frac{6 \\left(k + a{\\left(\\mathbf{t} \\right)} \\left. \\frac{d^{2}}{d \\xi^{2}} a{\\left(\\xi \\right)} \\right|_{\\substack{ \\xi=\\mathbf{t} }} + \\left. \\frac{d}{d \\xi} a{\\left(\\xi \\right)} \\right|_{\\substack{ \\xi=\\mathbf{t} }}^{2}\\right)}{a^{2}{\\left(\\mathbf{t} \\right)}}$"
      ],
      "text/plain": [
       "<IPython.core.display.Math object>"
      ]
     },
     "metadata": {},
     "output_type": "display_data"
    },
    {
     "name": "stdout",
     "output_type": "stream",
     "text": [
      "******************************************************************\n"
     ]
    }
   ],
   "source": [
    "from sympy import *\n",
    "components = ['t', 'r', 'theta', 'phi']\n",
    "t, r, theta, phi = symbols('t, r, theta, phi')\n",
    "m = Manifold('M', 4)\n",
    "patch = Patch('P', m)\n",
    "coords = CoordSystem('coords', patch, components)\n",
    "t, r, theta, phi = coords.coord_functions()\n",
    "dt, dr, dtheta, dphi = coords.base_oneforms()\n",
    "\n",
    "f = Function('f')(r)\n",
    "a = Function('a')(t)\n",
    "k = Symbol('k')\n",
    "\n",
    "# define a metric using tensor products\n",
    "TP = diffgeom.TensorProduct\n",
    "\n",
    "## function k < 0: (sqrt(6 / (k * a**2)) * sin(sqrt(k / 6) * r))\n",
    "## function k = 0: (sqrt(-6 / (k * a**2)) * sinh(sqrt(-k * a**2 / 6) * r))\n",
    "## function k > 0: (r)\n",
    "\n",
    "#metric  = TP(dr, dr) + (sqrt(6 / (k)) * sin(sqrt(k / 6) * r))**2 * (TP(dtheta, dtheta)\n",
    "#                        + sin(theta)**2 * TP(dphi, dphi))\n",
    "\n",
    "metric = -TP(dt, dt) + a**2 * ((1 / (1 - k * r**2)) * TP(dr, dr) + r**2 * TP(dtheta, dtheta) + r**2 * sin(theta)**2 * TP(dphi, dphi))\n",
    "\n",
    "print('***************************** Metric *****************************')\n",
    "display(simplify(diffgeom.twoform_to_matrix(metric)))\n",
    "print_ricci_scalar(metric)"
   ]
  },
  {
   "cell_type": "code",
   "execution_count": 136,
   "metadata": {},
   "outputs": [],
   "source": [
    "ricci = mArray(Ricci(metric))\n",
    "ricci_scalar = get_ricci_scalar(metric)\n",
    "metric_matrix = diffgeom.twoform_to_matrix(metric)\n",
    "metric_inv = metric_matrix.inv()\n",
    "\n",
    "metric_matrix = mArray(metric_matrix)\n",
    "metric_inv = mArray(metric_inv)"
   ]
  },
  {
   "cell_type": "code",
   "execution_count": 152,
   "metadata": {},
   "outputs": [
    {
     "data": {
      "text/latex": [
       "$\\displaystyle \\left[\\begin{matrix}\\frac{3 \\left(k + \\left. \\frac{d}{d \\xi} a{\\left(\\xi \\right)} \\right|_{\\substack{ \\xi=\\mathbf{t} }}^{2}\\right)}{a^{2}{\\left(\\mathbf{t} \\right)}} & 0 & 0 & 0\\\\0 & \\frac{k + 2 a{\\left(\\mathbf{t} \\right)} \\left. \\frac{d^{2}}{d \\xi^{2}} a{\\left(\\xi \\right)} \\right|_{\\substack{ \\xi=\\mathbf{t} }} + \\left. \\frac{d}{d \\xi} a{\\left(\\xi \\right)} \\right|_{\\substack{ \\xi=\\mathbf{t} }}^{2}}{\\mathbf{r}^{2} k - 1} & 0 & 0\\\\0 & 0 & - \\mathbf{r}^{2} \\left(k + 2 a{\\left(\\mathbf{t} \\right)} \\left. \\frac{d^{2}}{d \\xi^{2}} a{\\left(\\xi \\right)} \\right|_{\\substack{ \\xi=\\mathbf{t} }} + \\left. \\frac{d}{d \\xi} a{\\left(\\xi \\right)} \\right|_{\\substack{ \\xi=\\mathbf{t} }}^{2}\\right) & 0\\\\0 & 0 & 0 & - \\mathbf{r}^{2} \\left(k + 2 a{\\left(\\mathbf{t} \\right)} \\left. \\frac{d^{2}}{d \\xi^{2}} a{\\left(\\xi \\right)} \\right|_{\\substack{ \\xi=\\mathbf{t} }} + \\left. \\frac{d}{d \\xi} a{\\left(\\xi \\right)} \\right|_{\\substack{ \\xi=\\mathbf{t} }}^{2}\\right) \\sin^{2}{\\left(\\mathbf{\\theta} \\right)}\\end{matrix}\\right]$"
      ],
      "text/plain": [
       "[[3*(k + Subs(Derivative(a(_xi), _xi), _xi, t)**2)/a(t)**2, 0, 0, 0], [0, (k + 2*a(t)*Subs(Derivative(a(_xi), (_xi, 2)), _xi, t) + Subs(Derivative(a(_xi), _xi), _xi, t)**2)/(r**2*k - 1), 0, 0], [0, 0, -r**2*(k + 2*a(t)*Subs(Derivative(a(_xi), (_xi, 2)), _xi, t) + Subs(Derivative(a(_xi), _xi), _xi, t)**2), 0], [0, 0, 0, -r**2*(k + 2*a(t)*Subs(Derivative(a(_xi), (_xi, 2)), _xi, t) + Subs(Derivative(a(_xi), _xi), _xi, t)**2)*sin(theta)**2]]"
      ]
     },
     "metadata": {},
     "output_type": "display_data"
    },
    {
     "name": "stdout",
     "output_type": "stream",
     "text": [
      "\\left[\\begin{matrix}\\frac{3 \\left(k + \\left. \\frac{d}{d \\xi} a{\\left(\\xi \\right)} \\right|_{\\substack{ \\xi=\\mathbf{t} }}^{2}\\right)}{a^{2}{\\left(\\mathbf{t} \\right)}} & 0 & 0 & 0\\\\0 & \\frac{k + 2 a{\\left(\\mathbf{t} \\right)} \\left. \\frac{d^{2}}{d \\xi^{2}} a{\\left(\\xi \\right)} \\right|_{\\substack{ \\xi=\\mathbf{t} }} + \\left. \\frac{d}{d \\xi} a{\\left(\\xi \\right)} \\right|_{\\substack{ \\xi=\\mathbf{t} }}^{2}}{\\mathbf{r}^{2} k - 1} & 0 & 0\\\\0 & 0 & - \\mathbf{r}^{2} \\left(k + 2 a{\\left(\\mathbf{t} \\right)} \\left. \\frac{d^{2}}{d \\xi^{2}} a{\\left(\\xi \\right)} \\right|_{\\substack{ \\xi=\\mathbf{t} }} + \\left. \\frac{d}{d \\xi} a{\\left(\\xi \\right)} \\right|_{\\substack{ \\xi=\\mathbf{t} }}^{2}\\right) & 0\\\\0 & 0 & 0 & - \\mathbf{r}^{2} \\left(k + 2 a{\\left(\\mathbf{t} \\right)} \\left. \\frac{d^{2}}{d \\xi^{2}} a{\\left(\\xi \\right)} \\right|_{\\substack{ \\xi=\\mathbf{t} }} + \\left. \\frac{d}{d \\xi} a{\\left(\\xi \\right)} \\right|_{\\substack{ \\xi=\\mathbf{t} }}^{2}\\right) \\sin^{2}{\\left(\\mathbf{\\theta} \\right)}\\end{matrix}\\right]\n"
     ]
    }
   ],
   "source": [
    "G = ricci - Rational(1 / 2) * metric_matrix * ricci_scalar\n",
    "display(simplify(G))\n",
    "print(latex(simplify(G)))"
   ]
  },
  {
   "cell_type": "code",
   "execution_count": 98,
   "metadata": {
    "scrolled": true
   },
   "outputs": [],
   "source": [
    "f = Function('f')\n",
    "r = Symbol('r')\n",
    "k = Symbol('k')\n",
    "eq = -4 * Derivative(f(r), r, r) / f(r) - 2 * Derivative(f(r), r)**2 / f(r)**2 + 2 / (a**2 * f(r)**2) - k"
   ]
  },
  {
   "cell_type": "code",
   "execution_count": 101,
   "metadata": {},
   "outputs": [],
   "source": [
    "solution = (sqrt(6 / (k * a**2)) * sin(sqrt(k / 6) * r))"
   ]
  },
  {
   "cell_type": "code",
   "execution_count": 148,
   "metadata": {},
   "outputs": [],
   "source": [
    "rho, p = symbols('rho, p')\n",
    "T = Matrix([[-rho, 0, 0, 0],\n",
    "            [0, p, 0, 0],\n",
    "            [0, 0, p, 0],\n",
    "            [0, 0, 0, p]])"
   ]
  },
  {
   "cell_type": "code",
   "execution_count": 154,
   "metadata": {},
   "outputs": [
    {
     "data": {
      "text/latex": [
       "$\\displaystyle \\left[\\begin{matrix}\\rho & 0 & 0 & 0\\\\0 & \\frac{p a^{2}{\\left(\\mathbf{t} \\right)}}{- \\mathbf{r}^{2} k + 1} & 0 & 0\\\\0 & 0 & \\mathbf{r}^{2} p a^{2}{\\left(\\mathbf{t} \\right)} & 0\\\\0 & 0 & 0 & \\mathbf{r}^{2} p a^{2}{\\left(\\mathbf{t} \\right)} \\sin^{2}{\\left(\\mathbf{\\theta} \\right)}\\end{matrix}\\right]$"
      ],
      "text/plain": [
       "Matrix([\n",
       "[rho,                       0,              0,                            0],\n",
       "[  0, p*a(t)**2/(-r**2*k + 1),              0,                            0],\n",
       "[  0,                       0, r**2*p*a(t)**2,                            0],\n",
       "[  0,                       0,              0, r**2*p*a(t)**2*sin(theta)**2]])"
      ]
     },
     "execution_count": 154,
     "metadata": {},
     "output_type": "execute_result"
    }
   ],
   "source": [
    "Matrix(T) * diffgeom.twoform_to_matrix(metric)"
   ]
  },
  {
   "cell_type": "code",
   "execution_count": null,
   "metadata": {},
   "outputs": [],
   "source": []
  }
 ],
 "metadata": {
  "kernelspec": {
   "display_name": "Python 3",
   "language": "python",
   "name": "python3"
  },
  "language_info": {
   "codemirror_mode": {
    "name": "ipython",
    "version": 3
   },
   "file_extension": ".py",
   "mimetype": "text/x-python",
   "name": "python",
   "nbconvert_exporter": "python",
   "pygments_lexer": "ipython3",
   "version": "3.7.3"
  }
 },
 "nbformat": 4,
 "nbformat_minor": 2
}
