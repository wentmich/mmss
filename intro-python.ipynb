{
 "cells": [
  {
   "cell_type": "markdown",
   "metadata": {},
   "source": [
    "# Overview of Python\n",
    "***\n",
    "<table><tr>\n",
    "<td><img src=https://datascience.foundation/backend/web/uploads/blog/Working-with-Python-on-Cloud.png width=\"300\"></td>\n",
    "<td><img src=./mona-lisa.png width=\"300\"></td>\n",
    "<td><img src=https://i.pinimg.com/originals/0f/60/19/0f6019e15f1d8ae07e7e8ea16d242676.png width=\"300\"></td>\n",
    "</tr></table>\n",
    "\n",
    "This notebook contains a brief introduction to the basics of programming in Python. The main things we'll talk about here are:\n",
    "\n",
    "1. basic **syntax, spacing, and variable declarations**\n",
    "2. **Output** data from the computer\n",
    "3. **if/else** statements\n",
    "4. **for** loops and **while** loops\n",
    "5. importing external **packages** and functions\n",
    "6. your own **function** definitions\n",
    "\n",
    "While the examples we'll use here may seem simple and innoccuous, these techniques can be used in combination to do just about any science calculation you could ever think of. After you complete this notebook, you'll be a <font color='purple'>\"Taco Bell Programmer\"</font> (you'll have six ingredients, but a stupidly large menu).\n",
    "\n",
    "<img src=https://www.nrn.com/sites/nrn.com/files/OLD_menuboard.png width=\"500\">\n",
    "\n",
    "Me myself personally, I've used these ingredients to do anything from solving differential equations, to simulating the Universe, to making computer games, so no matter what you do after this class, Python is a crazily useful skill to have.\n",
    "***"
   ]
  },
  {
   "cell_type": "markdown",
   "metadata": {},
   "source": [
    "## Variable Declaration and Syntax\n",
    "Those of you already familiar with programming (if you aren't, don't worry, you'll find out very quickly) will know that any language is very particular about the order in which variables and commands are typed and the spacing, tabs, and lines between these commands. \n",
    "\n",
    "This persnicketiness is called **syntax**, and it's what makes computer programming possible. Basically, we need to have an established way of communicating with the computer. Unlike us, the computer is completely unable to read into a situation, and it takes everything you say at surface level. In this section, we are going to talk about how to best communicate to the computer what you want it to do.\n",
    "\n",
    "### Variable Declaration\n",
    "To begin with, we'll talk about different variable types in Python. Python has three basic variable types that we'll be using throughout the rest of this course: \n",
    "\n",
    "* integers (`int`)\n",
    "* floating points values (`float`)\n",
    "* strings (`str`)\n",
    "***\n",
    "#### Integers\n",
    "Integers are exactly what you think they are: numbers without any decimal places. This variable type is useful if we know a value needs to be exactly an integer (e.g. when we are indexing a list or array). We can declare a variable in our code using the following method.\n",
    "```python\n",
    "my_integer = int(1)\n",
    "```\n",
    "Here we've created a variable called `my_integer` and assigned it to an integer value of `1` using the `=` sign.\n",
    "***\n",
    "#### Floats\n",
    "A float is a rational number (i.e. a number with or without decimal places). The tricky thing to remember about floating point variables is that they are only exact as far as a computer can go which is 16 digits. For example, $\\pi$ is an irrational number with an infinite number of decimal places, however, because a computer can only store a finite amount of data, it will say that $\\pi = 3.141592653589793$. Just like with integer variables, we can declare a float value using the following method.\n",
    "```python\n",
    "my_float = float(1)\n",
    "```\n",
    "Here we've created a variable called `my_float` and assigned it to an floating point value of `1`.\n",
    "***\n",
    "<font color='green'>**Something to think about:**</font> Is `int(1)` equal to `float(1)`? Why or why not?\n",
    "***\n",
    "#### Strings\n",
    "Finally, a string variable is a word or a list of keyboard characters. There's nothing fancy her; we can declare a string variable using the following code.\n",
    "```python\n",
    "my_string = str(\"I love cats\")\n",
    "```\n",
    "As before, we've created a variable called `my_string` and assigned it to a string variable of value `\"I love cats\"`.\n",
    "\n",
    "<img src=./cat.png width=\"300\">\n",
    "\n",
    "\n",
    "***\n",
    "In practice, Python is a smart language and can tell what variable types we want to declare (this fact may be shocking for anyone coming from a lower-level language such as C, C++, or Java). As such, we can use the following lines of code to declare the variables from above.\n",
    "```python\n",
    "my_integer = 1\n",
    "my_float   = 1.0\n",
    "my_string  = \"I love cats\"\n",
    "```\n",
    "Note that we must use a decimal place to indicate a float, otherwise Python will assume that we want an integer.\n",
    "\n",
    "***\n",
    "#### Lists and Indexing\n",
    "Another important variable type is the \"derived variable\" which is a variable using integers, floats, or strings. The most important example for our purposes is the **list**, which enumerates elemets of a given variable type. An example is a list of banana-shaped fruits:\n",
    "```python\n",
    "fruits = [\"bananas\", \"plantains\"]\n",
    "```\n",
    "Here we have a variable `fruits` that we've assigned to a `list` of two strings. The brackets `[]` are what make it a list. We can add elements to the list using the `append()` function as shown below:\n",
    "```python\n",
    "fruits.append(\"banana melon\")\n",
    "```\n",
    "Additionally, we could empty the list like this:\n",
    "```python\n",
    "fruits = []\n",
    "```\n",
    "We can access elements of a list by indexing the list. `fruits[i]` is the element of the list `fruits` that is in the first position. An important caveat to this is that Python indexes by $0$. That is, in the above list (which is now `fruits = [bananas, plantains, banana melon]`), the zeroeth element of the list is `bananas`, the first element is `plantains`, and the second element is `banana melon`. Although this may seem counter-inuitive at first, you'll find that it actually makes a *lot* more sense than indexing by $1$.\n",
    "\n",
    "There are other types of derived variables such as arrays, dictionaries, and sets, but we'll stick to arrays for this course.\n",
    "***\n",
    "\n",
    "### Syntax\n",
    "The syntax so far is pretty basic, but there are a few important points;\n",
    "\n",
    "* Varaible names must not contain any spaces or special characters (only letters, numbers, and underscores\n",
    "* Variable names cannot begin with numbers or underscores\n",
    "* Different commands (such as new variable declarations) must be on separate lines\n",
    "\n",
    "We'll expand this list as we go."
   ]
  },
  {
   "cell_type": "markdown",
   "metadata": {},
   "source": [
    "## Output Statements\n",
    "One of the most important things to know in programming is how to get information back from the computer. For example, it's all well and good to be able to tell the computer how to determine the answer to life, the Universe, and everything, but if it can't tell you the answer, what's the point?\n",
    "\n",
    "<img src=https://images-na.ssl-images-amazon.com/images/I/719aWrD8EKL._AC_SL1500_.jpg width=\"250\">\n",
    "\n",
    "The most basic form of output is the `print()` function. The `print()` function is a built in function in Python which will print out whatever you place between the brackets. For example:\n",
    "```python\n",
    "answer = 42\n",
    "print(\"The answer to life, the Universe, and everything is: \", answer)\n",
    "```\n",
    "This code would output `The answer to life, the Universe, and everything is: 42`."
   ]
  },
  {
   "cell_type": "markdown",
   "metadata": {},
   "source": [
    "## Your First Programs (At Least for Today)\n",
    "\n",
    "### Print Statements\n",
    "Now that we know how to declare variables and output things from the computer, we can actually write a program. In the code block below, write a program that declares a string variable and assigns it to `\"Hellow, World!\"`. Then output this string variable using the `print()` function. Run the program by highlighting the cell and pressing `shift + return` (or `shift + enter` on Windows)."
   ]
  },
  {
   "cell_type": "code",
   "execution_count": 5,
   "metadata": {},
   "outputs": [],
   "source": [
    "# The hashtag means a comment line that the computer will ignore\n",
    "# Fisrt create a string variable and assign it to \"Hello, World!\"\n",
    "\n",
    "\n",
    "# Now print your variable\n"
   ]
  },
  {
   "cell_type": "markdown",
   "metadata": {},
   "source": [
    "### Simple Operations\n",
    "As we will see in the next two weeks, computers are incredibly good at doing simple math (and more complex math if you teach them). Python uses the four fundamental operations: addition (`+`), subtraction (`-`), multiplication (`*`), division (`\\`), and exponentiation (`**`). Importantly, the computer doesn't know order of operations, so when we write code, we need to be extra-explicit about the order we want operations to be performed. Let's practice using these operations by creating a program that performs the operation $\\frac{(a + b) \\times c}{d}$ for some variables $a, b, c$ and $d$ and then prints the answer. Write this program in the code block below."
   ]
  },
  {
   "cell_type": "code",
   "execution_count": 6,
   "metadata": {},
   "outputs": [],
   "source": [
    "# Define four variables a, b, c, and d with some arbitrary values\n",
    "\n",
    "\n",
    "\n",
    "\n",
    "# Now perform the operation using the proper order of operations\n",
    "\n",
    "# Finally, print out the response\n"
   ]
  },
  {
   "cell_type": "markdown",
   "metadata": {},
   "source": [
    "### Practice with Lists\n",
    "To get a feel for lists and indexing, use the following code block to make a list of your five favorite vegetables (or fruits or flavors or literally anything you want). Start by making an empty list called `my_things`, then append items individually. Finally, print the element of the list that corresponds to your favorite of the things you've appended (remember to index by zero)."
   ]
  },
  {
   "cell_type": "code",
   "execution_count": 7,
   "metadata": {},
   "outputs": [],
   "source": [
    "# Define a new variable and assign it to and empty list\n",
    "\n",
    "# Now individually append five items to the list\n",
    "\n",
    "\n",
    "\n",
    "\n",
    "\n",
    "# Finally, print out the element of your list corresponding to your favorite item in the list\n"
   ]
  },
  {
   "cell_type": "markdown",
   "metadata": {},
   "source": [
    "## if/else Statements\n",
    "\n",
    "Now that we've had a bit of practice with varaiables and lists, we'll move on to conditional commands. `if/else` statements allow you to tell the computer to execute a command *provided something is true*. The basic syntax of an if statement is shown in the following example.\n",
    "```python\n",
    "a = float(1.0)\n",
    "b = int(1)\n",
    "\n",
    "if a == b:\n",
    "    print(\"The variable a is equal to b\")\n",
    "    \n",
    "else:\n",
    "    print(\"The variable a is not equal to b\")\n",
    "```\n",
    "In this example, we test the <font color='green'>**Something to think about**</font> question from above. The computer will only run the command `print(\"The variable a is equal to b\")` if `a == b` is true (i.e. if `a` is equal to `b`). Likewise, the computer will only run the command `print(\"The variable a is not equal to b\")` if `a == b` is false (i.e. if `a` is not equal to `b`).\n",
    "***\n",
    "<font color='red'>**Note:**</font> The double equal sign `==` is used to check if two variable are equal to each other, as opposed to the single equal sign `=` which assigns a variable to a value. We can also test whether two variable are not equal using `!=`, whether one is greater than the other using `>`, or whether one is greater that *or equal to* the other using `>=`.\n",
    "***\n",
    "More complicated `if/else` statements may have multiple `if` statements followed by a single `else` statement. The operations inside of each statement may also be made more complicated and can even include more `if/else` statements (these are called *nested* statements).\n",
    "\n",
    "Another useful thing to do with `if` statements is to provide multiple conditions. We can do this by using the key words `and` and `or`. An example is shown below.\n",
    "```python\n",
    "a = 3.0\n",
    "b = 4.0\n",
    "\n",
    "if a >= b and b > 0:\n",
    "    print(\"This statement was true\")\n",
    "    \n",
    "else:\n",
    "    if a <= b and b > 0:\n",
    "        print(\"No THIS statement was true\")\n",
    "\n",
    "else:\n",
    "    print(\"Neither statement was true\")\n",
    "```\n",
    "\n",
    "***\n",
    "<font color='green'>**Something to think about:**</font> What would happen if we left off the `else` statement? In some programs, we don't want anything to happen if a condition doesn't hold true. What should we write in this case?\n",
    "***"
   ]
  },
  {
   "cell_type": "markdown",
   "metadata": {},
   "source": [
    "### Practice with if/else\n",
    "Write a program that defines two variables `a` and `b` and prints `a - b` if `a` is greater than or equal to `b` but prints `b - a` if `a` is less than `b`."
   ]
  },
  {
   "cell_type": "code",
   "execution_count": 8,
   "metadata": {},
   "outputs": [],
   "source": [
    "# Define two variables a and b arbitrarily\n",
    "\n",
    "\n",
    "# write an if statement for when a is greater than or equal to b\n",
    "\n",
    "\n",
    "# now write an else statement for when the if statement isn't true\n",
    "\n"
   ]
  },
  {
   "cell_type": "markdown",
   "metadata": {},
   "source": [
    "Now we want to write a more complicated `if/else` statement that provides more than one condition. In the following code block, write a program that defines three variables `a`, `b`, and `c` and prints them out in increasing order.\n",
    "\n",
    "<font color='red'>**Note:**</font> There is more than one way to write this program, but you may find it useful to use `and` conditions inside your `if` statements."
   ]
  },
  {
   "cell_type": "code",
   "execution_count": 9,
   "metadata": {},
   "outputs": [],
   "source": [
    "# First define all of your variables arbitrarily\n",
    "\n",
    "\n",
    "\n",
    "# now write a series of if statements that will print out the numbers in increasing order\n",
    "# you'll need to use the >, <, >=, <= symbols in your conditions\n",
    "\n",
    "\n",
    "\n",
    "\n",
    "\n",
    "\n",
    "\n"
   ]
  },
  {
   "cell_type": "markdown",
   "metadata": {},
   "source": [
    "## Loops\n",
    "\n",
    "Two super useful techniques in programming are `loops`. Basically, it can get annoying to have to write lots of code. Imagine you want the computer to add together all the numbers between one and one million. It would be a gigantic pain to write out all of those numbers, so instead we use a loop.\n",
    "\n",
    "<img src=https://i.redd.it/ig1u4mspgpz11.jpg width=300>\n",
    "\n",
    "There are two types of loops, the `for` loop and the `while` loop. Let's start with `for`.\n",
    "***\n",
    "### for Loops\n",
    "A for loop tells the computer to do a task (or series of tasks) **for** every element in a specified list. Using the above example of adding together all the integers between one and one million, we would tell the computer to do the following: set a variable called `sum`, and then *for* every number between one and one million, add the number to `sum`. The actual computer code for this command is as follows:\n",
    "```python\n",
    "sum = 0\n",
    "for i in range(1e6):\n",
    "    sum = sum + i\n",
    "```\n",
    "What we've done here is named a variables `sum` and set it to zero. Next, we've started a `for` loop where we've used a pre-installed command in `python` called `range()` to create a list of numbers between `1` and `1e6` (or one million).\n",
    "***\n",
    "### while Loops\n",
    "A while loop tells the computer to do a particular task **while** something is true. We can do a lot of the same things that a for loop does with while loops plus some extra stuff. Let's try the same example from `for` loops but with a `while` loop.\n",
    "```python\n",
    "sum = 0\n",
    "i = 0\n",
    "while i < 1e6:\n",
    "    sum = sum + i\n",
    "    i = i + 1\n",
    "```\n",
    "What we've done is declar a variable `i` which is increased by one each time we perform the task inside the loop. Once `i` becomes greater than or equal to `1e6`, the loop will stop.\n",
    "***\n",
    "\n",
    "As an exercise, try coding the two above examples but instead of `1e6` use `1e7` (or ten million). Show that both the `for` loop and the `while` loop produce the same result."
   ]
  },
  {
   "cell_type": "code",
   "execution_count": 1,
   "metadata": {},
   "outputs": [],
   "source": [
    "# Define your for loop\n",
    "\n",
    "\n",
    "\n",
    "\n",
    "\n",
    "# print out the result of your for loop summation\n",
    "\n",
    "\n",
    "# Now define your while loop\n",
    "\n",
    "\n",
    "\n",
    "\n",
    "\n",
    "# And then print out the result of your while loop summation\n",
    "\n"
   ]
  },
  {
   "cell_type": "markdown",
   "metadata": {},
   "source": [
    "## External Packages and Functions\n",
    "\n",
    "As you've seen above, there are some functions that come automatically with Python: `range()`, `print()`, `int()`, `float()`, and `str()` to name a few. Often though, there are functions we want to use that do not come pre-installed. There are two options here: we could define our own functions or we could use functions that other people have written by **importing** them. We'll talk about writing our own functions in the final section. For now, let's learn how to import functions.\n",
    "\n",
    "Functions come in **packages**. These are large blocks of code written by a bunch of other really smart people. We can import these packages and then use all of their functions using the following line of code.\n",
    "```python\n",
    "import package as pack\n",
    "```\n",
    "Now all of the functions from the code package `package` can be run in your program. The `as pack` is an indentifier so that the computer knows where the functions are coming from. If you want to use a function from `package`, say a function called `do_computer_stuff()`, you must call the function using `pack.do_computer_stuff()`. The `pack.` part tells the computer to look for the function in the files used in `package`.\n",
    "\n",
    "<img src=./graphs.png width=400>\n",
    "\n",
    "Here's an example of one of the packages we'll be using in this class. The package is a plotting software that let's us make really pretty plots (physicists love really pretty plots).\n",
    "\n",
    "```python\n",
    "import matplotlib.pyplot as plt\n",
    "\n",
    "x = range(100)\n",
    "y = x**2\n",
    "\n",
    "plt.plot(x, y)\n",
    "plt.show()\n",
    "```\n",
    "This code would import the package `matplotlib.pyplot` using the indentifier `plt`. Next, the code would create a list called `x` that ranges from `0` to `99` and a list `y` that is every entry of `x` but squared. The next line would make a plot of `x` and `y`. Finally, `plt.show()` would display the plot.\n",
    "\n",
    "Try writing this code in the box below using a different function and a different range of `x` values."
   ]
  },
  {
   "cell_type": "code",
   "execution_count": 2,
   "metadata": {},
   "outputs": [],
   "source": [
    "# import the package\n",
    "\n",
    "# make a list for x\n",
    "\n",
    "# now make a list for y\n",
    "\n",
    "# make the plot of x and y\n",
    "\n",
    "# display the plot\n"
   ]
  },
  {
   "cell_type": "markdown",
   "metadata": {},
   "source": [
    "The other two packages that we will use are `numpy` and `sympy` (pronounced \"numb - pie\" and \"sim - pie\"). `numpy` contains a bunch of mathematical functions line `sin()`, `cos()`, `exp()`, `log()`, and a BUNCH more, so we'll use that often. `sympy` is equally cool because it is a python based \"computer algebra\" system which bascially means we can perform math operations using regular equations and not only numbers (just like Mathematica which is what WolframAlpha uses).\n",
    "\n",
    "Feel free to mess around with these packages and functions a bit if you'd like, although `sympy` can take some getting used to.\n",
    "***"
   ]
  },
  {
   "cell_type": "markdown",
   "metadata": {},
   "source": [
    "## User Define Functions\n",
    "\n",
    "The last topic we'll cover here is **user define functions**. These are functions that you can write to customize what you want your computer to do. Typically, you'll write these if your code needs to execute a particular set of commands over and over and over again.\n",
    "\n",
    "For example, say you wanted to repeatedly add of the elements of a list of numbers. You could write a function to do this using the following lines of code.\n",
    "\n",
    "```python\n",
    "def sum_elements_of_list(my_list):\n",
    "    my_length = len(my_list)\n",
    "    my_sum = 0\n",
    "    \n",
    "    for i in range(my_length):\n",
    "        my_sum = my_sum + my_list[i]\n",
    "        \n",
    "    return my_sum;\n",
    "\n",
    "a_big_list = range(1e7)\n",
    "big_sum = sum_elements_of_list(a_big_list)\n",
    "\n",
    "print(big_sum)\n",
    "```\n",
    "\n",
    "Don't worry, it's a lot less complicated than it might seem. The first line defines the function called `sum_elements_of_list` which takes as an argument a list. That means you give the function a list, it spits something else out. The first line inside the function defines a variable `my_length` which is defined to be the length of the list you gave to the function. Next, we initialize the sum of the elements of the list as `0`. The next two lines are a for loop which steps through each element in the list and adds it to `my_sum`. Finally, the last line of the function spits out the sum of all the elements. \n",
    "\n",
    "The final three lines of code show you how to use the function you've written. You can see that when the function returns something, it needs to be given a place to return it to. In the example above, the place is `big_sum`.\n",
    "\n",
    "***\n",
    "#### Practice a Function\n",
    "\n",
    "Write a function that takes in a list representing the `x` variable of a graph and them plots a function of your choosing. This function should end up using at least an imported package (or more if you want a cooler function) and a loop (either a for loop of a while loop). It'll be awesome, get stoked."
   ]
  },
  {
   "cell_type": "code",
   "execution_count": 3,
   "metadata": {},
   "outputs": [],
   "source": [
    "# Make your cool function\n",
    "\n",
    "\n",
    "\n",
    "# Use your cool function to make a cool graph\n"
   ]
  },
  {
   "cell_type": "code",
   "execution_count": null,
   "metadata": {},
   "outputs": [],
   "source": []
  }
 ],
 "metadata": {
  "kernelspec": {
   "display_name": "Python 3",
   "language": "python",
   "name": "python3"
  },
  "language_info": {
   "codemirror_mode": {
    "name": "ipython",
    "version": 3
   },
   "file_extension": ".py",
   "mimetype": "text/x-python",
   "name": "python",
   "nbconvert_exporter": "python",
   "pygments_lexer": "ipython3",
   "version": "3.7.3"
  }
 },
 "nbformat": 4,
 "nbformat_minor": 2
}
