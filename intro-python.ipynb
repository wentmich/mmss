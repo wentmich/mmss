{
 "cells": [
  {
   "cell_type": "markdown",
   "metadata": {},
   "source": [
    "# Overview of Python\n",
    "***\n",
    "<table><tr>\n",
    "<td><img src=https://datascience.foundation/backend/web/uploads/blog/Working-with-Python-on-Cloud.png width=\"300\"></td>\n",
    "<td><img src=./mona-lisa.png width=\"300\"></td>\n",
    "<td><img src=https://i.pinimg.com/originals/0f/60/19/0f6019e15f1d8ae07e7e8ea16d242676.png width=\"300\"></td>\n",
    "</tr></table>\n",
    "\n",
    "This notebook contains a brief introduction to the basics of programming in Python. The main things we'll talk about here are:\n",
    "\n",
    "1. basic **syntax, spacing, and variable declarations**\n",
    "2. **Output** data from the computer\n",
    "3. **if/else** statements\n",
    "4. **for** loops and **while** loops\n",
    "5. importing external **packages** and functions\n",
    "6. your own **function** definitions\n",
    "\n",
    "While the examples we'll use here may seem simple and innoccuous, these techniques can be used in combination to do just about any science calculation you could ever think of. After you complete this notebook, you'll be a <font color='purple'>\"Taco Bell Programmer\"</font> (you'll have six ingredients, but a stupidly large menu).\n",
    "\n",
    "<img src=https://www.nrn.com/sites/nrn.com/files/OLD_menuboard.png width=\"500\">\n",
    "\n",
    "Me myself personally, I've used these ingredients to do anything from solving differential equations, to simulating the Universe, to making computer games, so no matter what you do after this class, Python is a crazily useful skill to have.\n",
    "***"
   ]
  },
  {
   "cell_type": "markdown",
   "metadata": {},
   "source": [
    "## Variable Declaration and Syntax\n",
    "Those of you already familiar with programming (if you aren't, don't worry, you'll find out very quickly) will know that any language is very particular about the order in which variables and commands are typed and the spacing, tabs, and lines between these commands. \n",
    "\n",
    "This persnicketiness is called **syntax**, and it's what makes computer programming possible. Basically, we need to have an established way of communicating with the computer. Unlike us, the computer is completely unable to read into a situation, and it takes everything you say at surface level. In this section, we are going to talk about how to best communicate to the computer what you want it to do.\n",
    "\n",
    "### Variable Declaration\n",
    "To begin with, we'll talk about different variable types in Python. Python has three basic variable types that we'll be using throughout the rest of this course: \n",
    "\n",
    "* integers (`int`)\n",
    "* floating points values (`float`)\n",
    "* strings (`str`)\n",
    "***\n",
    "#### Integers\n",
    "Integers are exactly what you think they are: numbers without any decimal places. This variable type is useful if we know a value needs to be exactly an integer (e.g. when we are indexing a list or array). We can declare a variable in our code using the following method.\n",
    "```python\n",
    "my_integer = int(1)\n",
    "```\n",
    "Here we've created a variable called `my_integer` and assigned it to an integer value of `1` using the `=` sign.\n",
    "***\n",
    "#### Floats\n",
    "A float is a rational number (i.e. a number with or without decimal places). The tricky thing to remember about floating point variables is that they are only exact as far as a computer can go which is 16 digits. For example, $\\pi$ is an irrational number with an infinite number of decimal places, however, because a computer can only store a finite amount of data, it will say that $\\pi = 3.141592653589793$. Just like with integer variables, we can declare a float value using the following method.\n",
    "```python\n",
    "my_float = float(1)\n",
    "```\n",
    "Here we've created a variable called `my_float` and assigned it to an floating point value of `1`.\n",
    "\n",
    "<font color='green'>**Something to think about:**</font> Is `int(1)` equal to `float(1)`? Why or why not?\n",
    "***\n",
    "#### Strings\n",
    "Finally, a string variable is a word or a list of keyboard characters. There's nothing fancy her; we can declare a string variable using the following code.\n",
    "```python\n",
    "my_string = str(\"I love cats\")\n",
    "```\n",
    "As before, we've created a variable called `my_string` and assigned it to a string variable of value `\"I love cats\"`.\n",
    "\n",
    "<img src=./cat.png width=\"300\">\n",
    "\n",
    "\n",
    "***\n",
    "In practice, Python is a smart language and can tell what variable types we want to declare (this fact may be shocking for anyone coming from a lower-level language such as C, C++, or Java). As such, we can use the following lines of code to declare the variables from above.\n",
    "```python\n",
    "my_integer = 1\n",
    "my_float   = 1.0\n",
    "my_string  = \"I love cats\"\n",
    "```\n",
    "Note that we must use a decimal place to indicate a float, otherwise Python will assume that we want an integer.\n",
    "\n",
    "***\n",
    "#### Lists and Indexing\n",
    "Another important variable type is the \"derived variable\" which is a variable using integers, floats, or strings. The most important example for our purposes is the **list**, which enumerates elemets of a given variable type. An example is a list of banana-shaped fruits:\n",
    "```python\n",
    "fruits = [\"bananas\", \"plantains\"]\n",
    "```\n",
    "Here we have a variable `fruits` that we've assigned to a `list` of two strings. The brackets `[]` are what make it a list. We can add elements to the list using the `append()` function as shown below:\n",
    "```python\n",
    "fruits.append(\"banana melon\")\n",
    "```\n",
    "Additionally, we could empty the list like this:\n",
    "```python\n",
    "fruits = []\n",
    "```\n",
    "We can access elements of a list by indexing the list. `fruits[i]` is the element of the list `fruits` that is in the first position. An important caveat to this is that Python indexes by $0$. That is, in the above list (which is now `fruits = [bananas, plantains, banana melon]`), the zeroeth element of the list is `bananas`, the first element is `plantains`, and the second element is `banana melon`. Although this may seem counter-inuitive at first, you'll find that it actually makes a *lot* more sense than indexing by $1$.\n",
    "\n",
    "There are other types of derived variables such as arrays, dictionaries, and sets, but we'll stick to arrays for this course.\n",
    "***\n",
    "\n",
    "### Syntax\n",
    "The syntax so far is pretty basic, but there are a few important points;\n",
    "\n",
    "* Varaible names must not contain any spaces or special characters (only letters, numbers, and underscores\n",
    "* Variable names cannot begin with numbers or underscores\n",
    "* Different commands (such as new variable declarations) must be on separate lines\n",
    "\n",
    "We'll expand this list as we go."
   ]
  },
  {
   "cell_type": "markdown",
   "metadata": {},
   "source": [
    "## Output Statements\n",
    "One of the most important things to know in programming is how to get information back from the computer. For example, it's all well and good to be able to tell the computer how to determine the answer to life, the Universe, and everything, but if it can't tell you the answer, what's the point?\n",
    "\n",
    "<img src=https://images-na.ssl-images-amazon.com/images/I/719aWrD8EKL._AC_SL1500_.jpg width=\"250\">\n",
    "\n",
    "The most basic form of output is the `print()` function. The `print()` function is a built in function in Python which will print out whatever you place between the brackets. For example:\n",
    "```python\n",
    "answer = 42\n",
    "print(\"The answer to life, the Universe, and everything is: \", answer)\n",
    "```\n",
    "This code would output `The answer to life, the Universe, and everything is: 42`."
   ]
  },
  {
   "cell_type": "markdown",
   "metadata": {},
   "source": [
    "## Your First Programs (At Least for Today)\n",
    "\n",
    "### Print Statements\n",
    "Now that we know how to declare variables and output things from the computer, we can actually write a program. In the code block below, write a program that declares a string variable and assigns it to `\"Hellow, World!\"`. Then output this string variable using the `print()` function. Run the program by highlighting the cell and pressing `shift + return` (or `shift + enter` on Windows)."
   ]
  },
  {
   "cell_type": "code",
   "execution_count": 5,
   "metadata": {},
   "outputs": [],
   "source": [
    "# The hashtag means a comment line that the computer will ignore\n",
    "# Fisrt create a string variable and assign it to \"Hello, World!\"\n",
    "\n",
    "\n",
    "# Now print your variable\n"
   ]
  },
  {
   "cell_type": "markdown",
   "metadata": {},
   "source": [
    "### Simple Operations\n",
    "As we will see in the next two weeks, computers are incredibly good at doing simple math (and more complex math if you teach them). Python uses the four fundamental operations: addition (`+`), subtraction (`-`), multiplication (`*`), and division (`\\`). Importantly, the computer doesn't know order of operations, so when we write code, we need to be extra-explicit about the order we want operations to be performed. Let's practice using these operations by creating a program that performs the operation $\\frac{(a + b) \\times c}{d}$ for some variables $a, b, c$ and $d$ and then prints the answer. Write this program in the code block below."
   ]
  },
  {
   "cell_type": "code",
   "execution_count": 6,
   "metadata": {},
   "outputs": [],
   "source": [
    "# Define four variables a, b, c, and d with some arbitrary values\n",
    "\n",
    "\n",
    "\n",
    "\n",
    "# Now perform the operation using the proper order of operations\n",
    "\n",
    "# Finally, print out the response\n"
   ]
  },
  {
   "cell_type": "markdown",
   "metadata": {},
   "source": [
    "### Practice with Lists\n",
    "To get a feel for lists and indexing, use the following code block to make a list of your five favorite vegetables (or fruits or flavors or literally anything you want). Start by making an empty list called `my_things`, then append items individually. Finally, print the element of the list that corresponds to your favorite of the things you've appended (remember to index by zero)."
   ]
  },
  {
   "cell_type": "code",
   "execution_count": 7,
   "metadata": {},
   "outputs": [],
   "source": [
    "# Define a new variable and assign it to and empty list\n",
    "\n",
    "# Now individually append five items to the list\n",
    "\n",
    "\n",
    "\n",
    "\n",
    "\n",
    "# Finally, print out the element of your list corresponding to your favorite item in the list\n"
   ]
  },
  {
   "cell_type": "markdown",
   "metadata": {},
   "source": [
    "## if/else Statements\n",
    "\n",
    "Now that we've had a bit of practice with the "
   ]
  }
 ],
 "metadata": {
  "kernelspec": {
   "display_name": "Python 3",
   "language": "python",
   "name": "python3"
  },
  "language_info": {
   "codemirror_mode": {
    "name": "ipython",
    "version": 3
   },
   "file_extension": ".py",
   "mimetype": "text/x-python",
   "name": "python",
   "nbconvert_exporter": "python",
   "pygments_lexer": "ipython3",
   "version": "3.7.3"
  }
 },
 "nbformat": 4,
 "nbformat_minor": 2
}
