{
 "cells": [
  {
   "cell_type": "markdown",
   "metadata": {},
   "source": [
    "# General Relativity in Python\n",
    "\n",
    "In this module, we will give an intorduction to basic programming in python and solve some complicated GR problems using the tools in Python such as the plotting tool `matplotlib` and the computer algebra package `Sympy`"
   ]
  },
  {
   "cell_type": "code",
   "execution_count": 1,
   "metadata": {},
   "outputs": [],
   "source": [
    "\"\"\"\n",
    "Here we import all of the necessary functions and packages that we\n",
    "won't be defining in our code. \n",
    "Sympy: a computer algebra package in python which allows us to perform\n",
    "       algebraic manipulations easily.\n",
    "Numpy: a package used for matrix algebra and basic mathematical functions\n",
    "Matplotlib: a plotting packaged which allows us to make sick figures\"\"\"\n",
    "from sympy import *\n",
    "import numpy as np\n",
    "import matplotlib.pyplot as plt\n",
    "from sympy.functions.elementary.exponential import exp\n",
    "from sympy.functions.elementary.trigonometric import sin, cos, tan\n",
    "from sympy.diffgeom import Manifold, Patch, CoordSystem\n",
    "from sympy.diffgeom import metric_to_Riemann_components as Riemann\n",
    "from sympy.diffgeom import metric_to_Ricci_components as Ricci\n",
    "from sympy.diffgeom import metric_to_Christoffel_2nd as Christoffel\n",
    "from sympy import latex\n",
    "from IPython.display import display, Math\n",
    "import sympy.diffgeom as diffgeom\n",
    "from sympy.tensor.array import MutableDenseNDimArray as mArray"
   ]
  },
  {
   "cell_type": "code",
   "execution_count": 5,
   "metadata": {},
   "outputs": [],
   "source": [
    "def print_nonzero_christoffels(metric, component_list):\n",
    "# given a metrix and a list of coordinates in the form ['t', 'x', 'y', 'z']\n",
    "# prints out all of the non-zero Christoffel symbols in the form Gamma^c1_c2, c3\n",
    "    print('********************** Christoffel Symbols **********************')\n",
    "    christoffels = Christoffel(metric)\n",
    "    size = len(component_list)\n",
    "    for i in range(1):\n",
    "        for j in range(size):\n",
    "            for k in range(size):\n",
    "                simplified = simplify(christoffels[i, j, k])\n",
    "                if simplified != 0:\n",
    "                    print(component_list[i] + ', ' + component_list[j] + ', ' + component_list[k] + ':   ')\n",
    "                    display(Math(latex(simplified)))\n",
    "                    print('---------------------------------')\n",
    "    print('*****************************************************************')\n",
    "    return;\n",
    "\n",
    "def print_nonzero_riemann(R, component_list):\n",
    "# R is the riemann tensor\n",
    "# component list is the list of indices of R in the form ['t', 'x', 'y', 'z']\n",
    "# prints out R^c1_c2,c3,c4\n",
    "    print('************************* Riemann Tensor *************************')\n",
    "    n = np.shape(R)[0]\n",
    "    for i in range(n):\n",
    "        for j in range(n):\n",
    "            for k in range(n):\n",
    "                for q in range(n):\n",
    "                    simplified = simplify(R[i, j, k, q])\n",
    "                    if simplified != 0:\n",
    "                        print(component_list[i] + ', ' + component_list[j] + ', ' + component_list[k] + ', '\n",
    "                              + component_list[q] + ':   ')\n",
    "                        display(Math(latex(simplify(simplified))))\n",
    "                        print('---------------------------------')\n",
    "    print('******************************************************************')\n",
    "    return;\n",
    "                        \n",
    "def print_nonzero_ricci(R, component_list):\n",
    "# R is the Ricci tensor\n",
    "# component list is the list of coordinates in the form ['t', 'x', 'y', 'z']\n",
    "# prints out R_c1, c2\n",
    "    print('************************* Ricci Tensor *************************')\n",
    "    n = np.shape(R)[0]\n",
    "    for i in range(n):\n",
    "        for j in range(n):\n",
    "            simplified = simplify(R[i, j])\n",
    "            if simplified != 0:\n",
    "                print(component_list[i] + ', ' + component_list[j])\n",
    "                display(simplified)\n",
    "                print('---------------------------------')\n",
    "    print('******************************************************************')\n",
    "    return;\n",
    "\n",
    "def print_ricci_scalar(g):\n",
    "# finds and prints the Ricci scalar\n",
    "    R = Ricci(g)\n",
    "    metric_matrix = diffgeom.twoform_to_matrix(g)\n",
    "    metric_inv = metric_matrix.inv()\n",
    "    ricci_scalar = 0\n",
    "    for i in range(np.shape(R)[0]):\n",
    "        for j in range(np.shape(R)[0]):\n",
    "            ricci_scalar += metric_inv[i, j] * R[i, j]\n",
    "    print('************************** Ricci Scalar **************************')\n",
    "    display(Math(latex(simplify(ricci_scalar))))\n",
    "    print('******************************************************************')\n",
    "    return;\n",
    "\n",
    "def get_ricci_scalar(g):\n",
    "# finds and prints the Ricci scalar\n",
    "    R = Ricci(g)\n",
    "    metric_matrix = diffgeom.twoform_to_matrix(g)\n",
    "    metric_inv = metric_matrix.inv()\n",
    "    ricci_scalar = 0\n",
    "    for i in range(np.shape(R)[0]):\n",
    "        for j in range(np.shape(R)[0]):\n",
    "            ricci_scalar += metric_inv[i, j] * R[i, j]\n",
    "\n",
    "    return ricci_scalar;\n",
    "\n",
    "def print_nonzero_einstein(metric, component_list):\n",
    "    ricci_tensor = Ricci(metric)\n",
    "    ricci_scalar = get_ricci_scalar(metric)\n",
    "    metric_matrix = diffgeom.twoform_to_matrix(metric)\n",
    "    term1 = ricci_tensor \n",
    "    term2 = - Rational(1 / 2) * metric * ricci_scalar\n",
    "    #einstein = term1 + term2\n",
    "    display(Math(latex(simplify(term1))))\n",
    "    display(Math(latex(simplify(term2))))\n",
    "    #print('************************* Einstein Tensor *************************')\n",
    "    #for i in range(np.shape(einstein_tensor)[0]):\n",
    "    #    for j in range(np.shape(einstein_tensor[1])):\n",
    "    #        \n",
    "    #print('*******************************************************************')"
   ]
  },
  {
   "cell_type": "code",
   "execution_count": 20,
   "metadata": {},
   "outputs": [
    {
     "name": "stdout",
     "output_type": "stream",
     "text": [
      "***************************** Metric *****************************\n"
     ]
    },
    {
     "data": {
      "text/latex": [
       "$\\displaystyle \\left[\\begin{matrix}-1 & 0 & 0 & 0\\\\0 & - \\frac{a^{2}{\\left(\\mathbf{t} \\right)}}{\\mathbf{r}^{2} k - 1} & 0 & 0\\\\0 & 0 & \\mathbf{r}^{2} a^{2}{\\left(\\mathbf{t} \\right)} & 0\\\\0 & 0 & 0 & \\mathbf{r}^{2} a^{2}{\\left(\\mathbf{t} \\right)} \\sin^{2}{\\left(\\mathbf{\\theta} \\right)}\\end{matrix}\\right]$"
      ],
      "text/plain": [
       "Matrix([\n",
       "[-1,                     0,            0,                          0],\n",
       "[ 0, -a(t)**2/(r**2*k - 1),            0,                          0],\n",
       "[ 0,                     0, r**2*a(t)**2,                          0],\n",
       "[ 0,                     0,            0, r**2*a(t)**2*sin(theta)**2]])"
      ]
     },
     "metadata": {},
     "output_type": "display_data"
    },
    {
     "name": "stdout",
     "output_type": "stream",
     "text": [
      "************************** Ricci Scalar **************************\n"
     ]
    },
    {
     "data": {
      "text/latex": [
       "$\\displaystyle \\frac{6 \\left(k + a{\\left(\\mathbf{t} \\right)} \\left. \\frac{d^{2}}{d \\xi^{2}} a{\\left(\\xi \\right)} \\right|_{\\substack{ \\xi=\\mathbf{t} }} + \\left. \\frac{d}{d \\xi} a{\\left(\\xi \\right)} \\right|_{\\substack{ \\xi=\\mathbf{t} }}^{2}\\right)}{a^{2}{\\left(\\mathbf{t} \\right)}}$"
      ],
      "text/plain": [
       "<IPython.core.display.Math object>"
      ]
     },
     "metadata": {},
     "output_type": "display_data"
    },
    {
     "name": "stdout",
     "output_type": "stream",
     "text": [
      "******************************************************************\n"
     ]
    }
   ],
   "source": [
    "## Some FLRW stuff\n",
    "components = ['t', 'r', 'theta', 'phi']\n",
    "t, r, theta, phi = symbols('t, r, theta, phi')\n",
    "m = Manifold('M', 4)\n",
    "patch = Patch('P', m)\n",
    "coords = CoordSystem('coords', patch, components)\n",
    "t, r, theta, phi = coords.coord_functions()\n",
    "dt, dr, dtheta, dphi = coords.base_oneforms()\n",
    "\n",
    "f = Function('f')(r)\n",
    "a = Function('a')(t)\n",
    "k = Symbol('k')\n",
    "\n",
    "# define a metric using tensor products\n",
    "TP = diffgeom.TensorProduct\n",
    "\n",
    "## function k < 0: (sqrt(6 / (k * a**2)) * sin(sqrt(k / 6) * r))\n",
    "## function k = 0: (sqrt(-6 / (k * a**2)) * sinh(sqrt(-k * a**2 / 6) * r))\n",
    "## function k > 0: (r)\n",
    "\n",
    "#metric  = TP(dr, dr) + (sqrt(6 / (k)) * sin(sqrt(k / 6) * r))**2 * (TP(dtheta, dtheta)\n",
    "#                        + sin(theta)**2 * TP(dphi, dphi))\n",
    "\n",
    "metric = -TP(dt, dt) + a**2 * ((1 / (1 - k * r**2)) * TP(dr, dr) + r**2 * TP(dtheta, dtheta) + r**2 * sin(theta)**2 * TP(dphi, dphi))\n",
    "\n",
    "print('***************************** Metric *****************************')\n",
    "display(simplify(diffgeom.twoform_to_matrix(metric)))\n",
    "print_ricci_scalar(metric)"
   ]
  },
  {
   "cell_type": "code",
   "execution_count": 21,
   "metadata": {},
   "outputs": [
    {
     "data": {
      "text/latex": [
       "$\\displaystyle \\left[\\begin{matrix}\\frac{3 \\left(k + \\left. \\frac{d}{d \\xi} a{\\left(\\xi \\right)} \\right|_{\\substack{ \\xi=\\mathbf{t} }}^{2}\\right)}{a^{2}{\\left(\\mathbf{t} \\right)}} & 0 & 0 & 0\\\\0 & \\frac{k + 2 a{\\left(\\mathbf{t} \\right)} \\left. \\frac{d^{2}}{d \\xi^{2}} a{\\left(\\xi \\right)} \\right|_{\\substack{ \\xi=\\mathbf{t} }} + \\left. \\frac{d}{d \\xi} a{\\left(\\xi \\right)} \\right|_{\\substack{ \\xi=\\mathbf{t} }}^{2}}{\\mathbf{r}^{2} k - 1} & 0 & 0\\\\0 & 0 & - \\mathbf{r}^{2} \\left(k + 2 a{\\left(\\mathbf{t} \\right)} \\left. \\frac{d^{2}}{d \\xi^{2}} a{\\left(\\xi \\right)} \\right|_{\\substack{ \\xi=\\mathbf{t} }} + \\left. \\frac{d}{d \\xi} a{\\left(\\xi \\right)} \\right|_{\\substack{ \\xi=\\mathbf{t} }}^{2}\\right) & 0\\\\0 & 0 & 0 & - \\mathbf{r}^{2} \\left(k + 2 a{\\left(\\mathbf{t} \\right)} \\left. \\frac{d^{2}}{d \\xi^{2}} a{\\left(\\xi \\right)} \\right|_{\\substack{ \\xi=\\mathbf{t} }} + \\left. \\frac{d}{d \\xi} a{\\left(\\xi \\right)} \\right|_{\\substack{ \\xi=\\mathbf{t} }}^{2}\\right) \\sin^{2}{\\left(\\mathbf{\\theta} \\right)}\\end{matrix}\\right]$"
      ],
      "text/plain": [
       "[[3*(k + Subs(Derivative(a(_xi), _xi), _xi, t)**2)/a(t)**2, 0, 0, 0], [0, (k + 2*a(t)*Subs(Derivative(a(_xi), (_xi, 2)), _xi, t) + Subs(Derivative(a(_xi), _xi), _xi, t)**2)/(r**2*k - 1), 0, 0], [0, 0, -r**2*(k + 2*a(t)*Subs(Derivative(a(_xi), (_xi, 2)), _xi, t) + Subs(Derivative(a(_xi), _xi), _xi, t)**2), 0], [0, 0, 0, -r**2*(k + 2*a(t)*Subs(Derivative(a(_xi), (_xi, 2)), _xi, t) + Subs(Derivative(a(_xi), _xi), _xi, t)**2)*sin(theta)**2]]"
      ]
     },
     "metadata": {},
     "output_type": "display_data"
    }
   ],
   "source": [
    "ricci = mArray(Ricci(metric))\n",
    "ricci_scalar = get_ricci_scalar(metric)\n",
    "metric_matrix = diffgeom.twoform_to_matrix(metric)\n",
    "metric_inv = metric_matrix.inv()\n",
    "\n",
    "metric_matrix = mArray(metric_matrix)\n",
    "metric_inv = mArray(metric_inv)\n",
    "\n",
    "G = ricci - Rational(1 / 2) * metric_matrix * ricci_scalar\n",
    "display(simplify(G))"
   ]
  },
  {
   "cell_type": "code",
   "execution_count": 17,
   "metadata": {
    "scrolled": true
   },
   "outputs": [
    {
     "name": "stdout",
     "output_type": "stream",
     "text": [
      "************************* Riemann Tensor *************************\n",
      "t, t, t, z:   \n"
     ]
    },
    {
     "data": {
      "text/latex": [
       "$\\displaystyle \\frac{4 e^{\\mathbf{x}}}{7}$"
      ],
      "text/plain": [
       "<IPython.core.display.Math object>"
      ]
     },
     "metadata": {},
     "output_type": "display_data"
    },
    {
     "name": "stdout",
     "output_type": "stream",
     "text": [
      "---------------------------------\n",
      "t, t, z, t:   \n"
     ]
    },
    {
     "data": {
      "text/latex": [
       "$\\displaystyle - \\frac{4 e^{\\mathbf{x}}}{7}$"
      ],
      "text/plain": [
       "<IPython.core.display.Math object>"
      ]
     },
     "metadata": {},
     "output_type": "display_data"
    },
    {
     "name": "stdout",
     "output_type": "stream",
     "text": [
      "---------------------------------\n",
      "t, x, t, x:   \n"
     ]
    },
    {
     "data": {
      "text/latex": [
       "$\\displaystyle - \\frac{2}{7}$"
      ],
      "text/plain": [
       "<IPython.core.display.Math object>"
      ]
     },
     "metadata": {},
     "output_type": "display_data"
    },
    {
     "name": "stdout",
     "output_type": "stream",
     "text": [
      "---------------------------------\n",
      "t, x, x, t:   \n"
     ]
    },
    {
     "data": {
      "text/latex": [
       "$\\displaystyle \\frac{2}{7}$"
      ],
      "text/plain": [
       "<IPython.core.display.Math object>"
      ]
     },
     "metadata": {},
     "output_type": "display_data"
    },
    {
     "name": "stdout",
     "output_type": "stream",
     "text": [
      "---------------------------------\n",
      "t, x, x, z:   \n"
     ]
    },
    {
     "data": {
      "text/latex": [
       "$\\displaystyle \\frac{2 e^{\\mathbf{x}}}{7}$"
      ],
      "text/plain": [
       "<IPython.core.display.Math object>"
      ]
     },
     "metadata": {},
     "output_type": "display_data"
    },
    {
     "name": "stdout",
     "output_type": "stream",
     "text": [
      "---------------------------------\n",
      "t, x, z, x:   \n"
     ]
    },
    {
     "data": {
      "text/latex": [
       "$\\displaystyle - \\frac{2 e^{\\mathbf{x}}}{7}$"
      ],
      "text/plain": [
       "<IPython.core.display.Math object>"
      ]
     },
     "metadata": {},
     "output_type": "display_data"
    },
    {
     "name": "stdout",
     "output_type": "stream",
     "text": [
      "---------------------------------\n",
      "t, z, t, z:   \n"
     ]
    },
    {
     "data": {
      "text/latex": [
       "$\\displaystyle \\frac{e^{2 \\mathbf{x}}}{7}$"
      ],
      "text/plain": [
       "<IPython.core.display.Math object>"
      ]
     },
     "metadata": {},
     "output_type": "display_data"
    },
    {
     "name": "stdout",
     "output_type": "stream",
     "text": [
      "---------------------------------\n",
      "t, z, z, t:   \n"
     ]
    },
    {
     "data": {
      "text/latex": [
       "$\\displaystyle - \\frac{e^{2 \\mathbf{x}}}{7}$"
      ],
      "text/plain": [
       "<IPython.core.display.Math object>"
      ]
     },
     "metadata": {},
     "output_type": "display_data"
    },
    {
     "name": "stdout",
     "output_type": "stream",
     "text": [
      "---------------------------------\n",
      "x, t, t, x:   \n"
     ]
    },
    {
     "data": {
      "text/latex": [
       "$\\displaystyle - \\frac{2}{7}$"
      ],
      "text/plain": [
       "<IPython.core.display.Math object>"
      ]
     },
     "metadata": {},
     "output_type": "display_data"
    },
    {
     "name": "stdout",
     "output_type": "stream",
     "text": [
      "---------------------------------\n",
      "x, t, x, t:   \n"
     ]
    },
    {
     "data": {
      "text/latex": [
       "$\\displaystyle \\frac{2}{7}$"
      ],
      "text/plain": [
       "<IPython.core.display.Math object>"
      ]
     },
     "metadata": {},
     "output_type": "display_data"
    },
    {
     "name": "stdout",
     "output_type": "stream",
     "text": [
      "---------------------------------\n",
      "x, t, x, z:   \n"
     ]
    },
    {
     "data": {
      "text/latex": [
       "$\\displaystyle \\frac{4 e^{\\mathbf{x}}}{7}$"
      ],
      "text/plain": [
       "<IPython.core.display.Math object>"
      ]
     },
     "metadata": {},
     "output_type": "display_data"
    },
    {
     "name": "stdout",
     "output_type": "stream",
     "text": [
      "---------------------------------\n",
      "x, t, z, x:   \n"
     ]
    },
    {
     "data": {
      "text/latex": [
       "$\\displaystyle - \\frac{4 e^{\\mathbf{x}}}{7}$"
      ],
      "text/plain": [
       "<IPython.core.display.Math object>"
      ]
     },
     "metadata": {},
     "output_type": "display_data"
    },
    {
     "name": "stdout",
     "output_type": "stream",
     "text": [
      "---------------------------------\n",
      "x, z, t, x:   \n"
     ]
    },
    {
     "data": {
      "text/latex": [
       "$\\displaystyle - \\frac{4 e^{\\mathbf{x}}}{7}$"
      ],
      "text/plain": [
       "<IPython.core.display.Math object>"
      ]
     },
     "metadata": {},
     "output_type": "display_data"
    },
    {
     "name": "stdout",
     "output_type": "stream",
     "text": [
      "---------------------------------\n",
      "x, z, x, t:   \n"
     ]
    },
    {
     "data": {
      "text/latex": [
       "$\\displaystyle \\frac{4 e^{\\mathbf{x}}}{7}$"
      ],
      "text/plain": [
       "<IPython.core.display.Math object>"
      ]
     },
     "metadata": {},
     "output_type": "display_data"
    },
    {
     "name": "stdout",
     "output_type": "stream",
     "text": [
      "---------------------------------\n",
      "x, z, x, z:   \n"
     ]
    },
    {
     "data": {
      "text/latex": [
       "$\\displaystyle \\frac{9 e^{2 \\mathbf{x}}}{14}$"
      ],
      "text/plain": [
       "<IPython.core.display.Math object>"
      ]
     },
     "metadata": {},
     "output_type": "display_data"
    },
    {
     "name": "stdout",
     "output_type": "stream",
     "text": [
      "---------------------------------\n",
      "x, z, z, x:   \n"
     ]
    },
    {
     "data": {
      "text/latex": [
       "$\\displaystyle - \\frac{9 e^{2 \\mathbf{x}}}{14}$"
      ],
      "text/plain": [
       "<IPython.core.display.Math object>"
      ]
     },
     "metadata": {},
     "output_type": "display_data"
    },
    {
     "name": "stdout",
     "output_type": "stream",
     "text": [
      "---------------------------------\n",
      "z, t, t, z:   \n"
     ]
    },
    {
     "data": {
      "text/latex": [
       "$\\displaystyle - \\frac{2}{7}$"
      ],
      "text/plain": [
       "<IPython.core.display.Math object>"
      ]
     },
     "metadata": {},
     "output_type": "display_data"
    },
    {
     "name": "stdout",
     "output_type": "stream",
     "text": [
      "---------------------------------\n",
      "z, t, z, t:   \n"
     ]
    },
    {
     "data": {
      "text/latex": [
       "$\\displaystyle \\frac{2}{7}$"
      ],
      "text/plain": [
       "<IPython.core.display.Math object>"
      ]
     },
     "metadata": {},
     "output_type": "display_data"
    },
    {
     "name": "stdout",
     "output_type": "stream",
     "text": [
      "---------------------------------\n",
      "z, x, x, z:   \n"
     ]
    },
    {
     "data": {
      "text/latex": [
       "$\\displaystyle \\frac{1}{7}$"
      ],
      "text/plain": [
       "<IPython.core.display.Math object>"
      ]
     },
     "metadata": {},
     "output_type": "display_data"
    },
    {
     "name": "stdout",
     "output_type": "stream",
     "text": [
      "---------------------------------\n",
      "z, x, z, x:   \n"
     ]
    },
    {
     "data": {
      "text/latex": [
       "$\\displaystyle - \\frac{1}{7}$"
      ],
      "text/plain": [
       "<IPython.core.display.Math object>"
      ]
     },
     "metadata": {},
     "output_type": "display_data"
    },
    {
     "name": "stdout",
     "output_type": "stream",
     "text": [
      "---------------------------------\n",
      "z, z, t, z:   \n"
     ]
    },
    {
     "data": {
      "text/latex": [
       "$\\displaystyle - \\frac{4 e^{\\mathbf{x}}}{7}$"
      ],
      "text/plain": [
       "<IPython.core.display.Math object>"
      ]
     },
     "metadata": {},
     "output_type": "display_data"
    },
    {
     "name": "stdout",
     "output_type": "stream",
     "text": [
      "---------------------------------\n",
      "z, z, z, t:   \n"
     ]
    },
    {
     "data": {
      "text/latex": [
       "$\\displaystyle \\frac{4 e^{\\mathbf{x}}}{7}$"
      ],
      "text/plain": [
       "<IPython.core.display.Math object>"
      ]
     },
     "metadata": {},
     "output_type": "display_data"
    },
    {
     "name": "stdout",
     "output_type": "stream",
     "text": [
      "---------------------------------\n",
      "******************************************************************\n",
      "************************* Ricci Tensor *************************\n",
      "t, t\n"
     ]
    },
    {
     "data": {
      "text/latex": [
       "$\\displaystyle \\frac{4}{7}$"
      ],
      "text/plain": [
       "4/7"
      ]
     },
     "metadata": {},
     "output_type": "display_data"
    },
    {
     "name": "stdout",
     "output_type": "stream",
     "text": [
      "---------------------------------\n",
      "t, z\n"
     ]
    },
    {
     "data": {
      "text/latex": [
       "$\\displaystyle \\frac{8 e^{\\mathbf{x}}}{7}$"
      ],
      "text/plain": [
       "8*exp(x)/7"
      ]
     },
     "metadata": {},
     "output_type": "display_data"
    },
    {
     "name": "stdout",
     "output_type": "stream",
     "text": [
      "---------------------------------\n",
      "x, x\n"
     ]
    },
    {
     "data": {
      "text/latex": [
       "$\\displaystyle - \\frac{3}{7}$"
      ],
      "text/plain": [
       "-3/7"
      ]
     },
     "metadata": {},
     "output_type": "display_data"
    },
    {
     "name": "stdout",
     "output_type": "stream",
     "text": [
      "---------------------------------\n",
      "z, t\n"
     ]
    },
    {
     "data": {
      "text/latex": [
       "$\\displaystyle \\frac{8 e^{\\mathbf{x}}}{7}$"
      ],
      "text/plain": [
       "8*exp(x)/7"
      ]
     },
     "metadata": {},
     "output_type": "display_data"
    },
    {
     "name": "stdout",
     "output_type": "stream",
     "text": [
      "---------------------------------\n",
      "z, z\n"
     ]
    },
    {
     "data": {
      "text/latex": [
       "$\\displaystyle \\frac{11 e^{2 \\mathbf{x}}}{14}$"
      ],
      "text/plain": [
       "11*exp(2*x)/14"
      ]
     },
     "metadata": {},
     "output_type": "display_data"
    },
    {
     "name": "stdout",
     "output_type": "stream",
     "text": [
      "---------------------------------\n",
      "******************************************************************\n",
      "************************** Ricci Scalar **************************\n"
     ]
    },
    {
     "data": {
      "text/latex": [
       "$\\displaystyle - \\frac{10}{7}$"
      ],
      "text/plain": [
       "<IPython.core.display.Math object>"
      ]
     },
     "metadata": {},
     "output_type": "display_data"
    },
    {
     "name": "stdout",
     "output_type": "stream",
     "text": [
      "******************************************************************\n"
     ]
    }
   ],
   "source": [
    "## Godel Metric\n",
    "t, x, y, z = symbols('t, x, y, z')\n",
    "m = Manifold('M', 4)\n",
    "patch = Patch('P', m)\n",
    "coords = CoordSystem('coords', patch, ['t', 'x', 'y', 'z'])\n",
    "t, x, y, z = coords.coord_functions()\n",
    "dt, dx, dy, dz = coords.base_oneforms()\n",
    "\n",
    "# make my metric\n",
    "TP = diffgeom.TensorProduct\n",
    "metric = - TP(dt, dt) - 2 * exp(x) * TP(dt, dz) - 2 * exp(x) * TP(dz, dt) + TP(dx, dx) + TP(dy, dy) - Rational(1,  2) * exp(2 * x) * TP(dz, dz)\n",
    "#Riemann(metric)\n",
    "components = ['t', 'x', 'y', 'z']\n",
    "print_nonzero_riemann(Riemann(metric), components)\n",
    "print_nonzero_ricci(Ricci(metric), components)\n",
    "print_ricci_scalar(metric)"
   ]
  },
  {
   "cell_type": "code",
   "execution_count": 56,
   "metadata": {
    "scrolled": true
   },
   "outputs": [
    {
     "name": "stdout",
     "output_type": "stream",
     "text": [
      "************************* Riemann Tensor *************************\n",
      "t, r, t, r:   \n"
     ]
    },
    {
     "data": {
      "text/latex": [
       "$\\displaystyle \\frac{2 A}{\\boldsymbol{\\mathrm{r}}^{2} \\left(\\boldsymbol{\\mathrm{r}} - 2 A\\right)}$"
      ],
      "text/plain": [
       "<IPython.core.display.Math object>"
      ]
     },
     "metadata": {},
     "output_type": "display_data"
    },
    {
     "name": "stdout",
     "output_type": "stream",
     "text": [
      "---------------------------------\n",
      "t, r, r, t:   \n"
     ]
    },
    {
     "data": {
      "text/latex": [
       "$\\displaystyle - \\frac{2 A}{\\boldsymbol{\\mathrm{r}}^{2} \\left(\\boldsymbol{\\mathrm{r}} - 2 A\\right)}$"
      ],
      "text/plain": [
       "<IPython.core.display.Math object>"
      ]
     },
     "metadata": {},
     "output_type": "display_data"
    },
    {
     "name": "stdout",
     "output_type": "stream",
     "text": [
      "---------------------------------\n",
      "t, theta, t, theta:   \n"
     ]
    },
    {
     "data": {
      "text/latex": [
       "$\\displaystyle - \\frac{A}{\\boldsymbol{\\mathrm{r}}}$"
      ],
      "text/plain": [
       "<IPython.core.display.Math object>"
      ]
     },
     "metadata": {},
     "output_type": "display_data"
    },
    {
     "name": "stdout",
     "output_type": "stream",
     "text": [
      "---------------------------------\n",
      "t, theta, theta, t:   \n"
     ]
    },
    {
     "data": {
      "text/latex": [
       "$\\displaystyle \\frac{A}{\\boldsymbol{\\mathrm{r}}}$"
      ],
      "text/plain": [
       "<IPython.core.display.Math object>"
      ]
     },
     "metadata": {},
     "output_type": "display_data"
    },
    {
     "name": "stdout",
     "output_type": "stream",
     "text": [
      "---------------------------------\n",
      "t, phi, t, phi:   \n"
     ]
    },
    {
     "data": {
      "text/latex": [
       "$\\displaystyle - \\frac{A \\sin^{2}{\\left (\\boldsymbol{\\mathrm{\\theta}} \\right )}}{\\boldsymbol{\\mathrm{r}}}$"
      ],
      "text/plain": [
       "<IPython.core.display.Math object>"
      ]
     },
     "metadata": {},
     "output_type": "display_data"
    },
    {
     "name": "stdout",
     "output_type": "stream",
     "text": [
      "---------------------------------\n",
      "t, phi, phi, t:   \n"
     ]
    },
    {
     "data": {
      "text/latex": [
       "$\\displaystyle \\frac{A \\sin^{2}{\\left (\\boldsymbol{\\mathrm{\\theta}} \\right )}}{\\boldsymbol{\\mathrm{r}}}$"
      ],
      "text/plain": [
       "<IPython.core.display.Math object>"
      ]
     },
     "metadata": {},
     "output_type": "display_data"
    },
    {
     "name": "stdout",
     "output_type": "stream",
     "text": [
      "---------------------------------\n",
      "r, t, t, r:   \n"
     ]
    },
    {
     "data": {
      "text/latex": [
       "$\\displaystyle \\frac{2 A \\left(\\boldsymbol{\\mathrm{r}} - 2 A\\right)}{\\boldsymbol{\\mathrm{r}}^{4}}$"
      ],
      "text/plain": [
       "<IPython.core.display.Math object>"
      ]
     },
     "metadata": {},
     "output_type": "display_data"
    },
    {
     "name": "stdout",
     "output_type": "stream",
     "text": [
      "---------------------------------\n",
      "r, t, r, t:   \n"
     ]
    },
    {
     "data": {
      "text/latex": [
       "$\\displaystyle - \\frac{2 A \\left(\\boldsymbol{\\mathrm{r}} - 2 A\\right)}{\\boldsymbol{\\mathrm{r}}^{4}}$"
      ],
      "text/plain": [
       "<IPython.core.display.Math object>"
      ]
     },
     "metadata": {},
     "output_type": "display_data"
    },
    {
     "name": "stdout",
     "output_type": "stream",
     "text": [
      "---------------------------------\n",
      "r, theta, r, theta:   \n"
     ]
    },
    {
     "data": {
      "text/latex": [
       "$\\displaystyle - \\frac{A}{\\boldsymbol{\\mathrm{r}}}$"
      ],
      "text/plain": [
       "<IPython.core.display.Math object>"
      ]
     },
     "metadata": {},
     "output_type": "display_data"
    },
    {
     "name": "stdout",
     "output_type": "stream",
     "text": [
      "---------------------------------\n",
      "r, theta, theta, r:   \n"
     ]
    },
    {
     "data": {
      "text/latex": [
       "$\\displaystyle \\frac{A}{\\boldsymbol{\\mathrm{r}}}$"
      ],
      "text/plain": [
       "<IPython.core.display.Math object>"
      ]
     },
     "metadata": {},
     "output_type": "display_data"
    },
    {
     "name": "stdout",
     "output_type": "stream",
     "text": [
      "---------------------------------\n",
      "r, phi, r, phi:   \n"
     ]
    },
    {
     "data": {
      "text/latex": [
       "$\\displaystyle - \\frac{A \\sin^{2}{\\left (\\boldsymbol{\\mathrm{\\theta}} \\right )}}{\\boldsymbol{\\mathrm{r}}}$"
      ],
      "text/plain": [
       "<IPython.core.display.Math object>"
      ]
     },
     "metadata": {},
     "output_type": "display_data"
    },
    {
     "name": "stdout",
     "output_type": "stream",
     "text": [
      "---------------------------------\n",
      "r, phi, phi, r:   \n"
     ]
    },
    {
     "data": {
      "text/latex": [
       "$\\displaystyle \\frac{A \\sin^{2}{\\left (\\boldsymbol{\\mathrm{\\theta}} \\right )}}{\\boldsymbol{\\mathrm{r}}}$"
      ],
      "text/plain": [
       "<IPython.core.display.Math object>"
      ]
     },
     "metadata": {},
     "output_type": "display_data"
    },
    {
     "name": "stdout",
     "output_type": "stream",
     "text": [
      "---------------------------------\n",
      "theta, t, t, theta:   \n"
     ]
    },
    {
     "data": {
      "text/latex": [
       "$\\displaystyle - \\frac{A \\left(\\boldsymbol{\\mathrm{r}} - 2 A\\right)}{\\boldsymbol{\\mathrm{r}}^{4}}$"
      ],
      "text/plain": [
       "<IPython.core.display.Math object>"
      ]
     },
     "metadata": {},
     "output_type": "display_data"
    },
    {
     "name": "stdout",
     "output_type": "stream",
     "text": [
      "---------------------------------\n",
      "theta, t, theta, t:   \n"
     ]
    },
    {
     "data": {
      "text/latex": [
       "$\\displaystyle \\frac{A \\left(\\boldsymbol{\\mathrm{r}} - 2 A\\right)}{\\boldsymbol{\\mathrm{r}}^{4}}$"
      ],
      "text/plain": [
       "<IPython.core.display.Math object>"
      ]
     },
     "metadata": {},
     "output_type": "display_data"
    },
    {
     "name": "stdout",
     "output_type": "stream",
     "text": [
      "---------------------------------\n",
      "theta, r, r, theta:   \n"
     ]
    },
    {
     "data": {
      "text/latex": [
       "$\\displaystyle \\frac{A}{\\boldsymbol{\\mathrm{r}}^{2} \\left(\\boldsymbol{\\mathrm{r}} - 2 A\\right)}$"
      ],
      "text/plain": [
       "<IPython.core.display.Math object>"
      ]
     },
     "metadata": {},
     "output_type": "display_data"
    },
    {
     "name": "stdout",
     "output_type": "stream",
     "text": [
      "---------------------------------\n",
      "theta, r, theta, r:   \n"
     ]
    },
    {
     "data": {
      "text/latex": [
       "$\\displaystyle - \\frac{A}{\\boldsymbol{\\mathrm{r}}^{2} \\left(\\boldsymbol{\\mathrm{r}} - 2 A\\right)}$"
      ],
      "text/plain": [
       "<IPython.core.display.Math object>"
      ]
     },
     "metadata": {},
     "output_type": "display_data"
    },
    {
     "name": "stdout",
     "output_type": "stream",
     "text": [
      "---------------------------------\n",
      "theta, phi, theta, phi:   \n"
     ]
    },
    {
     "data": {
      "text/latex": [
       "$\\displaystyle \\frac{2 A \\sin^{2}{\\left (\\boldsymbol{\\mathrm{\\theta}} \\right )}}{\\boldsymbol{\\mathrm{r}}}$"
      ],
      "text/plain": [
       "<IPython.core.display.Math object>"
      ]
     },
     "metadata": {},
     "output_type": "display_data"
    },
    {
     "name": "stdout",
     "output_type": "stream",
     "text": [
      "---------------------------------\n",
      "theta, phi, phi, theta:   \n"
     ]
    },
    {
     "data": {
      "text/latex": [
       "$\\displaystyle - \\frac{2 A \\sin^{2}{\\left (\\boldsymbol{\\mathrm{\\theta}} \\right )}}{\\boldsymbol{\\mathrm{r}}}$"
      ],
      "text/plain": [
       "<IPython.core.display.Math object>"
      ]
     },
     "metadata": {},
     "output_type": "display_data"
    },
    {
     "name": "stdout",
     "output_type": "stream",
     "text": [
      "---------------------------------\n",
      "phi, t, t, phi:   \n"
     ]
    },
    {
     "data": {
      "text/latex": [
       "$\\displaystyle - \\frac{A \\left(\\boldsymbol{\\mathrm{r}} - 2 A\\right)}{\\boldsymbol{\\mathrm{r}}^{4}}$"
      ],
      "text/plain": [
       "<IPython.core.display.Math object>"
      ]
     },
     "metadata": {},
     "output_type": "display_data"
    },
    {
     "name": "stdout",
     "output_type": "stream",
     "text": [
      "---------------------------------\n",
      "phi, t, phi, t:   \n"
     ]
    },
    {
     "data": {
      "text/latex": [
       "$\\displaystyle \\frac{A \\left(\\boldsymbol{\\mathrm{r}} - 2 A\\right)}{\\boldsymbol{\\mathrm{r}}^{4}}$"
      ],
      "text/plain": [
       "<IPython.core.display.Math object>"
      ]
     },
     "metadata": {},
     "output_type": "display_data"
    },
    {
     "name": "stdout",
     "output_type": "stream",
     "text": [
      "---------------------------------\n",
      "phi, r, r, phi:   \n"
     ]
    },
    {
     "data": {
      "text/latex": [
       "$\\displaystyle \\frac{A}{\\boldsymbol{\\mathrm{r}}^{2} \\left(\\boldsymbol{\\mathrm{r}} - 2 A\\right)}$"
      ],
      "text/plain": [
       "<IPython.core.display.Math object>"
      ]
     },
     "metadata": {},
     "output_type": "display_data"
    },
    {
     "name": "stdout",
     "output_type": "stream",
     "text": [
      "---------------------------------\n",
      "phi, r, phi, r:   \n"
     ]
    },
    {
     "data": {
      "text/latex": [
       "$\\displaystyle - \\frac{A}{\\boldsymbol{\\mathrm{r}}^{2} \\left(\\boldsymbol{\\mathrm{r}} - 2 A\\right)}$"
      ],
      "text/plain": [
       "<IPython.core.display.Math object>"
      ]
     },
     "metadata": {},
     "output_type": "display_data"
    },
    {
     "name": "stdout",
     "output_type": "stream",
     "text": [
      "---------------------------------\n",
      "phi, theta, theta, phi:   \n"
     ]
    },
    {
     "data": {
      "text/latex": [
       "$\\displaystyle - \\frac{2 A}{\\boldsymbol{\\mathrm{r}}}$"
      ],
      "text/plain": [
       "<IPython.core.display.Math object>"
      ]
     },
     "metadata": {},
     "output_type": "display_data"
    },
    {
     "name": "stdout",
     "output_type": "stream",
     "text": [
      "---------------------------------\n",
      "phi, theta, phi, theta:   \n"
     ]
    },
    {
     "data": {
      "text/latex": [
       "$\\displaystyle \\frac{2 A}{\\boldsymbol{\\mathrm{r}}}$"
      ],
      "text/plain": [
       "<IPython.core.display.Math object>"
      ]
     },
     "metadata": {},
     "output_type": "display_data"
    },
    {
     "name": "stdout",
     "output_type": "stream",
     "text": [
      "---------------------------------\n",
      "******************************************************************\n",
      "************************* Ricci Tensor *************************\n",
      "******************************************************************\n",
      "************************** Ricci Scalar **************************\n"
     ]
    },
    {
     "data": {
      "text/latex": [
       "$\\displaystyle 0$"
      ],
      "text/plain": [
       "<IPython.core.display.Math object>"
      ]
     },
     "metadata": {},
     "output_type": "display_data"
    },
    {
     "name": "stdout",
     "output_type": "stream",
     "text": [
      "******************************************************************\n"
     ]
    }
   ],
   "source": [
    "## Schwarzschild Metric\n",
    "t, r, theta, phi, A = symbols('t, r, theta, phi, A')\n",
    "m = Manifold('M', 4)\n",
    "patch = Patch('P', m)\n",
    "coords = CoordSystem('coords', patch, ['t', 'r', 'theta', 'phi'])\n",
    "t, r, theta, phi = coords.coord_functions()\n",
    "dt, dr, dtheta, dphi = coords.base_oneforms()\n",
    "\n",
    "# make my metric\n",
    "TP = diffgeom.TensorProduct\n",
    "metric = - (1 - 2 * A / r) * TP(dt, dt) + (1 / (1 - 2 * A / r)) * TP(dr, dr) + r**2 * TP(dtheta, dtheta) + r**2 * sin(theta)**2 * TP(dphi, dphi)\n",
    "components = ['t', 'r', 'theta', 'phi']\n",
    "print_nonzero_riemann(Riemann(metric), components)\n",
    "print_nonzero_ricci(Ricci(metric), components)\n",
    "print_ricci_scalar(Ricci(metric), metric)"
   ]
  },
  {
   "cell_type": "code",
   "execution_count": 8,
   "metadata": {},
   "outputs": [
    {
     "name": "stdout",
     "output_type": "stream",
     "text": [
      "************************* Riemann Tensor *************************\n",
      "t, r, t, r:   \n"
     ]
    },
    {
     "data": {
      "text/latex": [
       "$\\displaystyle - \\frac{1}{\\mathbf{r}^{2} - 1}$"
      ],
      "text/plain": [
       "<IPython.core.display.Math object>"
      ]
     },
     "metadata": {},
     "output_type": "display_data"
    },
    {
     "name": "stdout",
     "output_type": "stream",
     "text": [
      "---------------------------------\n",
      "t, r, r, t:   \n"
     ]
    },
    {
     "data": {
      "text/latex": [
       "$\\displaystyle \\frac{1}{\\mathbf{r}^{2} - 1}$"
      ],
      "text/plain": [
       "<IPython.core.display.Math object>"
      ]
     },
     "metadata": {},
     "output_type": "display_data"
    },
    {
     "name": "stdout",
     "output_type": "stream",
     "text": [
      "---------------------------------\n",
      "t, theta, t, theta:   \n"
     ]
    },
    {
     "data": {
      "text/latex": [
       "$\\displaystyle \\mathbf{r}^{2}$"
      ],
      "text/plain": [
       "<IPython.core.display.Math object>"
      ]
     },
     "metadata": {},
     "output_type": "display_data"
    },
    {
     "name": "stdout",
     "output_type": "stream",
     "text": [
      "---------------------------------\n",
      "t, theta, theta, t:   \n"
     ]
    },
    {
     "data": {
      "text/latex": [
       "$\\displaystyle - \\mathbf{r}^{2}$"
      ],
      "text/plain": [
       "<IPython.core.display.Math object>"
      ]
     },
     "metadata": {},
     "output_type": "display_data"
    },
    {
     "name": "stdout",
     "output_type": "stream",
     "text": [
      "---------------------------------\n",
      "t, phi, t, phi:   \n"
     ]
    },
    {
     "data": {
      "text/latex": [
       "$\\displaystyle \\mathbf{r}^{2} \\sin^{2}{\\left(\\mathbf{\\theta} \\right)}$"
      ],
      "text/plain": [
       "<IPython.core.display.Math object>"
      ]
     },
     "metadata": {},
     "output_type": "display_data"
    },
    {
     "name": "stdout",
     "output_type": "stream",
     "text": [
      "---------------------------------\n",
      "t, phi, phi, t:   \n"
     ]
    },
    {
     "data": {
      "text/latex": [
       "$\\displaystyle - \\mathbf{r}^{2} \\sin^{2}{\\left(\\mathbf{\\theta} \\right)}$"
      ],
      "text/plain": [
       "<IPython.core.display.Math object>"
      ]
     },
     "metadata": {},
     "output_type": "display_data"
    },
    {
     "name": "stdout",
     "output_type": "stream",
     "text": [
      "---------------------------------\n",
      "r, t, t, r:   \n"
     ]
    },
    {
     "data": {
      "text/latex": [
       "$\\displaystyle 1 - \\mathbf{r}^{2}$"
      ],
      "text/plain": [
       "<IPython.core.display.Math object>"
      ]
     },
     "metadata": {},
     "output_type": "display_data"
    },
    {
     "name": "stdout",
     "output_type": "stream",
     "text": [
      "---------------------------------\n",
      "r, t, r, t:   \n"
     ]
    },
    {
     "data": {
      "text/latex": [
       "$\\displaystyle \\mathbf{r}^{2} - 1$"
      ],
      "text/plain": [
       "<IPython.core.display.Math object>"
      ]
     },
     "metadata": {},
     "output_type": "display_data"
    },
    {
     "name": "stdout",
     "output_type": "stream",
     "text": [
      "---------------------------------\n",
      "r, theta, r, theta:   \n"
     ]
    },
    {
     "data": {
      "text/latex": [
       "$\\displaystyle \\mathbf{r}^{2}$"
      ],
      "text/plain": [
       "<IPython.core.display.Math object>"
      ]
     },
     "metadata": {},
     "output_type": "display_data"
    },
    {
     "name": "stdout",
     "output_type": "stream",
     "text": [
      "---------------------------------\n",
      "r, theta, theta, r:   \n"
     ]
    },
    {
     "data": {
      "text/latex": [
       "$\\displaystyle - \\mathbf{r}^{2}$"
      ],
      "text/plain": [
       "<IPython.core.display.Math object>"
      ]
     },
     "metadata": {},
     "output_type": "display_data"
    },
    {
     "name": "stdout",
     "output_type": "stream",
     "text": [
      "---------------------------------\n",
      "r, phi, r, phi:   \n"
     ]
    },
    {
     "data": {
      "text/latex": [
       "$\\displaystyle \\mathbf{r}^{2} \\sin^{2}{\\left(\\mathbf{\\theta} \\right)}$"
      ],
      "text/plain": [
       "<IPython.core.display.Math object>"
      ]
     },
     "metadata": {},
     "output_type": "display_data"
    },
    {
     "name": "stdout",
     "output_type": "stream",
     "text": [
      "---------------------------------\n",
      "r, phi, phi, r:   \n"
     ]
    },
    {
     "data": {
      "text/latex": [
       "$\\displaystyle - \\mathbf{r}^{2} \\sin^{2}{\\left(\\mathbf{\\theta} \\right)}$"
      ],
      "text/plain": [
       "<IPython.core.display.Math object>"
      ]
     },
     "metadata": {},
     "output_type": "display_data"
    },
    {
     "name": "stdout",
     "output_type": "stream",
     "text": [
      "---------------------------------\n",
      "theta, t, t, theta:   \n"
     ]
    },
    {
     "data": {
      "text/latex": [
       "$\\displaystyle 1 - \\mathbf{r}^{2}$"
      ],
      "text/plain": [
       "<IPython.core.display.Math object>"
      ]
     },
     "metadata": {},
     "output_type": "display_data"
    },
    {
     "name": "stdout",
     "output_type": "stream",
     "text": [
      "---------------------------------\n",
      "theta, t, theta, t:   \n"
     ]
    },
    {
     "data": {
      "text/latex": [
       "$\\displaystyle \\mathbf{r}^{2} - 1$"
      ],
      "text/plain": [
       "<IPython.core.display.Math object>"
      ]
     },
     "metadata": {},
     "output_type": "display_data"
    },
    {
     "name": "stdout",
     "output_type": "stream",
     "text": [
      "---------------------------------\n",
      "theta, r, r, theta:   \n"
     ]
    },
    {
     "data": {
      "text/latex": [
       "$\\displaystyle \\frac{1}{\\mathbf{r}^{2} - 1}$"
      ],
      "text/plain": [
       "<IPython.core.display.Math object>"
      ]
     },
     "metadata": {},
     "output_type": "display_data"
    },
    {
     "name": "stdout",
     "output_type": "stream",
     "text": [
      "---------------------------------\n",
      "theta, r, theta, r:   \n"
     ]
    },
    {
     "data": {
      "text/latex": [
       "$\\displaystyle - \\frac{1}{\\mathbf{r}^{2} - 1}$"
      ],
      "text/plain": [
       "<IPython.core.display.Math object>"
      ]
     },
     "metadata": {},
     "output_type": "display_data"
    },
    {
     "name": "stdout",
     "output_type": "stream",
     "text": [
      "---------------------------------\n",
      "theta, phi, theta, phi:   \n"
     ]
    },
    {
     "data": {
      "text/latex": [
       "$\\displaystyle \\mathbf{r}^{2} \\sin^{2}{\\left(\\mathbf{\\theta} \\right)}$"
      ],
      "text/plain": [
       "<IPython.core.display.Math object>"
      ]
     },
     "metadata": {},
     "output_type": "display_data"
    },
    {
     "name": "stdout",
     "output_type": "stream",
     "text": [
      "---------------------------------\n",
      "theta, phi, phi, theta:   \n"
     ]
    },
    {
     "data": {
      "text/latex": [
       "$\\displaystyle - \\mathbf{r}^{2} \\sin^{2}{\\left(\\mathbf{\\theta} \\right)}$"
      ],
      "text/plain": [
       "<IPython.core.display.Math object>"
      ]
     },
     "metadata": {},
     "output_type": "display_data"
    },
    {
     "name": "stdout",
     "output_type": "stream",
     "text": [
      "---------------------------------\n",
      "phi, t, t, phi:   \n"
     ]
    },
    {
     "data": {
      "text/latex": [
       "$\\displaystyle 1 - \\mathbf{r}^{2}$"
      ],
      "text/plain": [
       "<IPython.core.display.Math object>"
      ]
     },
     "metadata": {},
     "output_type": "display_data"
    },
    {
     "name": "stdout",
     "output_type": "stream",
     "text": [
      "---------------------------------\n",
      "phi, t, phi, t:   \n"
     ]
    },
    {
     "data": {
      "text/latex": [
       "$\\displaystyle \\mathbf{r}^{2} - 1$"
      ],
      "text/plain": [
       "<IPython.core.display.Math object>"
      ]
     },
     "metadata": {},
     "output_type": "display_data"
    },
    {
     "name": "stdout",
     "output_type": "stream",
     "text": [
      "---------------------------------\n",
      "phi, r, r, phi:   \n"
     ]
    },
    {
     "data": {
      "text/latex": [
       "$\\displaystyle \\frac{1}{\\mathbf{r}^{2} - 1}$"
      ],
      "text/plain": [
       "<IPython.core.display.Math object>"
      ]
     },
     "metadata": {},
     "output_type": "display_data"
    },
    {
     "name": "stdout",
     "output_type": "stream",
     "text": [
      "---------------------------------\n",
      "phi, r, phi, r:   \n"
     ]
    },
    {
     "data": {
      "text/latex": [
       "$\\displaystyle - \\frac{1}{\\mathbf{r}^{2} - 1}$"
      ],
      "text/plain": [
       "<IPython.core.display.Math object>"
      ]
     },
     "metadata": {},
     "output_type": "display_data"
    },
    {
     "name": "stdout",
     "output_type": "stream",
     "text": [
      "---------------------------------\n",
      "phi, theta, theta, phi:   \n"
     ]
    },
    {
     "data": {
      "text/latex": [
       "$\\displaystyle - \\mathbf{r}^{2}$"
      ],
      "text/plain": [
       "<IPython.core.display.Math object>"
      ]
     },
     "metadata": {},
     "output_type": "display_data"
    },
    {
     "name": "stdout",
     "output_type": "stream",
     "text": [
      "---------------------------------\n",
      "phi, theta, phi, theta:   \n"
     ]
    },
    {
     "data": {
      "text/latex": [
       "$\\displaystyle \\mathbf{r}^{2}$"
      ],
      "text/plain": [
       "<IPython.core.display.Math object>"
      ]
     },
     "metadata": {},
     "output_type": "display_data"
    },
    {
     "name": "stdout",
     "output_type": "stream",
     "text": [
      "---------------------------------\n",
      "******************************************************************\n",
      "************************* Ricci Tensor *************************\n",
      "t, t\n"
     ]
    },
    {
     "data": {
      "text/latex": [
       "$\\displaystyle 3 \\mathbf{r}^{2} - 3$"
      ],
      "text/plain": [
       "3*r**2 - 3"
      ]
     },
     "metadata": {},
     "output_type": "display_data"
    },
    {
     "name": "stdout",
     "output_type": "stream",
     "text": [
      "---------------------------------\n",
      "r, r\n"
     ]
    },
    {
     "data": {
      "text/latex": [
       "$\\displaystyle - \\frac{3}{\\mathbf{r}^{2} - 1}$"
      ],
      "text/plain": [
       "-3/(r**2 - 1)"
      ]
     },
     "metadata": {},
     "output_type": "display_data"
    },
    {
     "name": "stdout",
     "output_type": "stream",
     "text": [
      "---------------------------------\n",
      "theta, theta\n"
     ]
    },
    {
     "data": {
      "text/latex": [
       "$\\displaystyle 3 \\mathbf{r}^{2}$"
      ],
      "text/plain": [
       "3*r**2"
      ]
     },
     "metadata": {},
     "output_type": "display_data"
    },
    {
     "name": "stdout",
     "output_type": "stream",
     "text": [
      "---------------------------------\n",
      "phi, phi\n"
     ]
    },
    {
     "data": {
      "text/latex": [
       "$\\displaystyle 3 \\mathbf{r}^{2} \\sin^{2}{\\left(\\mathbf{\\theta} \\right)}$"
      ],
      "text/plain": [
       "3*r**2*sin(theta)**2"
      ]
     },
     "metadata": {},
     "output_type": "display_data"
    },
    {
     "name": "stdout",
     "output_type": "stream",
     "text": [
      "---------------------------------\n",
      "******************************************************************\n",
      "************************** Ricci Scalar **************************\n"
     ]
    },
    {
     "data": {
      "text/latex": [
       "$\\displaystyle 12$"
      ],
      "text/plain": [
       "<IPython.core.display.Math object>"
      ]
     },
     "metadata": {},
     "output_type": "display_data"
    },
    {
     "name": "stdout",
     "output_type": "stream",
     "text": [
      "******************************************************************\n"
     ]
    }
   ],
   "source": [
    "## de Sitter Metric\n",
    "t, r, theta, phi = symbols('t, r, theta, phi')\n",
    "m = Manifold('M', 4)\n",
    "patch = Patch('P', m)\n",
    "coords = CoordSystem('coords', patch, ['t', 'r', 'theta', 'phi'])\n",
    "t, r, theta, phi = coords.coord_functions()\n",
    "dt, dr, dtheta, dphi = coords.base_oneforms()\n",
    "\n",
    "# make my metric\n",
    "TP = diffgeom.TensorProduct\n",
    "metric = - (1 - r**2) * TP(dt, dt) + (1 / (1 - r**2)) * TP(dr, dr) + r**2 * TP(dtheta, dtheta) + r**2 * sin(theta)**2 * TP(dphi, dphi)\n",
    "components = ['t', 'r', 'theta', 'phi']\n",
    "print_nonzero_riemann(Riemann(metric), components)\n",
    "print_nonzero_ricci(Ricci(metric), components)\n",
    "print_ricci_scalar(metric)"
   ]
  },
  {
   "cell_type": "code",
   "execution_count": 9,
   "metadata": {
    "scrolled": true
   },
   "outputs": [
    {
     "name": "stdout",
     "output_type": "stream",
     "text": [
      "************************* Riemann Tensor *************************\n",
      "r, phi, r, phi:   \n"
     ]
    },
    {
     "data": {
      "text/latex": [
       "$\\displaystyle \\sin^{2}{\\left(\\frac{\\mathbf{r}}{a} \\right)}$"
      ],
      "text/plain": [
       "<IPython.core.display.Math object>"
      ]
     },
     "metadata": {},
     "output_type": "display_data"
    },
    {
     "name": "stdout",
     "output_type": "stream",
     "text": [
      "---------------------------------\n",
      "r, phi, phi, r:   \n"
     ]
    },
    {
     "data": {
      "text/latex": [
       "$\\displaystyle - \\sin^{2}{\\left(\\frac{\\mathbf{r}}{a} \\right)}$"
      ],
      "text/plain": [
       "<IPython.core.display.Math object>"
      ]
     },
     "metadata": {},
     "output_type": "display_data"
    },
    {
     "name": "stdout",
     "output_type": "stream",
     "text": [
      "---------------------------------\n",
      "phi, r, r, phi:   \n"
     ]
    },
    {
     "data": {
      "text/latex": [
       "$\\displaystyle - \\frac{1}{a^{2}}$"
      ],
      "text/plain": [
       "<IPython.core.display.Math object>"
      ]
     },
     "metadata": {},
     "output_type": "display_data"
    },
    {
     "name": "stdout",
     "output_type": "stream",
     "text": [
      "---------------------------------\n",
      "phi, r, phi, r:   \n"
     ]
    },
    {
     "data": {
      "text/latex": [
       "$\\displaystyle \\frac{1}{a^{2}}$"
      ],
      "text/plain": [
       "<IPython.core.display.Math object>"
      ]
     },
     "metadata": {},
     "output_type": "display_data"
    },
    {
     "name": "stdout",
     "output_type": "stream",
     "text": [
      "---------------------------------\n",
      "******************************************************************\n",
      "************************* Ricci Tensor *************************\n",
      "r, r\n"
     ]
    },
    {
     "data": {
      "text/latex": [
       "$\\displaystyle \\frac{1}{a^{2}}$"
      ],
      "text/plain": [
       "a**(-2)"
      ]
     },
     "metadata": {},
     "output_type": "display_data"
    },
    {
     "name": "stdout",
     "output_type": "stream",
     "text": [
      "---------------------------------\n",
      "phi, phi\n"
     ]
    },
    {
     "data": {
      "text/latex": [
       "$\\displaystyle \\sin^{2}{\\left(\\frac{\\mathbf{r}}{a} \\right)}$"
      ],
      "text/plain": [
       "sin(r/a)**2"
      ]
     },
     "metadata": {},
     "output_type": "display_data"
    },
    {
     "name": "stdout",
     "output_type": "stream",
     "text": [
      "---------------------------------\n",
      "******************************************************************\n",
      "************************** Ricci Scalar **************************\n"
     ]
    },
    {
     "data": {
      "text/latex": [
       "$\\displaystyle \\frac{2}{a^{2}}$"
      ],
      "text/plain": [
       "<IPython.core.display.Math object>"
      ]
     },
     "metadata": {},
     "output_type": "display_data"
    },
    {
     "name": "stdout",
     "output_type": "stream",
     "text": [
      "******************************************************************\n"
     ]
    }
   ],
   "source": [
    "## Gott-Hiscock Metric\n",
    "t, r, phi, z, a = symbols('t, r, phi, z, a')\n",
    "m = Manifold('M', 4)\n",
    "patch = Patch('P', m)\n",
    "coords = CoordSystem('coords', patch, ['t', 'r', 'phi', 'z'])\n",
    "t, r, phi, z = coords.coord_functions()\n",
    "dt, dr, dphi, dz = coords.base_oneforms()\n",
    "\n",
    "# make my metric\n",
    "TP = diffgeom.TensorProduct\n",
    "metric = - TP(dt, dt) + TP(dr, dr) + a**2 * sin(r / a)**2 * TP(dphi, dphi) + TP(dz, dz)\n",
    "components = ['t', 'r', 'phi', 'z']\n",
    "print_nonzero_riemann(Riemann(metric), components)\n",
    "print_nonzero_ricci(Ricci(metric), components)\n",
    "print_ricci_scalar(metric)"
   ]
  },
  {
   "cell_type": "code",
   "execution_count": 59,
   "metadata": {
    "scrolled": true
   },
   "outputs": [
    {
     "name": "stdout",
     "output_type": "stream",
     "text": [
      "************************* Riemann Tensor *************************\n",
      "t, r, t, r:   \n"
     ]
    },
    {
     "data": {
      "text/latex": [
       "$\\displaystyle \\frac{\\boldsymbol{\\mathrm{r}}^{2}}{\\boldsymbol{\\mathrm{r}}^{2} + 1}$"
      ],
      "text/plain": [
       "<IPython.core.display.Math object>"
      ]
     },
     "metadata": {},
     "output_type": "display_data"
    },
    {
     "name": "stdout",
     "output_type": "stream",
     "text": [
      "---------------------------------\n",
      "t, r, r, t:   \n"
     ]
    },
    {
     "data": {
      "text/latex": [
       "$\\displaystyle - \\frac{\\boldsymbol{\\mathrm{r}}^{2}}{\\boldsymbol{\\mathrm{r}}^{2} + 1}$"
      ],
      "text/plain": [
       "<IPython.core.display.Math object>"
      ]
     },
     "metadata": {},
     "output_type": "display_data"
    },
    {
     "name": "stdout",
     "output_type": "stream",
     "text": [
      "---------------------------------\n",
      "t, r, phi, z:   \n"
     ]
    },
    {
     "data": {
      "text/latex": [
       "$\\displaystyle - \\frac{\\boldsymbol{\\mathrm{r}}^{3} \\sin{\\left (2 \\boldsymbol{\\mathrm{\\theta}} \\right )}}{2 \\boldsymbol{\\mathrm{r}}^{2} + 2}$"
      ],
      "text/plain": [
       "<IPython.core.display.Math object>"
      ]
     },
     "metadata": {},
     "output_type": "display_data"
    },
    {
     "name": "stdout",
     "output_type": "stream",
     "text": [
      "---------------------------------\n",
      "t, r, z, phi:   \n"
     ]
    },
    {
     "data": {
      "text/latex": [
       "$\\displaystyle \\frac{\\boldsymbol{\\mathrm{r}}^{3} \\sin{\\left (2 \\boldsymbol{\\mathrm{\\theta}} \\right )}}{2 \\left(\\boldsymbol{\\mathrm{r}}^{2} + 1\\right)}$"
      ],
      "text/plain": [
       "<IPython.core.display.Math object>"
      ]
     },
     "metadata": {},
     "output_type": "display_data"
    },
    {
     "name": "stdout",
     "output_type": "stream",
     "text": [
      "---------------------------------\n",
      "t, phi, t, phi:   \n"
     ]
    },
    {
     "data": {
      "text/latex": [
       "$\\displaystyle \\frac{\\boldsymbol{\\mathrm{r}}^{2} \\left(\\frac{\\boldsymbol{\\mathrm{r}}^{4} \\left(- \\cos{\\left (4 \\boldsymbol{\\mathrm{\\theta}} \\right )} + 1\\right)}{4} + 2 \\boldsymbol{\\mathrm{r}}^{4} \\cos^{4}{\\left (\\boldsymbol{\\mathrm{\\theta}} \\right )} - \\boldsymbol{\\mathrm{r}}^{4} \\cos^{2}{\\left (\\boldsymbol{\\mathrm{\\theta}} \\right )} + \\frac{\\boldsymbol{\\mathrm{r}}^{2} \\left(\\cos{\\left (4 \\boldsymbol{\\mathrm{\\theta}} \\right )} - 1\\right)}{4} + 4 \\boldsymbol{\\mathrm{r}}^{2} \\sin^{2}{\\left (\\boldsymbol{\\mathrm{\\theta}} \\right )} - 2 \\boldsymbol{\\mathrm{r}}^{2} \\cos^{4}{\\left (\\boldsymbol{\\mathrm{\\theta}} \\right )} + 4 \\boldsymbol{\\mathrm{r}}^{2} \\cos^{2}{\\left (\\boldsymbol{\\mathrm{\\theta}} \\right )} - 3 \\cos^{2}{\\left (\\boldsymbol{\\mathrm{\\theta}} \\right )} + 4\\right) \\sin^{2}{\\left (\\boldsymbol{\\mathrm{\\theta}} \\right )}}{\\boldsymbol{\\mathrm{r}}^{6} \\sin^{2}{\\left (\\boldsymbol{\\mathrm{\\theta}} \\right )} + \\boldsymbol{\\mathrm{r}}^{6} \\cos^{2}{\\left (\\boldsymbol{\\mathrm{\\theta}} \\right )} + 2 \\boldsymbol{\\mathrm{r}}^{4} \\sin^{2}{\\left (\\boldsymbol{\\mathrm{\\theta}} \\right )} + 2 \\boldsymbol{\\mathrm{r}}^{4} \\cos^{2}{\\left (\\boldsymbol{\\mathrm{\\theta}} \\right )} + \\boldsymbol{\\mathrm{r}}^{4} + \\boldsymbol{\\mathrm{r}}^{2} \\sin^{2}{\\left (\\boldsymbol{\\mathrm{\\theta}} \\right )} + \\boldsymbol{\\mathrm{r}}^{2} \\cos^{2}{\\left (\\boldsymbol{\\mathrm{\\theta}} \\right )} + 2 \\boldsymbol{\\mathrm{r}}^{2} + 1}$"
      ],
      "text/plain": [
       "<IPython.core.display.Math object>"
      ]
     },
     "metadata": {},
     "output_type": "display_data"
    },
    {
     "name": "stdout",
     "output_type": "stream",
     "text": [
      "---------------------------------\n",
      "t, phi, t, z:   \n"
     ]
    },
    {
     "data": {
      "text/latex": [
       "$\\displaystyle \\frac{\\boldsymbol{\\mathrm{r}}^{2} \\left(\\boldsymbol{\\mathrm{r}}^{2} \\cos{\\left (4 \\boldsymbol{\\mathrm{\\theta}} \\right )} - \\boldsymbol{\\mathrm{r}}^{2} - 3 \\cos{\\left (4 \\boldsymbol{\\mathrm{\\theta}} \\right )} + 3\\right)}{8 \\left(\\boldsymbol{\\mathrm{r}}^{4} + 2 \\boldsymbol{\\mathrm{r}}^{2} + 1\\right)}$"
      ],
      "text/plain": [
       "<IPython.core.display.Math object>"
      ]
     },
     "metadata": {},
     "output_type": "display_data"
    },
    {
     "name": "stdout",
     "output_type": "stream",
     "text": [
      "---------------------------------\n",
      "t, phi, r, phi:   \n"
     ]
    },
    {
     "data": {
      "text/latex": [
       "$\\displaystyle - \\frac{\\boldsymbol{\\mathrm{r}}^{3} \\left(4 \\boldsymbol{\\mathrm{r}}^{2} \\sin{\\left (2 \\boldsymbol{\\mathrm{\\theta}} \\right )} \\cos{\\left (2 \\boldsymbol{\\mathrm{\\theta}} \\right )} - 6 \\boldsymbol{\\mathrm{r}}^{2} \\sin{\\left (2 \\boldsymbol{\\mathrm{\\theta}} \\right )} + \\boldsymbol{\\mathrm{r}}^{2} \\sin{\\left (4 \\boldsymbol{\\mathrm{\\theta}} \\right )} - 6 \\sin{\\left (2 \\boldsymbol{\\mathrm{\\theta}} \\right )} + 3 \\sin{\\left (4 \\boldsymbol{\\mathrm{\\theta}} \\right )}\\right)}{8 \\boldsymbol{\\mathrm{r}}^{4} + 16 \\boldsymbol{\\mathrm{r}}^{2} + 8}$"
      ],
      "text/plain": [
       "<IPython.core.display.Math object>"
      ]
     },
     "metadata": {},
     "output_type": "display_data"
    },
    {
     "name": "stdout",
     "output_type": "stream",
     "text": [
      "---------------------------------\n",
      "t, phi, r, z:   \n"
     ]
    },
    {
     "data": {
      "text/latex": [
       "$\\displaystyle \\frac{\\boldsymbol{\\mathrm{r}}^{3} \\left(4 \\boldsymbol{\\mathrm{r}}^{2} \\sin{\\left (2 \\boldsymbol{\\mathrm{\\theta}} \\right )} \\cos{\\left (2 \\boldsymbol{\\mathrm{\\theta}} \\right )} - 2 \\boldsymbol{\\mathrm{r}}^{2} \\sin{\\left (2 \\boldsymbol{\\mathrm{\\theta}} \\right )} + \\boldsymbol{\\mathrm{r}}^{2} \\sin{\\left (4 \\boldsymbol{\\mathrm{\\theta}} \\right )} - 2 \\sin{\\left (2 \\boldsymbol{\\mathrm{\\theta}} \\right )} + 3 \\sin{\\left (4 \\boldsymbol{\\mathrm{\\theta}} \\right )}\\right)}{8 \\left(\\boldsymbol{\\mathrm{r}}^{4} + 2 \\boldsymbol{\\mathrm{r}}^{2} + 1\\right)}$"
      ],
      "text/plain": [
       "<IPython.core.display.Math object>"
      ]
     },
     "metadata": {},
     "output_type": "display_data"
    },
    {
     "name": "stdout",
     "output_type": "stream",
     "text": [
      "---------------------------------\n",
      "t, phi, phi, t:   \n"
     ]
    },
    {
     "data": {
      "text/latex": [
       "$\\displaystyle \\frac{\\boldsymbol{\\mathrm{r}}^{2} \\left(- \\frac{\\boldsymbol{\\mathrm{r}}^{4} \\left(- \\cos{\\left (4 \\boldsymbol{\\mathrm{\\theta}} \\right )} + 1\\right)}{4} - 2 \\boldsymbol{\\mathrm{r}}^{4} \\cos^{4}{\\left (\\boldsymbol{\\mathrm{\\theta}} \\right )} + \\boldsymbol{\\mathrm{r}}^{4} \\cos^{2}{\\left (\\boldsymbol{\\mathrm{\\theta}} \\right )} - \\frac{\\boldsymbol{\\mathrm{r}}^{2} \\left(\\cos{\\left (4 \\boldsymbol{\\mathrm{\\theta}} \\right )} - 1\\right)}{4} - 4 \\boldsymbol{\\mathrm{r}}^{2} \\sin^{2}{\\left (\\boldsymbol{\\mathrm{\\theta}} \\right )} + 2 \\boldsymbol{\\mathrm{r}}^{2} \\cos^{4}{\\left (\\boldsymbol{\\mathrm{\\theta}} \\right )} - 4 \\boldsymbol{\\mathrm{r}}^{2} \\cos^{2}{\\left (\\boldsymbol{\\mathrm{\\theta}} \\right )} + 3 \\cos^{2}{\\left (\\boldsymbol{\\mathrm{\\theta}} \\right )} - 4\\right) \\sin^{2}{\\left (\\boldsymbol{\\mathrm{\\theta}} \\right )}}{\\boldsymbol{\\mathrm{r}}^{6} \\sin^{2}{\\left (\\boldsymbol{\\mathrm{\\theta}} \\right )} + \\boldsymbol{\\mathrm{r}}^{6} \\cos^{2}{\\left (\\boldsymbol{\\mathrm{\\theta}} \\right )} + 2 \\boldsymbol{\\mathrm{r}}^{4} \\sin^{2}{\\left (\\boldsymbol{\\mathrm{\\theta}} \\right )} + 2 \\boldsymbol{\\mathrm{r}}^{4} \\cos^{2}{\\left (\\boldsymbol{\\mathrm{\\theta}} \\right )} + \\boldsymbol{\\mathrm{r}}^{4} + \\boldsymbol{\\mathrm{r}}^{2} \\sin^{2}{\\left (\\boldsymbol{\\mathrm{\\theta}} \\right )} + \\boldsymbol{\\mathrm{r}}^{2} \\cos^{2}{\\left (\\boldsymbol{\\mathrm{\\theta}} \\right )} + 2 \\boldsymbol{\\mathrm{r}}^{2} + 1}$"
      ],
      "text/plain": [
       "<IPython.core.display.Math object>"
      ]
     },
     "metadata": {},
     "output_type": "display_data"
    },
    {
     "name": "stdout",
     "output_type": "stream",
     "text": [
      "---------------------------------\n",
      "t, phi, phi, r:   \n"
     ]
    },
    {
     "data": {
      "text/latex": [
       "$\\displaystyle \\frac{\\boldsymbol{\\mathrm{r}}^{3} \\left(4 \\boldsymbol{\\mathrm{r}}^{2} \\sin{\\left (2 \\boldsymbol{\\mathrm{\\theta}} \\right )} \\cos{\\left (2 \\boldsymbol{\\mathrm{\\theta}} \\right )} - 6 \\boldsymbol{\\mathrm{r}}^{2} \\sin{\\left (2 \\boldsymbol{\\mathrm{\\theta}} \\right )} + \\boldsymbol{\\mathrm{r}}^{2} \\sin{\\left (4 \\boldsymbol{\\mathrm{\\theta}} \\right )} - 6 \\sin{\\left (2 \\boldsymbol{\\mathrm{\\theta}} \\right )} + 3 \\sin{\\left (4 \\boldsymbol{\\mathrm{\\theta}} \\right )}\\right)}{8 \\left(\\boldsymbol{\\mathrm{r}}^{4} + 2 \\boldsymbol{\\mathrm{r}}^{2} + 1\\right)}$"
      ],
      "text/plain": [
       "<IPython.core.display.Math object>"
      ]
     },
     "metadata": {},
     "output_type": "display_data"
    },
    {
     "name": "stdout",
     "output_type": "stream",
     "text": [
      "---------------------------------\n",
      "t, phi, z, t:   \n"
     ]
    },
    {
     "data": {
      "text/latex": [
       "$\\displaystyle - \\frac{\\boldsymbol{\\mathrm{r}}^{2} \\left(\\boldsymbol{\\mathrm{r}}^{2} \\cos{\\left (4 \\boldsymbol{\\mathrm{\\theta}} \\right )} - \\boldsymbol{\\mathrm{r}}^{2} - 3 \\cos{\\left (4 \\boldsymbol{\\mathrm{\\theta}} \\right )} + 3\\right)}{8 \\boldsymbol{\\mathrm{r}}^{4} + 16 \\boldsymbol{\\mathrm{r}}^{2} + 8}$"
      ],
      "text/plain": [
       "<IPython.core.display.Math object>"
      ]
     },
     "metadata": {},
     "output_type": "display_data"
    },
    {
     "name": "stdout",
     "output_type": "stream",
     "text": [
      "---------------------------------\n",
      "t, phi, z, r:   \n"
     ]
    },
    {
     "data": {
      "text/latex": [
       "$\\displaystyle - \\frac{\\boldsymbol{\\mathrm{r}}^{3} \\left(4 \\boldsymbol{\\mathrm{r}}^{2} \\sin{\\left (2 \\boldsymbol{\\mathrm{\\theta}} \\right )} \\cos{\\left (2 \\boldsymbol{\\mathrm{\\theta}} \\right )} - 2 \\boldsymbol{\\mathrm{r}}^{2} \\sin{\\left (2 \\boldsymbol{\\mathrm{\\theta}} \\right )} + \\boldsymbol{\\mathrm{r}}^{2} \\sin{\\left (4 \\boldsymbol{\\mathrm{\\theta}} \\right )} - 2 \\sin{\\left (2 \\boldsymbol{\\mathrm{\\theta}} \\right )} + 3 \\sin{\\left (4 \\boldsymbol{\\mathrm{\\theta}} \\right )}\\right)}{8 \\boldsymbol{\\mathrm{r}}^{4} + 16 \\boldsymbol{\\mathrm{r}}^{2} + 8}$"
      ],
      "text/plain": [
       "<IPython.core.display.Math object>"
      ]
     },
     "metadata": {},
     "output_type": "display_data"
    },
    {
     "name": "stdout",
     "output_type": "stream",
     "text": [
      "---------------------------------\n",
      "t, z, t, phi:   \n"
     ]
    },
    {
     "data": {
      "text/latex": [
       "$\\displaystyle \\frac{\\boldsymbol{\\mathrm{r}}^{2} \\left(\\boldsymbol{\\mathrm{r}}^{2} \\cos{\\left (4 \\boldsymbol{\\mathrm{\\theta}} \\right )} - \\boldsymbol{\\mathrm{r}}^{2} - 3 \\cos{\\left (4 \\boldsymbol{\\mathrm{\\theta}} \\right )} + 3\\right)}{8 \\left(\\boldsymbol{\\mathrm{r}}^{4} + 2 \\boldsymbol{\\mathrm{r}}^{2} + 1\\right)}$"
      ],
      "text/plain": [
       "<IPython.core.display.Math object>"
      ]
     },
     "metadata": {},
     "output_type": "display_data"
    },
    {
     "name": "stdout",
     "output_type": "stream",
     "text": [
      "---------------------------------\n",
      "t, z, t, z:   \n"
     ]
    },
    {
     "data": {
      "text/latex": [
       "$\\displaystyle \\frac{\\boldsymbol{\\mathrm{r}}^{2} \\left(\\frac{\\boldsymbol{\\mathrm{r}}^{4} \\left(- \\cos{\\left (4 \\boldsymbol{\\mathrm{\\theta}} \\right )} + 1\\right)}{4} + 2 \\boldsymbol{\\mathrm{r}}^{4} \\sin^{4}{\\left (\\boldsymbol{\\mathrm{\\theta}} \\right )} - \\boldsymbol{\\mathrm{r}}^{4} \\sin^{2}{\\left (\\boldsymbol{\\mathrm{\\theta}} \\right )} + \\frac{\\boldsymbol{\\mathrm{r}}^{2} \\left(\\cos{\\left (4 \\boldsymbol{\\mathrm{\\theta}} \\right )} - 1\\right)}{4} - 2 \\boldsymbol{\\mathrm{r}}^{2} \\sin^{4}{\\left (\\boldsymbol{\\mathrm{\\theta}} \\right )} + 4 \\boldsymbol{\\mathrm{r}}^{2} \\sin^{2}{\\left (\\boldsymbol{\\mathrm{\\theta}} \\right )} + 4 \\boldsymbol{\\mathrm{r}}^{2} \\cos^{2}{\\left (\\boldsymbol{\\mathrm{\\theta}} \\right )} - 3 \\sin^{2}{\\left (\\boldsymbol{\\mathrm{\\theta}} \\right )} + 4\\right) \\cos^{2}{\\left (\\boldsymbol{\\mathrm{\\theta}} \\right )}}{\\boldsymbol{\\mathrm{r}}^{6} \\sin^{2}{\\left (\\boldsymbol{\\mathrm{\\theta}} \\right )} + \\boldsymbol{\\mathrm{r}}^{6} \\cos^{2}{\\left (\\boldsymbol{\\mathrm{\\theta}} \\right )} + 2 \\boldsymbol{\\mathrm{r}}^{4} \\sin^{2}{\\left (\\boldsymbol{\\mathrm{\\theta}} \\right )} + 2 \\boldsymbol{\\mathrm{r}}^{4} \\cos^{2}{\\left (\\boldsymbol{\\mathrm{\\theta}} \\right )} + \\boldsymbol{\\mathrm{r}}^{4} + \\boldsymbol{\\mathrm{r}}^{2} \\sin^{2}{\\left (\\boldsymbol{\\mathrm{\\theta}} \\right )} + \\boldsymbol{\\mathrm{r}}^{2} \\cos^{2}{\\left (\\boldsymbol{\\mathrm{\\theta}} \\right )} + 2 \\boldsymbol{\\mathrm{r}}^{2} + 1}$"
      ],
      "text/plain": [
       "<IPython.core.display.Math object>"
      ]
     },
     "metadata": {},
     "output_type": "display_data"
    },
    {
     "name": "stdout",
     "output_type": "stream",
     "text": [
      "---------------------------------\n",
      "t, z, r, phi:   \n"
     ]
    },
    {
     "data": {
      "text/latex": [
       "$\\displaystyle \\frac{\\boldsymbol{\\mathrm{r}}^{3} \\left(4 \\boldsymbol{\\mathrm{r}}^{2} \\sin{\\left (2 \\boldsymbol{\\mathrm{\\theta}} \\right )} \\cos{\\left (2 \\boldsymbol{\\mathrm{\\theta}} \\right )} + 2 \\boldsymbol{\\mathrm{r}}^{2} \\sin{\\left (2 \\boldsymbol{\\mathrm{\\theta}} \\right )} + \\boldsymbol{\\mathrm{r}}^{2} \\sin{\\left (4 \\boldsymbol{\\mathrm{\\theta}} \\right )} + 2 \\sin{\\left (2 \\boldsymbol{\\mathrm{\\theta}} \\right )} + 3 \\sin{\\left (4 \\boldsymbol{\\mathrm{\\theta}} \\right )}\\right)}{8 \\left(\\boldsymbol{\\mathrm{r}}^{4} + 2 \\boldsymbol{\\mathrm{r}}^{2} + 1\\right)}$"
      ],
      "text/plain": [
       "<IPython.core.display.Math object>"
      ]
     },
     "metadata": {},
     "output_type": "display_data"
    },
    {
     "name": "stdout",
     "output_type": "stream",
     "text": [
      "---------------------------------\n",
      "t, z, r, z:   \n"
     ]
    },
    {
     "data": {
      "text/latex": [
       "$\\displaystyle - \\frac{\\boldsymbol{\\mathrm{r}}^{3} \\left(4 \\boldsymbol{\\mathrm{r}}^{2} \\sin{\\left (2 \\boldsymbol{\\mathrm{\\theta}} \\right )} \\cos{\\left (2 \\boldsymbol{\\mathrm{\\theta}} \\right )} + 6 \\boldsymbol{\\mathrm{r}}^{2} \\sin{\\left (2 \\boldsymbol{\\mathrm{\\theta}} \\right )} + \\boldsymbol{\\mathrm{r}}^{2} \\sin{\\left (4 \\boldsymbol{\\mathrm{\\theta}} \\right )} + 6 \\sin{\\left (2 \\boldsymbol{\\mathrm{\\theta}} \\right )} + 3 \\sin{\\left (4 \\boldsymbol{\\mathrm{\\theta}} \\right )}\\right)}{8 \\boldsymbol{\\mathrm{r}}^{4} + 16 \\boldsymbol{\\mathrm{r}}^{2} + 8}$"
      ],
      "text/plain": [
       "<IPython.core.display.Math object>"
      ]
     },
     "metadata": {},
     "output_type": "display_data"
    },
    {
     "name": "stdout",
     "output_type": "stream",
     "text": [
      "---------------------------------\n",
      "t, z, phi, t:   \n"
     ]
    },
    {
     "data": {
      "text/latex": [
       "$\\displaystyle - \\frac{\\boldsymbol{\\mathrm{r}}^{2} \\left(\\boldsymbol{\\mathrm{r}}^{2} \\cos{\\left (4 \\boldsymbol{\\mathrm{\\theta}} \\right )} - \\boldsymbol{\\mathrm{r}}^{2} - 3 \\cos{\\left (4 \\boldsymbol{\\mathrm{\\theta}} \\right )} + 3\\right)}{8 \\boldsymbol{\\mathrm{r}}^{4} + 16 \\boldsymbol{\\mathrm{r}}^{2} + 8}$"
      ],
      "text/plain": [
       "<IPython.core.display.Math object>"
      ]
     },
     "metadata": {},
     "output_type": "display_data"
    },
    {
     "name": "stdout",
     "output_type": "stream",
     "text": [
      "---------------------------------\n",
      "t, z, phi, r:   \n"
     ]
    },
    {
     "data": {
      "text/latex": [
       "$\\displaystyle - \\frac{\\boldsymbol{\\mathrm{r}}^{3} \\left(4 \\boldsymbol{\\mathrm{r}}^{2} \\sin{\\left (2 \\boldsymbol{\\mathrm{\\theta}} \\right )} \\cos{\\left (2 \\boldsymbol{\\mathrm{\\theta}} \\right )} + 2 \\boldsymbol{\\mathrm{r}}^{2} \\sin{\\left (2 \\boldsymbol{\\mathrm{\\theta}} \\right )} + \\boldsymbol{\\mathrm{r}}^{2} \\sin{\\left (4 \\boldsymbol{\\mathrm{\\theta}} \\right )} + 2 \\sin{\\left (2 \\boldsymbol{\\mathrm{\\theta}} \\right )} + 3 \\sin{\\left (4 \\boldsymbol{\\mathrm{\\theta}} \\right )}\\right)}{8 \\boldsymbol{\\mathrm{r}}^{4} + 16 \\boldsymbol{\\mathrm{r}}^{2} + 8}$"
      ],
      "text/plain": [
       "<IPython.core.display.Math object>"
      ]
     },
     "metadata": {},
     "output_type": "display_data"
    },
    {
     "name": "stdout",
     "output_type": "stream",
     "text": [
      "---------------------------------\n",
      "t, z, z, t:   \n"
     ]
    },
    {
     "data": {
      "text/latex": [
       "$\\displaystyle \\frac{\\boldsymbol{\\mathrm{r}}^{2} \\left(- \\frac{\\boldsymbol{\\mathrm{r}}^{4} \\left(- \\cos{\\left (4 \\boldsymbol{\\mathrm{\\theta}} \\right )} + 1\\right)}{4} - 2 \\boldsymbol{\\mathrm{r}}^{4} \\sin^{4}{\\left (\\boldsymbol{\\mathrm{\\theta}} \\right )} + \\boldsymbol{\\mathrm{r}}^{4} \\sin^{2}{\\left (\\boldsymbol{\\mathrm{\\theta}} \\right )} - \\frac{\\boldsymbol{\\mathrm{r}}^{2} \\left(\\cos{\\left (4 \\boldsymbol{\\mathrm{\\theta}} \\right )} - 1\\right)}{4} + 2 \\boldsymbol{\\mathrm{r}}^{2} \\sin^{4}{\\left (\\boldsymbol{\\mathrm{\\theta}} \\right )} - 4 \\boldsymbol{\\mathrm{r}}^{2} \\sin^{2}{\\left (\\boldsymbol{\\mathrm{\\theta}} \\right )} - 4 \\boldsymbol{\\mathrm{r}}^{2} \\cos^{2}{\\left (\\boldsymbol{\\mathrm{\\theta}} \\right )} + 3 \\sin^{2}{\\left (\\boldsymbol{\\mathrm{\\theta}} \\right )} - 4\\right) \\cos^{2}{\\left (\\boldsymbol{\\mathrm{\\theta}} \\right )}}{\\boldsymbol{\\mathrm{r}}^{6} \\sin^{2}{\\left (\\boldsymbol{\\mathrm{\\theta}} \\right )} + \\boldsymbol{\\mathrm{r}}^{6} \\cos^{2}{\\left (\\boldsymbol{\\mathrm{\\theta}} \\right )} + 2 \\boldsymbol{\\mathrm{r}}^{4} \\sin^{2}{\\left (\\boldsymbol{\\mathrm{\\theta}} \\right )} + 2 \\boldsymbol{\\mathrm{r}}^{4} \\cos^{2}{\\left (\\boldsymbol{\\mathrm{\\theta}} \\right )} + \\boldsymbol{\\mathrm{r}}^{4} + \\boldsymbol{\\mathrm{r}}^{2} \\sin^{2}{\\left (\\boldsymbol{\\mathrm{\\theta}} \\right )} + \\boldsymbol{\\mathrm{r}}^{2} \\cos^{2}{\\left (\\boldsymbol{\\mathrm{\\theta}} \\right )} + 2 \\boldsymbol{\\mathrm{r}}^{2} + 1}$"
      ],
      "text/plain": [
       "<IPython.core.display.Math object>"
      ]
     },
     "metadata": {},
     "output_type": "display_data"
    },
    {
     "name": "stdout",
     "output_type": "stream",
     "text": [
      "---------------------------------\n",
      "t, z, z, r:   \n"
     ]
    },
    {
     "data": {
      "text/latex": [
       "$\\displaystyle \\frac{\\boldsymbol{\\mathrm{r}}^{3} \\left(4 \\boldsymbol{\\mathrm{r}}^{2} \\sin{\\left (2 \\boldsymbol{\\mathrm{\\theta}} \\right )} \\cos{\\left (2 \\boldsymbol{\\mathrm{\\theta}} \\right )} + 6 \\boldsymbol{\\mathrm{r}}^{2} \\sin{\\left (2 \\boldsymbol{\\mathrm{\\theta}} \\right )} + \\boldsymbol{\\mathrm{r}}^{2} \\sin{\\left (4 \\boldsymbol{\\mathrm{\\theta}} \\right )} + 6 \\sin{\\left (2 \\boldsymbol{\\mathrm{\\theta}} \\right )} + 3 \\sin{\\left (4 \\boldsymbol{\\mathrm{\\theta}} \\right )}\\right)}{8 \\left(\\boldsymbol{\\mathrm{r}}^{4} + 2 \\boldsymbol{\\mathrm{r}}^{2} + 1\\right)}$"
      ],
      "text/plain": [
       "<IPython.core.display.Math object>"
      ]
     },
     "metadata": {},
     "output_type": "display_data"
    },
    {
     "name": "stdout",
     "output_type": "stream",
     "text": [
      "---------------------------------\n",
      "r, t, t, r:   \n"
     ]
    },
    {
     "data": {
      "text/latex": [
       "$\\displaystyle - \\frac{1}{\\boldsymbol{\\mathrm{r}}^{4} + 2 \\boldsymbol{\\mathrm{r}}^{2} + 1}$"
      ],
      "text/plain": [
       "<IPython.core.display.Math object>"
      ]
     },
     "metadata": {},
     "output_type": "display_data"
    },
    {
     "name": "stdout",
     "output_type": "stream",
     "text": [
      "---------------------------------\n",
      "r, t, r, t:   \n"
     ]
    },
    {
     "data": {
      "text/latex": [
       "$\\displaystyle \\frac{1}{\\boldsymbol{\\mathrm{r}}^{4} + 2 \\boldsymbol{\\mathrm{r}}^{2} + 1}$"
      ],
      "text/plain": [
       "<IPython.core.display.Math object>"
      ]
     },
     "metadata": {},
     "output_type": "display_data"
    },
    {
     "name": "stdout",
     "output_type": "stream",
     "text": [
      "---------------------------------\n",
      "r, t, phi, z:   \n"
     ]
    },
    {
     "data": {
      "text/latex": [
       "$\\displaystyle \\frac{\\boldsymbol{\\mathrm{r}} \\sin{\\left (2 \\boldsymbol{\\mathrm{\\theta}} \\right )}}{2 \\left(\\boldsymbol{\\mathrm{r}}^{4} + 2 \\boldsymbol{\\mathrm{r}}^{2} + 1\\right)}$"
      ],
      "text/plain": [
       "<IPython.core.display.Math object>"
      ]
     },
     "metadata": {},
     "output_type": "display_data"
    },
    {
     "name": "stdout",
     "output_type": "stream",
     "text": [
      "---------------------------------\n",
      "r, t, z, phi:   \n"
     ]
    },
    {
     "data": {
      "text/latex": [
       "$\\displaystyle - \\frac{\\boldsymbol{\\mathrm{r}} \\sin{\\left (2 \\boldsymbol{\\mathrm{\\theta}} \\right )}}{2 \\boldsymbol{\\mathrm{r}}^{4} + 4 \\boldsymbol{\\mathrm{r}}^{2} + 2}$"
      ],
      "text/plain": [
       "<IPython.core.display.Math object>"
      ]
     },
     "metadata": {},
     "output_type": "display_data"
    },
    {
     "name": "stdout",
     "output_type": "stream",
     "text": [
      "---------------------------------\n",
      "r, phi, t, phi:   \n"
     ]
    },
    {
     "data": {
      "text/latex": [
       "$\\displaystyle - \\frac{\\boldsymbol{\\mathrm{r}} \\left(4 \\boldsymbol{\\mathrm{r}}^{2} \\sin{\\left (2 \\boldsymbol{\\mathrm{\\theta}} \\right )} \\cos{\\left (2 \\boldsymbol{\\mathrm{\\theta}} \\right )} - 6 \\boldsymbol{\\mathrm{r}}^{2} \\sin{\\left (2 \\boldsymbol{\\mathrm{\\theta}} \\right )} + \\boldsymbol{\\mathrm{r}}^{2} \\sin{\\left (4 \\boldsymbol{\\mathrm{\\theta}} \\right )} - 6 \\sin{\\left (2 \\boldsymbol{\\mathrm{\\theta}} \\right )} + 3 \\sin{\\left (4 \\boldsymbol{\\mathrm{\\theta}} \\right )}\\right)}{8 \\boldsymbol{\\mathrm{r}}^{6} + 24 \\boldsymbol{\\mathrm{r}}^{4} + 24 \\boldsymbol{\\mathrm{r}}^{2} + 8}$"
      ],
      "text/plain": [
       "<IPython.core.display.Math object>"
      ]
     },
     "metadata": {},
     "output_type": "display_data"
    },
    {
     "name": "stdout",
     "output_type": "stream",
     "text": [
      "---------------------------------\n",
      "r, phi, t, z:   \n"
     ]
    },
    {
     "data": {
      "text/latex": [
       "$\\displaystyle \\frac{\\boldsymbol{\\mathrm{r}} \\left(4 \\boldsymbol{\\mathrm{r}}^{2} \\sin{\\left (2 \\boldsymbol{\\mathrm{\\theta}} \\right )} \\cos{\\left (2 \\boldsymbol{\\mathrm{\\theta}} \\right )} + 2 \\boldsymbol{\\mathrm{r}}^{2} \\sin{\\left (2 \\boldsymbol{\\mathrm{\\theta}} \\right )} + \\boldsymbol{\\mathrm{r}}^{2} \\sin{\\left (4 \\boldsymbol{\\mathrm{\\theta}} \\right )} + 2 \\sin{\\left (2 \\boldsymbol{\\mathrm{\\theta}} \\right )} + 3 \\sin{\\left (4 \\boldsymbol{\\mathrm{\\theta}} \\right )}\\right)}{8 \\left(\\boldsymbol{\\mathrm{r}}^{6} + 3 \\boldsymbol{\\mathrm{r}}^{4} + 3 \\boldsymbol{\\mathrm{r}}^{2} + 1\\right)}$"
      ],
      "text/plain": [
       "<IPython.core.display.Math object>"
      ]
     },
     "metadata": {},
     "output_type": "display_data"
    },
    {
     "name": "stdout",
     "output_type": "stream",
     "text": [
      "---------------------------------\n",
      "r, phi, r, phi:   \n"
     ]
    },
    {
     "data": {
      "text/latex": [
       "$\\displaystyle \\frac{\\boldsymbol{\\mathrm{r}}^{2} \\left(\\boldsymbol{\\mathrm{r}}^{4} \\left(\\cos{\\left (2 \\boldsymbol{\\mathrm{\\theta}} \\right )} + 1\\right)^{2} + \\frac{\\boldsymbol{\\mathrm{r}}^{4} \\left(- \\cos{\\left (4 \\boldsymbol{\\mathrm{\\theta}} \\right )} + 1\\right)}{2} + \\frac{\\boldsymbol{\\mathrm{r}}^{2} \\left(- \\cos{\\left (2 \\boldsymbol{\\mathrm{\\theta}} \\right )} + 1\\right)}{2} + \\frac{\\boldsymbol{\\mathrm{r}}^{2} \\left(\\cos{\\left (2 \\boldsymbol{\\mathrm{\\theta}} \\right )} + 1\\right)^{2}}{2} + 3 \\boldsymbol{\\mathrm{r}}^{2} \\left(\\cos{\\left (2 \\boldsymbol{\\mathrm{\\theta}} \\right )} + 1\\right) + \\frac{\\boldsymbol{\\mathrm{r}}^{2} \\left(- \\cos{\\left (4 \\boldsymbol{\\mathrm{\\theta}} \\right )} + 1\\right)}{4} + \\frac{3 \\cos{\\left (2 \\boldsymbol{\\mathrm{\\theta}} \\right )}}{2} + \\frac{5}{2}\\right) \\sin^{2}{\\left (\\boldsymbol{\\mathrm{\\theta}} \\right )}}{\\boldsymbol{\\mathrm{r}}^{6} \\sin^{2}{\\left (\\boldsymbol{\\mathrm{\\theta}} \\right )} + \\boldsymbol{\\mathrm{r}}^{6} \\cos^{2}{\\left (\\boldsymbol{\\mathrm{\\theta}} \\right )} + 2 \\boldsymbol{\\mathrm{r}}^{4} \\sin^{2}{\\left (\\boldsymbol{\\mathrm{\\theta}} \\right )} + 2 \\boldsymbol{\\mathrm{r}}^{4} \\cos^{2}{\\left (\\boldsymbol{\\mathrm{\\theta}} \\right )} + \\boldsymbol{\\mathrm{r}}^{4} + \\boldsymbol{\\mathrm{r}}^{2} \\sin^{2}{\\left (\\boldsymbol{\\mathrm{\\theta}} \\right )} + \\boldsymbol{\\mathrm{r}}^{2} \\cos^{2}{\\left (\\boldsymbol{\\mathrm{\\theta}} \\right )} + 2 \\boldsymbol{\\mathrm{r}}^{2} + 1}$"
      ],
      "text/plain": [
       "<IPython.core.display.Math object>"
      ]
     },
     "metadata": {},
     "output_type": "display_data"
    },
    {
     "name": "stdout",
     "output_type": "stream",
     "text": [
      "---------------------------------\n",
      "r, phi, r, z:   \n"
     ]
    },
    {
     "data": {
      "text/latex": [
       "$\\displaystyle \\frac{\\boldsymbol{\\mathrm{r}}^{2} \\left(4 \\boldsymbol{\\mathrm{r}}^{2} \\cos{\\left (4 \\boldsymbol{\\mathrm{\\theta}} \\right )} - 4 \\boldsymbol{\\mathrm{r}}^{2} + 3 \\cos{\\left (4 \\boldsymbol{\\mathrm{\\theta}} \\right )} - 3\\right)}{8 \\left(\\boldsymbol{\\mathrm{r}}^{4} + 2 \\boldsymbol{\\mathrm{r}}^{2} + 1\\right)}$"
      ],
      "text/plain": [
       "<IPython.core.display.Math object>"
      ]
     },
     "metadata": {},
     "output_type": "display_data"
    },
    {
     "name": "stdout",
     "output_type": "stream",
     "text": [
      "---------------------------------\n",
      "r, phi, phi, t:   \n"
     ]
    },
    {
     "data": {
      "text/latex": [
       "$\\displaystyle \\frac{\\boldsymbol{\\mathrm{r}} \\left(4 \\boldsymbol{\\mathrm{r}}^{2} \\sin{\\left (2 \\boldsymbol{\\mathrm{\\theta}} \\right )} \\cos{\\left (2 \\boldsymbol{\\mathrm{\\theta}} \\right )} - 6 \\boldsymbol{\\mathrm{r}}^{2} \\sin{\\left (2 \\boldsymbol{\\mathrm{\\theta}} \\right )} + \\boldsymbol{\\mathrm{r}}^{2} \\sin{\\left (4 \\boldsymbol{\\mathrm{\\theta}} \\right )} - 6 \\sin{\\left (2 \\boldsymbol{\\mathrm{\\theta}} \\right )} + 3 \\sin{\\left (4 \\boldsymbol{\\mathrm{\\theta}} \\right )}\\right)}{8 \\left(\\boldsymbol{\\mathrm{r}}^{6} + 3 \\boldsymbol{\\mathrm{r}}^{4} + 3 \\boldsymbol{\\mathrm{r}}^{2} + 1\\right)}$"
      ],
      "text/plain": [
       "<IPython.core.display.Math object>"
      ]
     },
     "metadata": {},
     "output_type": "display_data"
    },
    {
     "name": "stdout",
     "output_type": "stream",
     "text": [
      "---------------------------------\n",
      "r, phi, phi, r:   \n"
     ]
    },
    {
     "data": {
      "text/latex": [
       "$\\displaystyle - \\frac{\\boldsymbol{\\mathrm{r}}^{2} \\left(\\boldsymbol{\\mathrm{r}}^{4} \\left(\\cos{\\left (2 \\boldsymbol{\\mathrm{\\theta}} \\right )} + 1\\right)^{2} - \\frac{\\boldsymbol{\\mathrm{r}}^{4} \\left(\\cos{\\left (4 \\boldsymbol{\\mathrm{\\theta}} \\right )} - 1\\right)}{2} - \\frac{\\boldsymbol{\\mathrm{r}}^{2} \\left(\\cos{\\left (2 \\boldsymbol{\\mathrm{\\theta}} \\right )} - 1\\right)}{2} + \\frac{\\boldsymbol{\\mathrm{r}}^{2} \\left(\\cos{\\left (2 \\boldsymbol{\\mathrm{\\theta}} \\right )} + 1\\right)^{2}}{2} + 3 \\boldsymbol{\\mathrm{r}}^{2} \\left(\\cos{\\left (2 \\boldsymbol{\\mathrm{\\theta}} \\right )} + 1\\right) - \\frac{\\boldsymbol{\\mathrm{r}}^{2} \\left(\\cos{\\left (4 \\boldsymbol{\\mathrm{\\theta}} \\right )} - 1\\right)}{4} + \\frac{3 \\cos{\\left (2 \\boldsymbol{\\mathrm{\\theta}} \\right )}}{2} + \\frac{5}{2}\\right) \\sin^{2}{\\left (\\boldsymbol{\\mathrm{\\theta}} \\right )}}{\\boldsymbol{\\mathrm{r}}^{6} \\sin^{2}{\\left (\\boldsymbol{\\mathrm{\\theta}} \\right )} + \\boldsymbol{\\mathrm{r}}^{6} \\cos^{2}{\\left (\\boldsymbol{\\mathrm{\\theta}} \\right )} + 2 \\boldsymbol{\\mathrm{r}}^{4} \\sin^{2}{\\left (\\boldsymbol{\\mathrm{\\theta}} \\right )} + 2 \\boldsymbol{\\mathrm{r}}^{4} \\cos^{2}{\\left (\\boldsymbol{\\mathrm{\\theta}} \\right )} + \\boldsymbol{\\mathrm{r}}^{4} + \\boldsymbol{\\mathrm{r}}^{2} \\sin^{2}{\\left (\\boldsymbol{\\mathrm{\\theta}} \\right )} + \\boldsymbol{\\mathrm{r}}^{2} \\cos^{2}{\\left (\\boldsymbol{\\mathrm{\\theta}} \\right )} + 2 \\boldsymbol{\\mathrm{r}}^{2} + 1}$"
      ],
      "text/plain": [
       "<IPython.core.display.Math object>"
      ]
     },
     "metadata": {},
     "output_type": "display_data"
    },
    {
     "name": "stdout",
     "output_type": "stream",
     "text": [
      "---------------------------------\n",
      "r, phi, z, t:   \n"
     ]
    },
    {
     "data": {
      "text/latex": [
       "$\\displaystyle - \\frac{\\boldsymbol{\\mathrm{r}} \\left(4 \\boldsymbol{\\mathrm{r}}^{2} \\sin{\\left (2 \\boldsymbol{\\mathrm{\\theta}} \\right )} \\cos{\\left (2 \\boldsymbol{\\mathrm{\\theta}} \\right )} + 2 \\boldsymbol{\\mathrm{r}}^{2} \\sin{\\left (2 \\boldsymbol{\\mathrm{\\theta}} \\right )} + \\boldsymbol{\\mathrm{r}}^{2} \\sin{\\left (4 \\boldsymbol{\\mathrm{\\theta}} \\right )} + 2 \\sin{\\left (2 \\boldsymbol{\\mathrm{\\theta}} \\right )} + 3 \\sin{\\left (4 \\boldsymbol{\\mathrm{\\theta}} \\right )}\\right)}{8 \\boldsymbol{\\mathrm{r}}^{6} + 24 \\boldsymbol{\\mathrm{r}}^{4} + 24 \\boldsymbol{\\mathrm{r}}^{2} + 8}$"
      ],
      "text/plain": [
       "<IPython.core.display.Math object>"
      ]
     },
     "metadata": {},
     "output_type": "display_data"
    },
    {
     "name": "stdout",
     "output_type": "stream",
     "text": [
      "---------------------------------\n",
      "r, phi, z, r:   \n"
     ]
    },
    {
     "data": {
      "text/latex": [
       "$\\displaystyle - \\frac{\\boldsymbol{\\mathrm{r}}^{2} \\left(4 \\boldsymbol{\\mathrm{r}}^{2} \\cos{\\left (4 \\boldsymbol{\\mathrm{\\theta}} \\right )} - 4 \\boldsymbol{\\mathrm{r}}^{2} + 3 \\cos{\\left (4 \\boldsymbol{\\mathrm{\\theta}} \\right )} - 3\\right)}{8 \\boldsymbol{\\mathrm{r}}^{4} + 16 \\boldsymbol{\\mathrm{r}}^{2} + 8}$"
      ],
      "text/plain": [
       "<IPython.core.display.Math object>"
      ]
     },
     "metadata": {},
     "output_type": "display_data"
    },
    {
     "name": "stdout",
     "output_type": "stream",
     "text": [
      "---------------------------------\n",
      "r, z, t, phi:   \n"
     ]
    },
    {
     "data": {
      "text/latex": [
       "$\\displaystyle \\frac{\\boldsymbol{\\mathrm{r}} \\left(4 \\boldsymbol{\\mathrm{r}}^{2} \\sin{\\left (2 \\boldsymbol{\\mathrm{\\theta}} \\right )} \\cos{\\left (2 \\boldsymbol{\\mathrm{\\theta}} \\right )} - 2 \\boldsymbol{\\mathrm{r}}^{2} \\sin{\\left (2 \\boldsymbol{\\mathrm{\\theta}} \\right )} + \\boldsymbol{\\mathrm{r}}^{2} \\sin{\\left (4 \\boldsymbol{\\mathrm{\\theta}} \\right )} - 2 \\sin{\\left (2 \\boldsymbol{\\mathrm{\\theta}} \\right )} + 3 \\sin{\\left (4 \\boldsymbol{\\mathrm{\\theta}} \\right )}\\right)}{8 \\left(\\boldsymbol{\\mathrm{r}}^{6} + 3 \\boldsymbol{\\mathrm{r}}^{4} + 3 \\boldsymbol{\\mathrm{r}}^{2} + 1\\right)}$"
      ],
      "text/plain": [
       "<IPython.core.display.Math object>"
      ]
     },
     "metadata": {},
     "output_type": "display_data"
    },
    {
     "name": "stdout",
     "output_type": "stream",
     "text": [
      "---------------------------------\n",
      "r, z, t, z:   \n"
     ]
    },
    {
     "data": {
      "text/latex": [
       "$\\displaystyle - \\frac{\\boldsymbol{\\mathrm{r}} \\left(4 \\boldsymbol{\\mathrm{r}}^{2} \\sin{\\left (2 \\boldsymbol{\\mathrm{\\theta}} \\right )} \\cos{\\left (2 \\boldsymbol{\\mathrm{\\theta}} \\right )} + 6 \\boldsymbol{\\mathrm{r}}^{2} \\sin{\\left (2 \\boldsymbol{\\mathrm{\\theta}} \\right )} + \\boldsymbol{\\mathrm{r}}^{2} \\sin{\\left (4 \\boldsymbol{\\mathrm{\\theta}} \\right )} + 6 \\sin{\\left (2 \\boldsymbol{\\mathrm{\\theta}} \\right )} + 3 \\sin{\\left (4 \\boldsymbol{\\mathrm{\\theta}} \\right )}\\right)}{8 \\boldsymbol{\\mathrm{r}}^{6} + 24 \\boldsymbol{\\mathrm{r}}^{4} + 24 \\boldsymbol{\\mathrm{r}}^{2} + 8}$"
      ],
      "text/plain": [
       "<IPython.core.display.Math object>"
      ]
     },
     "metadata": {},
     "output_type": "display_data"
    },
    {
     "name": "stdout",
     "output_type": "stream",
     "text": [
      "---------------------------------\n",
      "r, z, r, phi:   \n"
     ]
    },
    {
     "data": {
      "text/latex": [
       "$\\displaystyle \\frac{\\boldsymbol{\\mathrm{r}}^{2} \\left(4 \\boldsymbol{\\mathrm{r}}^{2} \\cos{\\left (4 \\boldsymbol{\\mathrm{\\theta}} \\right )} - 4 \\boldsymbol{\\mathrm{r}}^{2} + 3 \\cos{\\left (4 \\boldsymbol{\\mathrm{\\theta}} \\right )} - 3\\right)}{8 \\left(\\boldsymbol{\\mathrm{r}}^{4} + 2 \\boldsymbol{\\mathrm{r}}^{2} + 1\\right)}$"
      ],
      "text/plain": [
       "<IPython.core.display.Math object>"
      ]
     },
     "metadata": {},
     "output_type": "display_data"
    },
    {
     "name": "stdout",
     "output_type": "stream",
     "text": [
      "---------------------------------\n",
      "r, z, r, z:   \n"
     ]
    },
    {
     "data": {
      "text/latex": [
       "$\\displaystyle \\frac{\\boldsymbol{\\mathrm{r}}^{2} \\left(\\boldsymbol{\\mathrm{r}}^{4} \\left(- \\cos{\\left (2 \\boldsymbol{\\mathrm{\\theta}} \\right )} + 1\\right)^{2} + \\frac{\\boldsymbol{\\mathrm{r}}^{4} \\left(- \\cos{\\left (4 \\boldsymbol{\\mathrm{\\theta}} \\right )} + 1\\right)}{2} + \\frac{\\boldsymbol{\\mathrm{r}}^{2} \\left(- \\cos{\\left (2 \\boldsymbol{\\mathrm{\\theta}} \\right )} + 1\\right)^{2}}{2} + 3 \\boldsymbol{\\mathrm{r}}^{2} \\left(- \\cos{\\left (2 \\boldsymbol{\\mathrm{\\theta}} \\right )} + 1\\right) + \\frac{\\boldsymbol{\\mathrm{r}}^{2} \\left(\\cos{\\left (2 \\boldsymbol{\\mathrm{\\theta}} \\right )} + 1\\right)}{2} + \\frac{\\boldsymbol{\\mathrm{r}}^{2} \\left(- \\cos{\\left (4 \\boldsymbol{\\mathrm{\\theta}} \\right )} + 1\\right)}{4} - \\frac{3 \\cos{\\left (2 \\boldsymbol{\\mathrm{\\theta}} \\right )}}{2} + \\frac{5}{2}\\right) \\cos^{2}{\\left (\\boldsymbol{\\mathrm{\\theta}} \\right )}}{\\boldsymbol{\\mathrm{r}}^{6} \\sin^{2}{\\left (\\boldsymbol{\\mathrm{\\theta}} \\right )} + \\boldsymbol{\\mathrm{r}}^{6} \\cos^{2}{\\left (\\boldsymbol{\\mathrm{\\theta}} \\right )} + 2 \\boldsymbol{\\mathrm{r}}^{4} \\sin^{2}{\\left (\\boldsymbol{\\mathrm{\\theta}} \\right )} + 2 \\boldsymbol{\\mathrm{r}}^{4} \\cos^{2}{\\left (\\boldsymbol{\\mathrm{\\theta}} \\right )} + \\boldsymbol{\\mathrm{r}}^{4} + \\boldsymbol{\\mathrm{r}}^{2} \\sin^{2}{\\left (\\boldsymbol{\\mathrm{\\theta}} \\right )} + \\boldsymbol{\\mathrm{r}}^{2} \\cos^{2}{\\left (\\boldsymbol{\\mathrm{\\theta}} \\right )} + 2 \\boldsymbol{\\mathrm{r}}^{2} + 1}$"
      ],
      "text/plain": [
       "<IPython.core.display.Math object>"
      ]
     },
     "metadata": {},
     "output_type": "display_data"
    },
    {
     "name": "stdout",
     "output_type": "stream",
     "text": [
      "---------------------------------\n",
      "r, z, phi, t:   \n"
     ]
    },
    {
     "data": {
      "text/latex": [
       "$\\displaystyle - \\frac{\\boldsymbol{\\mathrm{r}} \\left(4 \\boldsymbol{\\mathrm{r}}^{2} \\sin{\\left (2 \\boldsymbol{\\mathrm{\\theta}} \\right )} \\cos{\\left (2 \\boldsymbol{\\mathrm{\\theta}} \\right )} - 2 \\boldsymbol{\\mathrm{r}}^{2} \\sin{\\left (2 \\boldsymbol{\\mathrm{\\theta}} \\right )} + \\boldsymbol{\\mathrm{r}}^{2} \\sin{\\left (4 \\boldsymbol{\\mathrm{\\theta}} \\right )} - 2 \\sin{\\left (2 \\boldsymbol{\\mathrm{\\theta}} \\right )} + 3 \\sin{\\left (4 \\boldsymbol{\\mathrm{\\theta}} \\right )}\\right)}{8 \\boldsymbol{\\mathrm{r}}^{6} + 24 \\boldsymbol{\\mathrm{r}}^{4} + 24 \\boldsymbol{\\mathrm{r}}^{2} + 8}$"
      ],
      "text/plain": [
       "<IPython.core.display.Math object>"
      ]
     },
     "metadata": {},
     "output_type": "display_data"
    },
    {
     "name": "stdout",
     "output_type": "stream",
     "text": [
      "---------------------------------\n",
      "r, z, phi, r:   \n"
     ]
    },
    {
     "data": {
      "text/latex": [
       "$\\displaystyle - \\frac{\\boldsymbol{\\mathrm{r}}^{2} \\left(4 \\boldsymbol{\\mathrm{r}}^{2} \\cos{\\left (4 \\boldsymbol{\\mathrm{\\theta}} \\right )} - 4 \\boldsymbol{\\mathrm{r}}^{2} + 3 \\cos{\\left (4 \\boldsymbol{\\mathrm{\\theta}} \\right )} - 3\\right)}{8 \\boldsymbol{\\mathrm{r}}^{4} + 16 \\boldsymbol{\\mathrm{r}}^{2} + 8}$"
      ],
      "text/plain": [
       "<IPython.core.display.Math object>"
      ]
     },
     "metadata": {},
     "output_type": "display_data"
    },
    {
     "name": "stdout",
     "output_type": "stream",
     "text": [
      "---------------------------------\n",
      "r, z, z, t:   \n"
     ]
    },
    {
     "data": {
      "text/latex": [
       "$\\displaystyle \\frac{\\boldsymbol{\\mathrm{r}} \\left(4 \\boldsymbol{\\mathrm{r}}^{2} \\sin{\\left (2 \\boldsymbol{\\mathrm{\\theta}} \\right )} \\cos{\\left (2 \\boldsymbol{\\mathrm{\\theta}} \\right )} + 6 \\boldsymbol{\\mathrm{r}}^{2} \\sin{\\left (2 \\boldsymbol{\\mathrm{\\theta}} \\right )} + \\boldsymbol{\\mathrm{r}}^{2} \\sin{\\left (4 \\boldsymbol{\\mathrm{\\theta}} \\right )} + 6 \\sin{\\left (2 \\boldsymbol{\\mathrm{\\theta}} \\right )} + 3 \\sin{\\left (4 \\boldsymbol{\\mathrm{\\theta}} \\right )}\\right)}{8 \\left(\\boldsymbol{\\mathrm{r}}^{6} + 3 \\boldsymbol{\\mathrm{r}}^{4} + 3 \\boldsymbol{\\mathrm{r}}^{2} + 1\\right)}$"
      ],
      "text/plain": [
       "<IPython.core.display.Math object>"
      ]
     },
     "metadata": {},
     "output_type": "display_data"
    },
    {
     "name": "stdout",
     "output_type": "stream",
     "text": [
      "---------------------------------\n",
      "r, z, z, r:   \n"
     ]
    },
    {
     "data": {
      "text/latex": [
       "$\\displaystyle \\frac{\\boldsymbol{\\mathrm{r}}^{2} \\left(- \\boldsymbol{\\mathrm{r}}^{4} \\left(- \\cos{\\left (2 \\boldsymbol{\\mathrm{\\theta}} \\right )} + 1\\right)^{2} - \\frac{\\boldsymbol{\\mathrm{r}}^{4} \\left(- \\cos{\\left (4 \\boldsymbol{\\mathrm{\\theta}} \\right )} + 1\\right)}{2} - \\frac{\\boldsymbol{\\mathrm{r}}^{2} \\left(- \\cos{\\left (2 \\boldsymbol{\\mathrm{\\theta}} \\right )} + 1\\right)^{2}}{2} - 3 \\boldsymbol{\\mathrm{r}}^{2} \\left(- \\cos{\\left (2 \\boldsymbol{\\mathrm{\\theta}} \\right )} + 1\\right) - \\frac{\\boldsymbol{\\mathrm{r}}^{2} \\left(\\cos{\\left (2 \\boldsymbol{\\mathrm{\\theta}} \\right )} + 1\\right)}{2} - \\frac{\\boldsymbol{\\mathrm{r}}^{2} \\left(- \\cos{\\left (4 \\boldsymbol{\\mathrm{\\theta}} \\right )} + 1\\right)}{4} + \\frac{3 \\cos{\\left (2 \\boldsymbol{\\mathrm{\\theta}} \\right )}}{2} - \\frac{5}{2}\\right) \\cos^{2}{\\left (\\boldsymbol{\\mathrm{\\theta}} \\right )}}{\\boldsymbol{\\mathrm{r}}^{6} \\sin^{2}{\\left (\\boldsymbol{\\mathrm{\\theta}} \\right )} + \\boldsymbol{\\mathrm{r}}^{6} \\cos^{2}{\\left (\\boldsymbol{\\mathrm{\\theta}} \\right )} + 2 \\boldsymbol{\\mathrm{r}}^{4} \\sin^{2}{\\left (\\boldsymbol{\\mathrm{\\theta}} \\right )} + 2 \\boldsymbol{\\mathrm{r}}^{4} \\cos^{2}{\\left (\\boldsymbol{\\mathrm{\\theta}} \\right )} + \\boldsymbol{\\mathrm{r}}^{4} + \\boldsymbol{\\mathrm{r}}^{2} \\sin^{2}{\\left (\\boldsymbol{\\mathrm{\\theta}} \\right )} + \\boldsymbol{\\mathrm{r}}^{2} \\cos^{2}{\\left (\\boldsymbol{\\mathrm{\\theta}} \\right )} + 2 \\boldsymbol{\\mathrm{r}}^{2} + 1}$"
      ],
      "text/plain": [
       "<IPython.core.display.Math object>"
      ]
     },
     "metadata": {},
     "output_type": "display_data"
    },
    {
     "name": "stdout",
     "output_type": "stream",
     "text": [
      "---------------------------------\n",
      "phi, t, t, phi:   \n"
     ]
    },
    {
     "data": {
      "text/latex": [
       "$\\displaystyle \\frac{- \\frac{3 \\boldsymbol{\\mathrm{r}}^{4} \\left(- \\cos{\\left (4 \\boldsymbol{\\mathrm{\\theta}} \\right )} + 1\\right)}{4} - 4 \\boldsymbol{\\mathrm{r}}^{4} \\sin^{4}{\\left (\\boldsymbol{\\mathrm{\\theta}} \\right )} - 2 \\boldsymbol{\\mathrm{r}}^{4} \\cos^{4}{\\left (\\boldsymbol{\\mathrm{\\theta}} \\right )} + \\boldsymbol{\\mathrm{r}}^{4} \\cos^{2}{\\left (\\boldsymbol{\\mathrm{\\theta}} \\right )} - \\frac{\\boldsymbol{\\mathrm{r}}^{2} \\left(\\cos{\\left (4 \\boldsymbol{\\mathrm{\\theta}} \\right )} - 1\\right)}{4} - 8 \\boldsymbol{\\mathrm{r}}^{2} \\sin^{2}{\\left (\\boldsymbol{\\mathrm{\\theta}} \\right )} + 2 \\boldsymbol{\\mathrm{r}}^{2} \\cos^{4}{\\left (\\boldsymbol{\\mathrm{\\theta}} \\right )} - 4 \\boldsymbol{\\mathrm{r}}^{2} \\cos^{2}{\\left (\\boldsymbol{\\mathrm{\\theta}} \\right )} + 3 \\cos^{2}{\\left (\\boldsymbol{\\mathrm{\\theta}} \\right )} - 4}{\\frac{\\boldsymbol{\\mathrm{r}}^{8} \\left(- \\cos{\\left (4 \\boldsymbol{\\mathrm{\\theta}} \\right )} + 1\\right)}{4} + \\boldsymbol{\\mathrm{r}}^{8} \\sin^{4}{\\left (\\boldsymbol{\\mathrm{\\theta}} \\right )} + \\boldsymbol{\\mathrm{r}}^{8} \\cos^{4}{\\left (\\boldsymbol{\\mathrm{\\theta}} \\right )} + \\frac{\\boldsymbol{\\mathrm{r}}^{6} \\left(- \\cos{\\left (4 \\boldsymbol{\\mathrm{\\theta}} \\right )} + 1\\right)}{2} + 2 \\boldsymbol{\\mathrm{r}}^{6} \\sin^{4}{\\left (\\boldsymbol{\\mathrm{\\theta}} \\right )} + 2 \\boldsymbol{\\mathrm{r}}^{6} \\sin^{2}{\\left (\\boldsymbol{\\mathrm{\\theta}} \\right )} + 2 \\boldsymbol{\\mathrm{r}}^{6} \\cos^{4}{\\left (\\boldsymbol{\\mathrm{\\theta}} \\right )} + 2 \\boldsymbol{\\mathrm{r}}^{6} \\cos^{2}{\\left (\\boldsymbol{\\mathrm{\\theta}} \\right )} + \\frac{\\boldsymbol{\\mathrm{r}}^{4} \\left(- \\cos{\\left (4 \\boldsymbol{\\mathrm{\\theta}} \\right )} + 1\\right)}{4} + \\boldsymbol{\\mathrm{r}}^{4} \\sin^{4}{\\left (\\boldsymbol{\\mathrm{\\theta}} \\right )} + 4 \\boldsymbol{\\mathrm{r}}^{4} \\sin^{2}{\\left (\\boldsymbol{\\mathrm{\\theta}} \\right )} + \\boldsymbol{\\mathrm{r}}^{4} \\cos^{4}{\\left (\\boldsymbol{\\mathrm{\\theta}} \\right )} + 4 \\boldsymbol{\\mathrm{r}}^{4} \\cos^{2}{\\left (\\boldsymbol{\\mathrm{\\theta}} \\right )} + \\boldsymbol{\\mathrm{r}}^{4} + 2 \\boldsymbol{\\mathrm{r}}^{2} \\sin^{2}{\\left (\\boldsymbol{\\mathrm{\\theta}} \\right )} + 2 \\boldsymbol{\\mathrm{r}}^{2} \\cos^{2}{\\left (\\boldsymbol{\\mathrm{\\theta}} \\right )} + 2 \\boldsymbol{\\mathrm{r}}^{2} + 1}$"
      ],
      "text/plain": [
       "<IPython.core.display.Math object>"
      ]
     },
     "metadata": {},
     "output_type": "display_data"
    },
    {
     "name": "stdout",
     "output_type": "stream",
     "text": [
      "---------------------------------\n",
      "phi, t, t, z:   \n"
     ]
    },
    {
     "data": {
      "text/latex": [
       "$\\displaystyle - \\frac{\\left(2 \\boldsymbol{\\mathrm{r}}^{2} \\sin^{2}{\\left (\\boldsymbol{\\mathrm{\\theta}} \\right )} + 2 \\boldsymbol{\\mathrm{r}}^{2} \\cos^{2}{\\left (\\boldsymbol{\\mathrm{\\theta}} \\right )} + \\boldsymbol{\\mathrm{r}}^{2} + 3\\right) \\cos^{2}{\\left (\\boldsymbol{\\mathrm{\\theta}} \\right )}}{- \\frac{\\boldsymbol{\\mathrm{r}}^{6} \\left(\\cos{\\left (4 \\boldsymbol{\\mathrm{\\theta}} \\right )} - 1\\right)}{4} + \\boldsymbol{\\mathrm{r}}^{6} \\sin^{4}{\\left (\\boldsymbol{\\mathrm{\\theta}} \\right )} + \\boldsymbol{\\mathrm{r}}^{6} \\cos^{4}{\\left (\\boldsymbol{\\mathrm{\\theta}} \\right )} - \\frac{\\boldsymbol{\\mathrm{r}}^{4} \\left(\\cos{\\left (4 \\boldsymbol{\\mathrm{\\theta}} \\right )} - 1\\right)}{4} + \\boldsymbol{\\mathrm{r}}^{4} \\sin^{4}{\\left (\\boldsymbol{\\mathrm{\\theta}} \\right )} + 2 \\boldsymbol{\\mathrm{r}}^{4} \\sin^{2}{\\left (\\boldsymbol{\\mathrm{\\theta}} \\right )} + \\boldsymbol{\\mathrm{r}}^{4} \\cos^{4}{\\left (\\boldsymbol{\\mathrm{\\theta}} \\right )} + 2 \\boldsymbol{\\mathrm{r}}^{4} \\cos^{2}{\\left (\\boldsymbol{\\mathrm{\\theta}} \\right )} + 2 \\boldsymbol{\\mathrm{r}}^{2} \\sin^{2}{\\left (\\boldsymbol{\\mathrm{\\theta}} \\right )} + 2 \\boldsymbol{\\mathrm{r}}^{2} \\cos^{2}{\\left (\\boldsymbol{\\mathrm{\\theta}} \\right )} + \\boldsymbol{\\mathrm{r}}^{2} + 1}$"
      ],
      "text/plain": [
       "<IPython.core.display.Math object>"
      ]
     },
     "metadata": {},
     "output_type": "display_data"
    },
    {
     "name": "stdout",
     "output_type": "stream",
     "text": [
      "---------------------------------\n",
      "phi, t, r, phi:   \n"
     ]
    },
    {
     "data": {
      "text/latex": [
       "$\\displaystyle - \\frac{\\boldsymbol{\\mathrm{r}} \\left(2 \\boldsymbol{\\mathrm{r}}^{2} + 3\\right) \\sin^{2}{\\left (\\boldsymbol{\\mathrm{\\theta}} \\right )}}{\\left(\\boldsymbol{\\mathrm{r}}^{4} + 2 \\boldsymbol{\\mathrm{r}}^{2} + 1\\right) \\tan{\\left (\\boldsymbol{\\mathrm{\\theta}} \\right )}}$"
      ],
      "text/plain": [
       "<IPython.core.display.Math object>"
      ]
     },
     "metadata": {},
     "output_type": "display_data"
    },
    {
     "name": "stdout",
     "output_type": "stream",
     "text": [
      "---------------------------------\n",
      "phi, t, r, z:   \n"
     ]
    },
    {
     "data": {
      "text/latex": [
       "$\\displaystyle \\frac{\\boldsymbol{\\mathrm{r}} \\left(2 \\boldsymbol{\\mathrm{r}}^{2} \\sin^{2}{\\left (\\boldsymbol{\\mathrm{\\theta}} \\right )} + 3 \\sin^{2}{\\left (\\boldsymbol{\\mathrm{\\theta}} \\right )} - 1\\right)}{\\left(\\boldsymbol{\\mathrm{r}}^{4} + 2 \\boldsymbol{\\mathrm{r}}^{2} + 1\\right) \\tan{\\left (\\boldsymbol{\\mathrm{\\theta}} \\right )}}$"
      ],
      "text/plain": [
       "<IPython.core.display.Math object>"
      ]
     },
     "metadata": {},
     "output_type": "display_data"
    },
    {
     "name": "stdout",
     "output_type": "stream",
     "text": [
      "---------------------------------\n",
      "phi, t, phi, t:   \n"
     ]
    },
    {
     "data": {
      "text/latex": [
       "$\\displaystyle \\frac{- 16 \\boldsymbol{\\mathrm{r}}^{4} \\sin^{4}{\\left (\\boldsymbol{\\mathrm{\\theta}} \\right )} - 8 \\boldsymbol{\\mathrm{r}}^{4} \\cos^{4}{\\left (\\boldsymbol{\\mathrm{\\theta}} \\right )} + 4 \\boldsymbol{\\mathrm{r}}^{4} \\cos^{2}{\\left (\\boldsymbol{\\mathrm{\\theta}} \\right )} + 3 \\boldsymbol{\\mathrm{r}}^{4} \\cos{\\left (4 \\boldsymbol{\\mathrm{\\theta}} \\right )} - 3 \\boldsymbol{\\mathrm{r}}^{4} - 32 \\boldsymbol{\\mathrm{r}}^{2} \\sin^{2}{\\left (\\boldsymbol{\\mathrm{\\theta}} \\right )} + 8 \\boldsymbol{\\mathrm{r}}^{2} \\cos^{4}{\\left (\\boldsymbol{\\mathrm{\\theta}} \\right )} - 16 \\boldsymbol{\\mathrm{r}}^{2} \\cos^{2}{\\left (\\boldsymbol{\\mathrm{\\theta}} \\right )} - \\boldsymbol{\\mathrm{r}}^{2} \\cos{\\left (4 \\boldsymbol{\\mathrm{\\theta}} \\right )} + \\boldsymbol{\\mathrm{r}}^{2} + 12 \\cos^{2}{\\left (\\boldsymbol{\\mathrm{\\theta}} \\right )} - 16}{- 4 \\boldsymbol{\\mathrm{r}}^{8} \\sin^{4}{\\left (\\boldsymbol{\\mathrm{\\theta}} \\right )} - 4 \\boldsymbol{\\mathrm{r}}^{8} \\cos^{4}{\\left (\\boldsymbol{\\mathrm{\\theta}} \\right )} + \\boldsymbol{\\mathrm{r}}^{8} \\cos{\\left (4 \\boldsymbol{\\mathrm{\\theta}} \\right )} - \\boldsymbol{\\mathrm{r}}^{8} - 8 \\boldsymbol{\\mathrm{r}}^{6} \\sin^{4}{\\left (\\boldsymbol{\\mathrm{\\theta}} \\right )} - 8 \\boldsymbol{\\mathrm{r}}^{6} \\sin^{2}{\\left (\\boldsymbol{\\mathrm{\\theta}} \\right )} - 8 \\boldsymbol{\\mathrm{r}}^{6} \\cos^{4}{\\left (\\boldsymbol{\\mathrm{\\theta}} \\right )} - 8 \\boldsymbol{\\mathrm{r}}^{6} \\cos^{2}{\\left (\\boldsymbol{\\mathrm{\\theta}} \\right )} + 2 \\boldsymbol{\\mathrm{r}}^{6} \\cos{\\left (4 \\boldsymbol{\\mathrm{\\theta}} \\right )} - 2 \\boldsymbol{\\mathrm{r}}^{6} - 4 \\boldsymbol{\\mathrm{r}}^{4} \\sin^{4}{\\left (\\boldsymbol{\\mathrm{\\theta}} \\right )} - 16 \\boldsymbol{\\mathrm{r}}^{4} \\sin^{2}{\\left (\\boldsymbol{\\mathrm{\\theta}} \\right )} - 4 \\boldsymbol{\\mathrm{r}}^{4} \\cos^{4}{\\left (\\boldsymbol{\\mathrm{\\theta}} \\right )} - 16 \\boldsymbol{\\mathrm{r}}^{4} \\cos^{2}{\\left (\\boldsymbol{\\mathrm{\\theta}} \\right )} + \\boldsymbol{\\mathrm{r}}^{4} \\cos{\\left (4 \\boldsymbol{\\mathrm{\\theta}} \\right )} - 5 \\boldsymbol{\\mathrm{r}}^{4} - 8 \\boldsymbol{\\mathrm{r}}^{2} \\sin^{2}{\\left (\\boldsymbol{\\mathrm{\\theta}} \\right )} - 8 \\boldsymbol{\\mathrm{r}}^{2} \\cos^{2}{\\left (\\boldsymbol{\\mathrm{\\theta}} \\right )} - 8 \\boldsymbol{\\mathrm{r}}^{2} - 4}$"
      ],
      "text/plain": [
       "<IPython.core.display.Math object>"
      ]
     },
     "metadata": {},
     "output_type": "display_data"
    },
    {
     "name": "stdout",
     "output_type": "stream",
     "text": [
      "---------------------------------\n",
      "phi, t, phi, r:   \n"
     ]
    },
    {
     "data": {
      "text/latex": [
       "$\\displaystyle \\frac{\\boldsymbol{\\mathrm{r}} \\left(2 \\boldsymbol{\\mathrm{r}}^{2} + 3\\right) \\sin^{2}{\\left (\\boldsymbol{\\mathrm{\\theta}} \\right )}}{\\left(\\boldsymbol{\\mathrm{r}}^{4} + 2 \\boldsymbol{\\mathrm{r}}^{2} + 1\\right) \\tan{\\left (\\boldsymbol{\\mathrm{\\theta}} \\right )}}$"
      ],
      "text/plain": [
       "<IPython.core.display.Math object>"
      ]
     },
     "metadata": {},
     "output_type": "display_data"
    },
    {
     "name": "stdout",
     "output_type": "stream",
     "text": [
      "---------------------------------\n",
      "phi, t, z, t:   \n"
     ]
    },
    {
     "data": {
      "text/latex": [
       "$\\displaystyle \\frac{\\left(2 \\boldsymbol{\\mathrm{r}}^{2} \\sin^{2}{\\left (\\boldsymbol{\\mathrm{\\theta}} \\right )} + 2 \\boldsymbol{\\mathrm{r}}^{2} \\cos^{2}{\\left (\\boldsymbol{\\mathrm{\\theta}} \\right )} + \\boldsymbol{\\mathrm{r}}^{2} + 3\\right) \\cos^{2}{\\left (\\boldsymbol{\\mathrm{\\theta}} \\right )}}{\\frac{\\boldsymbol{\\mathrm{r}}^{6} \\left(- \\cos{\\left (4 \\boldsymbol{\\mathrm{\\theta}} \\right )} + 1\\right)}{4} + \\boldsymbol{\\mathrm{r}}^{6} \\sin^{4}{\\left (\\boldsymbol{\\mathrm{\\theta}} \\right )} + \\boldsymbol{\\mathrm{r}}^{6} \\cos^{4}{\\left (\\boldsymbol{\\mathrm{\\theta}} \\right )} + \\frac{\\boldsymbol{\\mathrm{r}}^{4} \\left(- \\cos{\\left (4 \\boldsymbol{\\mathrm{\\theta}} \\right )} + 1\\right)}{4} + \\boldsymbol{\\mathrm{r}}^{4} \\sin^{4}{\\left (\\boldsymbol{\\mathrm{\\theta}} \\right )} + 2 \\boldsymbol{\\mathrm{r}}^{4} \\sin^{2}{\\left (\\boldsymbol{\\mathrm{\\theta}} \\right )} + \\boldsymbol{\\mathrm{r}}^{4} \\cos^{4}{\\left (\\boldsymbol{\\mathrm{\\theta}} \\right )} + 2 \\boldsymbol{\\mathrm{r}}^{4} \\cos^{2}{\\left (\\boldsymbol{\\mathrm{\\theta}} \\right )} + 2 \\boldsymbol{\\mathrm{r}}^{2} \\sin^{2}{\\left (\\boldsymbol{\\mathrm{\\theta}} \\right )} + 2 \\boldsymbol{\\mathrm{r}}^{2} \\cos^{2}{\\left (\\boldsymbol{\\mathrm{\\theta}} \\right )} + \\boldsymbol{\\mathrm{r}}^{2} + 1}$"
      ],
      "text/plain": [
       "<IPython.core.display.Math object>"
      ]
     },
     "metadata": {},
     "output_type": "display_data"
    },
    {
     "name": "stdout",
     "output_type": "stream",
     "text": [
      "---------------------------------\n",
      "phi, t, z, r:   \n"
     ]
    },
    {
     "data": {
      "text/latex": [
       "$\\displaystyle - \\frac{\\boldsymbol{\\mathrm{r}} \\left(2 \\boldsymbol{\\mathrm{r}}^{2} \\sin^{2}{\\left (\\boldsymbol{\\mathrm{\\theta}} \\right )} + 3 \\sin^{2}{\\left (\\boldsymbol{\\mathrm{\\theta}} \\right )} - 1\\right)}{\\left(\\boldsymbol{\\mathrm{r}}^{4} + 2 \\boldsymbol{\\mathrm{r}}^{2} + 1\\right) \\tan{\\left (\\boldsymbol{\\mathrm{\\theta}} \\right )}}$"
      ],
      "text/plain": [
       "<IPython.core.display.Math object>"
      ]
     },
     "metadata": {},
     "output_type": "display_data"
    },
    {
     "name": "stdout",
     "output_type": "stream",
     "text": [
      "---------------------------------\n",
      "phi, r, t, phi:   \n"
     ]
    },
    {
     "data": {
      "text/latex": [
       "$\\displaystyle - \\frac{\\boldsymbol{\\mathrm{r}} \\left(2 \\boldsymbol{\\mathrm{r}}^{4} \\cos^{2}{\\left (2 \\boldsymbol{\\mathrm{\\theta}} \\right )} - 4 \\boldsymbol{\\mathrm{r}}^{4} \\cos{\\left (2 \\boldsymbol{\\mathrm{\\theta}} \\right )} - \\boldsymbol{\\mathrm{r}}^{4} \\cos{\\left (4 \\boldsymbol{\\mathrm{\\theta}} \\right )} + 3 \\boldsymbol{\\mathrm{r}}^{4} - 16 \\boldsymbol{\\mathrm{r}}^{2} \\cos{\\left (2 \\boldsymbol{\\mathrm{\\theta}} \\right )} + 16 \\boldsymbol{\\mathrm{r}}^{2} - 12 \\cos{\\left (2 \\boldsymbol{\\mathrm{\\theta}} \\right )} + 12\\right)}{2 \\left(2 \\boldsymbol{\\mathrm{r}}^{6} \\cos^{2}{\\left (2 \\boldsymbol{\\mathrm{\\theta}} \\right )} - \\boldsymbol{\\mathrm{r}}^{6} \\cos{\\left (4 \\boldsymbol{\\mathrm{\\theta}} \\right )} + 3 \\boldsymbol{\\mathrm{r}}^{6} + 2 \\boldsymbol{\\mathrm{r}}^{4} \\cos^{2}{\\left (2 \\boldsymbol{\\mathrm{\\theta}} \\right )} - \\boldsymbol{\\mathrm{r}}^{4} \\cos{\\left (4 \\boldsymbol{\\mathrm{\\theta}} \\right )} + 11 \\boldsymbol{\\mathrm{r}}^{4} + 12 \\boldsymbol{\\mathrm{r}}^{2} + 4\\right) \\tan{\\left (\\boldsymbol{\\mathrm{\\theta}} \\right )}}$"
      ],
      "text/plain": [
       "<IPython.core.display.Math object>"
      ]
     },
     "metadata": {},
     "output_type": "display_data"
    },
    {
     "name": "stdout",
     "output_type": "stream",
     "text": [
      "---------------------------------\n",
      "phi, r, t, z:   \n"
     ]
    },
    {
     "data": {
      "text/latex": [
       "$\\displaystyle \\frac{\\boldsymbol{\\mathrm{r}} \\left(2 \\boldsymbol{\\mathrm{r}}^{4} \\cos^{2}{\\left (2 \\boldsymbol{\\mathrm{\\theta}} \\right )} - 4 \\boldsymbol{\\mathrm{r}}^{4} \\cos{\\left (2 \\boldsymbol{\\mathrm{\\theta}} \\right )} - \\boldsymbol{\\mathrm{r}}^{4} \\cos{\\left (4 \\boldsymbol{\\mathrm{\\theta}} \\right )} + 3 \\boldsymbol{\\mathrm{r}}^{4} - 16 \\boldsymbol{\\mathrm{r}}^{2} \\cos{\\left (2 \\boldsymbol{\\mathrm{\\theta}} \\right )} - 12 \\cos{\\left (2 \\boldsymbol{\\mathrm{\\theta}} \\right )} - 4\\right)}{2 \\left(2 \\boldsymbol{\\mathrm{r}}^{6} \\cos^{2}{\\left (2 \\boldsymbol{\\mathrm{\\theta}} \\right )} - \\boldsymbol{\\mathrm{r}}^{6} \\cos{\\left (4 \\boldsymbol{\\mathrm{\\theta}} \\right )} + 3 \\boldsymbol{\\mathrm{r}}^{6} + 2 \\boldsymbol{\\mathrm{r}}^{4} \\cos^{2}{\\left (2 \\boldsymbol{\\mathrm{\\theta}} \\right )} - \\boldsymbol{\\mathrm{r}}^{4} \\cos{\\left (4 \\boldsymbol{\\mathrm{\\theta}} \\right )} + 11 \\boldsymbol{\\mathrm{r}}^{4} + 12 \\boldsymbol{\\mathrm{r}}^{2} + 4\\right) \\tan{\\left (\\boldsymbol{\\mathrm{\\theta}} \\right )}}$"
      ],
      "text/plain": [
       "<IPython.core.display.Math object>"
      ]
     },
     "metadata": {},
     "output_type": "display_data"
    },
    {
     "name": "stdout",
     "output_type": "stream",
     "text": [
      "---------------------------------\n",
      "phi, r, r, phi:   \n"
     ]
    },
    {
     "data": {
      "text/latex": [
       "$\\displaystyle \\frac{\\boldsymbol{\\mathrm{r}}^{2} \\left(3 \\sin^{2}{\\left (\\boldsymbol{\\mathrm{\\theta}} \\right )} - 4\\right)}{\\boldsymbol{\\mathrm{r}}^{2} \\sin^{2}{\\left (\\boldsymbol{\\mathrm{\\theta}} \\right )} + \\boldsymbol{\\mathrm{r}}^{2} \\cos^{2}{\\left (\\boldsymbol{\\mathrm{\\theta}} \\right )} + 1}$"
      ],
      "text/plain": [
       "<IPython.core.display.Math object>"
      ]
     },
     "metadata": {},
     "output_type": "display_data"
    },
    {
     "name": "stdout",
     "output_type": "stream",
     "text": [
      "---------------------------------\n",
      "phi, r, r, z:   \n"
     ]
    },
    {
     "data": {
      "text/latex": [
       "$\\displaystyle \\frac{3 \\boldsymbol{\\mathrm{r}}^{2} \\cos^{2}{\\left (\\boldsymbol{\\mathrm{\\theta}} \\right )}}{\\boldsymbol{\\mathrm{r}}^{2} \\sin^{2}{\\left (\\boldsymbol{\\mathrm{\\theta}} \\right )} + \\boldsymbol{\\mathrm{r}}^{2} \\cos^{2}{\\left (\\boldsymbol{\\mathrm{\\theta}} \\right )} + 1}$"
      ],
      "text/plain": [
       "<IPython.core.display.Math object>"
      ]
     },
     "metadata": {},
     "output_type": "display_data"
    },
    {
     "name": "stdout",
     "output_type": "stream",
     "text": [
      "---------------------------------\n",
      "phi, r, phi, t:   \n"
     ]
    },
    {
     "data": {
      "text/latex": [
       "$\\displaystyle \\frac{\\boldsymbol{\\mathrm{r}} \\left(2 \\boldsymbol{\\mathrm{r}}^{4} \\cos^{2}{\\left (2 \\boldsymbol{\\mathrm{\\theta}} \\right )} - 4 \\boldsymbol{\\mathrm{r}}^{4} \\cos{\\left (2 \\boldsymbol{\\mathrm{\\theta}} \\right )} - \\boldsymbol{\\mathrm{r}}^{4} \\cos{\\left (4 \\boldsymbol{\\mathrm{\\theta}} \\right )} + 3 \\boldsymbol{\\mathrm{r}}^{4} - 16 \\boldsymbol{\\mathrm{r}}^{2} \\cos{\\left (2 \\boldsymbol{\\mathrm{\\theta}} \\right )} + 16 \\boldsymbol{\\mathrm{r}}^{2} - 12 \\cos{\\left (2 \\boldsymbol{\\mathrm{\\theta}} \\right )} + 12\\right)}{2 \\left(2 \\boldsymbol{\\mathrm{r}}^{6} \\cos^{2}{\\left (2 \\boldsymbol{\\mathrm{\\theta}} \\right )} - \\boldsymbol{\\mathrm{r}}^{6} \\cos{\\left (4 \\boldsymbol{\\mathrm{\\theta}} \\right )} + 3 \\boldsymbol{\\mathrm{r}}^{6} + 2 \\boldsymbol{\\mathrm{r}}^{4} \\cos^{2}{\\left (2 \\boldsymbol{\\mathrm{\\theta}} \\right )} - \\boldsymbol{\\mathrm{r}}^{4} \\cos{\\left (4 \\boldsymbol{\\mathrm{\\theta}} \\right )} + 11 \\boldsymbol{\\mathrm{r}}^{4} + 12 \\boldsymbol{\\mathrm{r}}^{2} + 4\\right) \\tan{\\left (\\boldsymbol{\\mathrm{\\theta}} \\right )}}$"
      ],
      "text/plain": [
       "<IPython.core.display.Math object>"
      ]
     },
     "metadata": {},
     "output_type": "display_data"
    },
    {
     "name": "stdout",
     "output_type": "stream",
     "text": [
      "---------------------------------\n",
      "phi, r, phi, r:   \n"
     ]
    },
    {
     "data": {
      "text/latex": [
       "$\\displaystyle - \\frac{\\boldsymbol{\\mathrm{r}}^{2} \\left(3 \\sin^{2}{\\left (\\boldsymbol{\\mathrm{\\theta}} \\right )} - 4\\right)}{\\boldsymbol{\\mathrm{r}}^{2} \\sin^{2}{\\left (\\boldsymbol{\\mathrm{\\theta}} \\right )} + \\boldsymbol{\\mathrm{r}}^{2} \\cos^{2}{\\left (\\boldsymbol{\\mathrm{\\theta}} \\right )} + 1}$"
      ],
      "text/plain": [
       "<IPython.core.display.Math object>"
      ]
     },
     "metadata": {},
     "output_type": "display_data"
    },
    {
     "name": "stdout",
     "output_type": "stream",
     "text": [
      "---------------------------------\n",
      "phi, r, z, t:   \n"
     ]
    },
    {
     "data": {
      "text/latex": [
       "$\\displaystyle \\frac{\\boldsymbol{\\mathrm{r}} \\left(- 2 \\boldsymbol{\\mathrm{r}}^{4} \\cos^{2}{\\left (2 \\boldsymbol{\\mathrm{\\theta}} \\right )} + 4 \\boldsymbol{\\mathrm{r}}^{4} \\cos{\\left (2 \\boldsymbol{\\mathrm{\\theta}} \\right )} + \\boldsymbol{\\mathrm{r}}^{4} \\cos{\\left (4 \\boldsymbol{\\mathrm{\\theta}} \\right )} - 3 \\boldsymbol{\\mathrm{r}}^{4} + 16 \\boldsymbol{\\mathrm{r}}^{2} \\cos{\\left (2 \\boldsymbol{\\mathrm{\\theta}} \\right )} + 12 \\cos{\\left (2 \\boldsymbol{\\mathrm{\\theta}} \\right )} + 4\\right)}{2 \\left(2 \\boldsymbol{\\mathrm{r}}^{6} \\cos^{2}{\\left (2 \\boldsymbol{\\mathrm{\\theta}} \\right )} - \\boldsymbol{\\mathrm{r}}^{6} \\cos{\\left (4 \\boldsymbol{\\mathrm{\\theta}} \\right )} + 3 \\boldsymbol{\\mathrm{r}}^{6} + 2 \\boldsymbol{\\mathrm{r}}^{4} \\cos^{2}{\\left (2 \\boldsymbol{\\mathrm{\\theta}} \\right )} - \\boldsymbol{\\mathrm{r}}^{4} \\cos{\\left (4 \\boldsymbol{\\mathrm{\\theta}} \\right )} + 11 \\boldsymbol{\\mathrm{r}}^{4} + 12 \\boldsymbol{\\mathrm{r}}^{2} + 4\\right) \\tan{\\left (\\boldsymbol{\\mathrm{\\theta}} \\right )}}$"
      ],
      "text/plain": [
       "<IPython.core.display.Math object>"
      ]
     },
     "metadata": {},
     "output_type": "display_data"
    },
    {
     "name": "stdout",
     "output_type": "stream",
     "text": [
      "---------------------------------\n",
      "phi, r, z, r:   \n"
     ]
    },
    {
     "data": {
      "text/latex": [
       "$\\displaystyle - \\frac{3 \\boldsymbol{\\mathrm{r}}^{2} \\cos^{2}{\\left (\\boldsymbol{\\mathrm{\\theta}} \\right )}}{\\boldsymbol{\\mathrm{r}}^{2} \\sin^{2}{\\left (\\boldsymbol{\\mathrm{\\theta}} \\right )} + \\boldsymbol{\\mathrm{r}}^{2} \\cos^{2}{\\left (\\boldsymbol{\\mathrm{\\theta}} \\right )} + 1}$"
      ],
      "text/plain": [
       "<IPython.core.display.Math object>"
      ]
     },
     "metadata": {},
     "output_type": "display_data"
    },
    {
     "name": "stdout",
     "output_type": "stream",
     "text": [
      "---------------------------------\n",
      "phi, phi, t, r:   \n"
     ]
    },
    {
     "data": {
      "text/latex": [
       "$\\displaystyle \\frac{2 \\boldsymbol{\\mathrm{r}}^{3} \\sin{\\left (2 \\boldsymbol{\\mathrm{\\theta}} \\right )}}{2 \\boldsymbol{\\mathrm{r}}^{4} \\cos^{2}{\\left (2 \\boldsymbol{\\mathrm{\\theta}} \\right )} - \\boldsymbol{\\mathrm{r}}^{4} \\cos{\\left (4 \\boldsymbol{\\mathrm{\\theta}} \\right )} + 3 \\boldsymbol{\\mathrm{r}}^{4} + 8 \\boldsymbol{\\mathrm{r}}^{2} + 4}$"
      ],
      "text/plain": [
       "<IPython.core.display.Math object>"
      ]
     },
     "metadata": {},
     "output_type": "display_data"
    },
    {
     "name": "stdout",
     "output_type": "stream",
     "text": [
      "---------------------------------\n",
      "phi, phi, r, t:   \n"
     ]
    },
    {
     "data": {
      "text/latex": [
       "$\\displaystyle - \\frac{2 \\boldsymbol{\\mathrm{r}}^{3} \\sin{\\left (2 \\boldsymbol{\\mathrm{\\theta}} \\right )}}{2 \\boldsymbol{\\mathrm{r}}^{4} \\cos^{2}{\\left (2 \\boldsymbol{\\mathrm{\\theta}} \\right )} - \\boldsymbol{\\mathrm{r}}^{4} \\cos{\\left (4 \\boldsymbol{\\mathrm{\\theta}} \\right )} + 3 \\boldsymbol{\\mathrm{r}}^{4} + 8 \\boldsymbol{\\mathrm{r}}^{2} + 4}$"
      ],
      "text/plain": [
       "<IPython.core.display.Math object>"
      ]
     },
     "metadata": {},
     "output_type": "display_data"
    },
    {
     "name": "stdout",
     "output_type": "stream",
     "text": [
      "---------------------------------\n",
      "phi, phi, phi, z:   \n"
     ]
    },
    {
     "data": {
      "text/latex": [
       "$\\displaystyle \\frac{\\boldsymbol{\\mathrm{r}}^{4} \\left(\\cos{\\left (4 \\boldsymbol{\\mathrm{\\theta}} \\right )} - 1\\right)}{8 \\left(\\boldsymbol{\\mathrm{r}}^{4} + 2 \\boldsymbol{\\mathrm{r}}^{2} + 1\\right)}$"
      ],
      "text/plain": [
       "<IPython.core.display.Math object>"
      ]
     },
     "metadata": {},
     "output_type": "display_data"
    },
    {
     "name": "stdout",
     "output_type": "stream",
     "text": [
      "---------------------------------\n",
      "phi, phi, z, phi:   \n"
     ]
    },
    {
     "data": {
      "text/latex": [
       "$\\displaystyle - \\frac{\\boldsymbol{\\mathrm{r}}^{4} \\left(\\cos{\\left (4 \\boldsymbol{\\mathrm{\\theta}} \\right )} - 1\\right)}{8 \\boldsymbol{\\mathrm{r}}^{4} + 16 \\boldsymbol{\\mathrm{r}}^{2} + 8}$"
      ],
      "text/plain": [
       "<IPython.core.display.Math object>"
      ]
     },
     "metadata": {},
     "output_type": "display_data"
    },
    {
     "name": "stdout",
     "output_type": "stream",
     "text": [
      "---------------------------------\n",
      "phi, z, t, r:   \n"
     ]
    },
    {
     "data": {
      "text/latex": [
       "$\\displaystyle - \\frac{\\boldsymbol{\\mathrm{r}} \\left(2 \\boldsymbol{\\mathrm{r}}^{2} \\cos^{2}{\\left (2 \\boldsymbol{\\mathrm{\\theta}} \\right )} - 4 \\boldsymbol{\\mathrm{r}}^{2} \\cos{\\left (2 \\boldsymbol{\\mathrm{\\theta}} \\right )} - \\boldsymbol{\\mathrm{r}}^{2} \\cos{\\left (4 \\boldsymbol{\\mathrm{\\theta}} \\right )} + 3 \\boldsymbol{\\mathrm{r}}^{2} + 8\\right)}{2 \\left(2 \\boldsymbol{\\mathrm{r}}^{4} \\cos^{2}{\\left (2 \\boldsymbol{\\mathrm{\\theta}} \\right )} - \\boldsymbol{\\mathrm{r}}^{4} \\cos{\\left (4 \\boldsymbol{\\mathrm{\\theta}} \\right )} + 3 \\boldsymbol{\\mathrm{r}}^{4} + 8 \\boldsymbol{\\mathrm{r}}^{2} + 4\\right) \\tan{\\left (\\boldsymbol{\\mathrm{\\theta}} \\right )}}$"
      ],
      "text/plain": [
       "<IPython.core.display.Math object>"
      ]
     },
     "metadata": {},
     "output_type": "display_data"
    },
    {
     "name": "stdout",
     "output_type": "stream",
     "text": [
      "---------------------------------\n",
      "phi, z, r, t:   \n"
     ]
    },
    {
     "data": {
      "text/latex": [
       "$\\displaystyle \\frac{\\boldsymbol{\\mathrm{r}} \\left(2 \\boldsymbol{\\mathrm{r}}^{2} \\cos^{2}{\\left (2 \\boldsymbol{\\mathrm{\\theta}} \\right )} - 4 \\boldsymbol{\\mathrm{r}}^{2} \\cos{\\left (2 \\boldsymbol{\\mathrm{\\theta}} \\right )} - \\boldsymbol{\\mathrm{r}}^{2} \\cos{\\left (4 \\boldsymbol{\\mathrm{\\theta}} \\right )} + 3 \\boldsymbol{\\mathrm{r}}^{2} + 8\\right)}{2 \\left(2 \\boldsymbol{\\mathrm{r}}^{4} \\cos^{2}{\\left (2 \\boldsymbol{\\mathrm{\\theta}} \\right )} - \\boldsymbol{\\mathrm{r}}^{4} \\cos{\\left (4 \\boldsymbol{\\mathrm{\\theta}} \\right )} + 3 \\boldsymbol{\\mathrm{r}}^{4} + 8 \\boldsymbol{\\mathrm{r}}^{2} + 4\\right) \\tan{\\left (\\boldsymbol{\\mathrm{\\theta}} \\right )}}$"
      ],
      "text/plain": [
       "<IPython.core.display.Math object>"
      ]
     },
     "metadata": {},
     "output_type": "display_data"
    },
    {
     "name": "stdout",
     "output_type": "stream",
     "text": [
      "---------------------------------\n",
      "phi, z, phi, z:   \n"
     ]
    },
    {
     "data": {
      "text/latex": [
       "$\\displaystyle \\frac{\\boldsymbol{\\mathrm{r}}^{2} \\left(\\frac{\\boldsymbol{\\mathrm{r}}^{4} \\left(- \\cos{\\left (2 \\boldsymbol{\\mathrm{\\theta}} \\right )} + 1\\right)^{2}}{2} + \\frac{\\boldsymbol{\\mathrm{r}}^{4} \\left(\\cos{\\left (2 \\boldsymbol{\\mathrm{\\theta}} \\right )} - 1\\right)}{2} + \\frac{\\boldsymbol{\\mathrm{r}}^{4} \\left(- \\cos{\\left (4 \\boldsymbol{\\mathrm{\\theta}} \\right )} + 1\\right)}{4} - \\frac{\\boldsymbol{\\mathrm{r}}^{2} \\left(- \\cos{\\left (2 \\boldsymbol{\\mathrm{\\theta}} \\right )} + 1\\right)^{2}}{2} + \\frac{5 \\boldsymbol{\\mathrm{r}}^{2} \\left(- \\cos{\\left (2 \\boldsymbol{\\mathrm{\\theta}} \\right )} + 1\\right)}{2} + \\boldsymbol{\\mathrm{r}}^{2} \\left(\\cos{\\left (2 \\boldsymbol{\\mathrm{\\theta}} \\right )} + 1\\right) + \\frac{\\boldsymbol{\\mathrm{r}}^{2} \\left(\\cos{\\left (4 \\boldsymbol{\\mathrm{\\theta}} \\right )} - 1\\right)}{4} - \\boldsymbol{\\mathrm{r}}^{2} + 1\\right) \\cos^{2}{\\left (\\boldsymbol{\\mathrm{\\theta}} \\right )}}{\\boldsymbol{\\mathrm{r}}^{6} \\sin^{2}{\\left (\\boldsymbol{\\mathrm{\\theta}} \\right )} + \\boldsymbol{\\mathrm{r}}^{6} \\cos^{2}{\\left (\\boldsymbol{\\mathrm{\\theta}} \\right )} + 2 \\boldsymbol{\\mathrm{r}}^{4} \\sin^{2}{\\left (\\boldsymbol{\\mathrm{\\theta}} \\right )} + 2 \\boldsymbol{\\mathrm{r}}^{4} \\cos^{2}{\\left (\\boldsymbol{\\mathrm{\\theta}} \\right )} + \\boldsymbol{\\mathrm{r}}^{4} + \\boldsymbol{\\mathrm{r}}^{2} \\sin^{2}{\\left (\\boldsymbol{\\mathrm{\\theta}} \\right )} + \\boldsymbol{\\mathrm{r}}^{2} \\cos^{2}{\\left (\\boldsymbol{\\mathrm{\\theta}} \\right )} + 2 \\boldsymbol{\\mathrm{r}}^{2} + 1}$"
      ],
      "text/plain": [
       "<IPython.core.display.Math object>"
      ]
     },
     "metadata": {},
     "output_type": "display_data"
    },
    {
     "name": "stdout",
     "output_type": "stream",
     "text": [
      "---------------------------------\n",
      "phi, z, z, phi:   \n"
     ]
    },
    {
     "data": {
      "text/latex": [
       "$\\displaystyle \\frac{\\boldsymbol{\\mathrm{r}}^{2} \\left(- \\frac{\\boldsymbol{\\mathrm{r}}^{4} \\left(- \\cos{\\left (2 \\boldsymbol{\\mathrm{\\theta}} \\right )} + 1\\right)^{2}}{2} - \\frac{\\boldsymbol{\\mathrm{r}}^{4} \\left(\\cos{\\left (2 \\boldsymbol{\\mathrm{\\theta}} \\right )} - 1\\right)}{2} - \\frac{\\boldsymbol{\\mathrm{r}}^{4} \\left(- \\cos{\\left (4 \\boldsymbol{\\mathrm{\\theta}} \\right )} + 1\\right)}{4} + \\frac{\\boldsymbol{\\mathrm{r}}^{2} \\left(- \\cos{\\left (2 \\boldsymbol{\\mathrm{\\theta}} \\right )} + 1\\right)^{2}}{2} - \\frac{5 \\boldsymbol{\\mathrm{r}}^{2} \\left(- \\cos{\\left (2 \\boldsymbol{\\mathrm{\\theta}} \\right )} + 1\\right)}{2} - \\boldsymbol{\\mathrm{r}}^{2} \\left(\\cos{\\left (2 \\boldsymbol{\\mathrm{\\theta}} \\right )} + 1\\right) - \\frac{\\boldsymbol{\\mathrm{r}}^{2} \\left(\\cos{\\left (4 \\boldsymbol{\\mathrm{\\theta}} \\right )} - 1\\right)}{4} + \\boldsymbol{\\mathrm{r}}^{2} - 1\\right) \\cos^{2}{\\left (\\boldsymbol{\\mathrm{\\theta}} \\right )}}{\\boldsymbol{\\mathrm{r}}^{6} \\sin^{2}{\\left (\\boldsymbol{\\mathrm{\\theta}} \\right )} + \\boldsymbol{\\mathrm{r}}^{6} \\cos^{2}{\\left (\\boldsymbol{\\mathrm{\\theta}} \\right )} + 2 \\boldsymbol{\\mathrm{r}}^{4} \\sin^{2}{\\left (\\boldsymbol{\\mathrm{\\theta}} \\right )} + 2 \\boldsymbol{\\mathrm{r}}^{4} \\cos^{2}{\\left (\\boldsymbol{\\mathrm{\\theta}} \\right )} + \\boldsymbol{\\mathrm{r}}^{4} + \\boldsymbol{\\mathrm{r}}^{2} \\sin^{2}{\\left (\\boldsymbol{\\mathrm{\\theta}} \\right )} + \\boldsymbol{\\mathrm{r}}^{2} \\cos^{2}{\\left (\\boldsymbol{\\mathrm{\\theta}} \\right )} + 2 \\boldsymbol{\\mathrm{r}}^{2} + 1}$"
      ],
      "text/plain": [
       "<IPython.core.display.Math object>"
      ]
     },
     "metadata": {},
     "output_type": "display_data"
    },
    {
     "name": "stdout",
     "output_type": "stream",
     "text": [
      "---------------------------------\n",
      "z, t, t, phi:   \n"
     ]
    },
    {
     "data": {
      "text/latex": [
       "$\\displaystyle - \\frac{\\left(2 \\boldsymbol{\\mathrm{r}}^{2} \\sin^{2}{\\left (\\boldsymbol{\\mathrm{\\theta}} \\right )} + 2 \\boldsymbol{\\mathrm{r}}^{2} \\cos^{2}{\\left (\\boldsymbol{\\mathrm{\\theta}} \\right )} + \\boldsymbol{\\mathrm{r}}^{2} + 3\\right) \\sin^{2}{\\left (\\boldsymbol{\\mathrm{\\theta}} \\right )}}{- \\frac{\\boldsymbol{\\mathrm{r}}^{6} \\left(\\cos{\\left (4 \\boldsymbol{\\mathrm{\\theta}} \\right )} - 1\\right)}{4} + \\boldsymbol{\\mathrm{r}}^{6} \\sin^{4}{\\left (\\boldsymbol{\\mathrm{\\theta}} \\right )} + \\boldsymbol{\\mathrm{r}}^{6} \\cos^{4}{\\left (\\boldsymbol{\\mathrm{\\theta}} \\right )} - \\frac{\\boldsymbol{\\mathrm{r}}^{4} \\left(\\cos{\\left (4 \\boldsymbol{\\mathrm{\\theta}} \\right )} - 1\\right)}{4} + \\boldsymbol{\\mathrm{r}}^{4} \\sin^{4}{\\left (\\boldsymbol{\\mathrm{\\theta}} \\right )} + 2 \\boldsymbol{\\mathrm{r}}^{4} \\sin^{2}{\\left (\\boldsymbol{\\mathrm{\\theta}} \\right )} + \\boldsymbol{\\mathrm{r}}^{4} \\cos^{4}{\\left (\\boldsymbol{\\mathrm{\\theta}} \\right )} + 2 \\boldsymbol{\\mathrm{r}}^{4} \\cos^{2}{\\left (\\boldsymbol{\\mathrm{\\theta}} \\right )} + 2 \\boldsymbol{\\mathrm{r}}^{2} \\sin^{2}{\\left (\\boldsymbol{\\mathrm{\\theta}} \\right )} + 2 \\boldsymbol{\\mathrm{r}}^{2} \\cos^{2}{\\left (\\boldsymbol{\\mathrm{\\theta}} \\right )} + \\boldsymbol{\\mathrm{r}}^{2} + 1}$"
      ],
      "text/plain": [
       "<IPython.core.display.Math object>"
      ]
     },
     "metadata": {},
     "output_type": "display_data"
    },
    {
     "name": "stdout",
     "output_type": "stream",
     "text": [
      "---------------------------------\n",
      "z, t, t, z:   \n"
     ]
    },
    {
     "data": {
      "text/latex": [
       "$\\displaystyle \\frac{- \\frac{3 \\boldsymbol{\\mathrm{r}}^{4} \\left(- \\cos{\\left (4 \\boldsymbol{\\mathrm{\\theta}} \\right )} + 1\\right)}{4} - 2 \\boldsymbol{\\mathrm{r}}^{4} \\sin^{4}{\\left (\\boldsymbol{\\mathrm{\\theta}} \\right )} + \\boldsymbol{\\mathrm{r}}^{4} \\sin^{2}{\\left (\\boldsymbol{\\mathrm{\\theta}} \\right )} - 4 \\boldsymbol{\\mathrm{r}}^{4} \\cos^{4}{\\left (\\boldsymbol{\\mathrm{\\theta}} \\right )} - \\frac{\\boldsymbol{\\mathrm{r}}^{2} \\left(\\cos{\\left (4 \\boldsymbol{\\mathrm{\\theta}} \\right )} - 1\\right)}{4} + 2 \\boldsymbol{\\mathrm{r}}^{2} \\sin^{4}{\\left (\\boldsymbol{\\mathrm{\\theta}} \\right )} - 4 \\boldsymbol{\\mathrm{r}}^{2} \\sin^{2}{\\left (\\boldsymbol{\\mathrm{\\theta}} \\right )} - 8 \\boldsymbol{\\mathrm{r}}^{2} \\cos^{2}{\\left (\\boldsymbol{\\mathrm{\\theta}} \\right )} + 3 \\sin^{2}{\\left (\\boldsymbol{\\mathrm{\\theta}} \\right )} - 4}{\\frac{\\boldsymbol{\\mathrm{r}}^{8} \\left(- \\cos{\\left (4 \\boldsymbol{\\mathrm{\\theta}} \\right )} + 1\\right)}{4} + \\boldsymbol{\\mathrm{r}}^{8} \\sin^{4}{\\left (\\boldsymbol{\\mathrm{\\theta}} \\right )} + \\boldsymbol{\\mathrm{r}}^{8} \\cos^{4}{\\left (\\boldsymbol{\\mathrm{\\theta}} \\right )} + \\frac{\\boldsymbol{\\mathrm{r}}^{6} \\left(- \\cos{\\left (4 \\boldsymbol{\\mathrm{\\theta}} \\right )} + 1\\right)}{2} + 2 \\boldsymbol{\\mathrm{r}}^{6} \\sin^{4}{\\left (\\boldsymbol{\\mathrm{\\theta}} \\right )} + 2 \\boldsymbol{\\mathrm{r}}^{6} \\sin^{2}{\\left (\\boldsymbol{\\mathrm{\\theta}} \\right )} + 2 \\boldsymbol{\\mathrm{r}}^{6} \\cos^{4}{\\left (\\boldsymbol{\\mathrm{\\theta}} \\right )} + 2 \\boldsymbol{\\mathrm{r}}^{6} \\cos^{2}{\\left (\\boldsymbol{\\mathrm{\\theta}} \\right )} + \\frac{\\boldsymbol{\\mathrm{r}}^{4} \\left(- \\cos{\\left (4 \\boldsymbol{\\mathrm{\\theta}} \\right )} + 1\\right)}{4} + \\boldsymbol{\\mathrm{r}}^{4} \\sin^{4}{\\left (\\boldsymbol{\\mathrm{\\theta}} \\right )} + 4 \\boldsymbol{\\mathrm{r}}^{4} \\sin^{2}{\\left (\\boldsymbol{\\mathrm{\\theta}} \\right )} + \\boldsymbol{\\mathrm{r}}^{4} \\cos^{4}{\\left (\\boldsymbol{\\mathrm{\\theta}} \\right )} + 4 \\boldsymbol{\\mathrm{r}}^{4} \\cos^{2}{\\left (\\boldsymbol{\\mathrm{\\theta}} \\right )} + \\boldsymbol{\\mathrm{r}}^{4} + 2 \\boldsymbol{\\mathrm{r}}^{2} \\sin^{2}{\\left (\\boldsymbol{\\mathrm{\\theta}} \\right )} + 2 \\boldsymbol{\\mathrm{r}}^{2} \\cos^{2}{\\left (\\boldsymbol{\\mathrm{\\theta}} \\right )} + 2 \\boldsymbol{\\mathrm{r}}^{2} + 1}$"
      ],
      "text/plain": [
       "<IPython.core.display.Math object>"
      ]
     },
     "metadata": {},
     "output_type": "display_data"
    },
    {
     "name": "stdout",
     "output_type": "stream",
     "text": [
      "---------------------------------\n",
      "z, t, r, phi:   \n"
     ]
    },
    {
     "data": {
      "text/latex": [
       "$\\displaystyle - \\frac{\\boldsymbol{\\mathrm{r}} \\left(2 \\boldsymbol{\\mathrm{r}}^{2} \\cos^{2}{\\left (\\boldsymbol{\\mathrm{\\theta}} \\right )} + 3 \\cos^{2}{\\left (\\boldsymbol{\\mathrm{\\theta}} \\right )} - 1\\right) \\tan{\\left (\\boldsymbol{\\mathrm{\\theta}} \\right )}}{\\boldsymbol{\\mathrm{r}}^{4} + 2 \\boldsymbol{\\mathrm{r}}^{2} + 1}$"
      ],
      "text/plain": [
       "<IPython.core.display.Math object>"
      ]
     },
     "metadata": {},
     "output_type": "display_data"
    },
    {
     "name": "stdout",
     "output_type": "stream",
     "text": [
      "---------------------------------\n",
      "z, t, r, z:   \n"
     ]
    },
    {
     "data": {
      "text/latex": [
       "$\\displaystyle \\frac{\\boldsymbol{\\mathrm{r}} \\left(2 \\boldsymbol{\\mathrm{r}}^{2} + 3\\right) \\cos^{2}{\\left (\\boldsymbol{\\mathrm{\\theta}} \\right )} \\tan{\\left (\\boldsymbol{\\mathrm{\\theta}} \\right )}}{\\boldsymbol{\\mathrm{r}}^{4} + 2 \\boldsymbol{\\mathrm{r}}^{2} + 1}$"
      ],
      "text/plain": [
       "<IPython.core.display.Math object>"
      ]
     },
     "metadata": {},
     "output_type": "display_data"
    },
    {
     "name": "stdout",
     "output_type": "stream",
     "text": [
      "---------------------------------\n",
      "z, t, phi, t:   \n"
     ]
    },
    {
     "data": {
      "text/latex": [
       "$\\displaystyle \\frac{\\left(2 \\boldsymbol{\\mathrm{r}}^{2} \\sin^{2}{\\left (\\boldsymbol{\\mathrm{\\theta}} \\right )} + 2 \\boldsymbol{\\mathrm{r}}^{2} \\cos^{2}{\\left (\\boldsymbol{\\mathrm{\\theta}} \\right )} + \\boldsymbol{\\mathrm{r}}^{2} + 3\\right) \\sin^{2}{\\left (\\boldsymbol{\\mathrm{\\theta}} \\right )}}{\\frac{\\boldsymbol{\\mathrm{r}}^{6} \\left(- \\cos{\\left (4 \\boldsymbol{\\mathrm{\\theta}} \\right )} + 1\\right)}{4} + \\boldsymbol{\\mathrm{r}}^{6} \\sin^{4}{\\left (\\boldsymbol{\\mathrm{\\theta}} \\right )} + \\boldsymbol{\\mathrm{r}}^{6} \\cos^{4}{\\left (\\boldsymbol{\\mathrm{\\theta}} \\right )} + \\frac{\\boldsymbol{\\mathrm{r}}^{4} \\left(- \\cos{\\left (4 \\boldsymbol{\\mathrm{\\theta}} \\right )} + 1\\right)}{4} + \\boldsymbol{\\mathrm{r}}^{4} \\sin^{4}{\\left (\\boldsymbol{\\mathrm{\\theta}} \\right )} + 2 \\boldsymbol{\\mathrm{r}}^{4} \\sin^{2}{\\left (\\boldsymbol{\\mathrm{\\theta}} \\right )} + \\boldsymbol{\\mathrm{r}}^{4} \\cos^{4}{\\left (\\boldsymbol{\\mathrm{\\theta}} \\right )} + 2 \\boldsymbol{\\mathrm{r}}^{4} \\cos^{2}{\\left (\\boldsymbol{\\mathrm{\\theta}} \\right )} + 2 \\boldsymbol{\\mathrm{r}}^{2} \\sin^{2}{\\left (\\boldsymbol{\\mathrm{\\theta}} \\right )} + 2 \\boldsymbol{\\mathrm{r}}^{2} \\cos^{2}{\\left (\\boldsymbol{\\mathrm{\\theta}} \\right )} + \\boldsymbol{\\mathrm{r}}^{2} + 1}$"
      ],
      "text/plain": [
       "<IPython.core.display.Math object>"
      ]
     },
     "metadata": {},
     "output_type": "display_data"
    },
    {
     "name": "stdout",
     "output_type": "stream",
     "text": [
      "---------------------------------\n",
      "z, t, phi, r:   \n"
     ]
    },
    {
     "data": {
      "text/latex": [
       "$\\displaystyle \\frac{\\boldsymbol{\\mathrm{r}} \\left(2 \\boldsymbol{\\mathrm{r}}^{2} \\cos^{2}{\\left (\\boldsymbol{\\mathrm{\\theta}} \\right )} + 3 \\cos^{2}{\\left (\\boldsymbol{\\mathrm{\\theta}} \\right )} - 1\\right) \\tan{\\left (\\boldsymbol{\\mathrm{\\theta}} \\right )}}{\\boldsymbol{\\mathrm{r}}^{4} + 2 \\boldsymbol{\\mathrm{r}}^{2} + 1}$"
      ],
      "text/plain": [
       "<IPython.core.display.Math object>"
      ]
     },
     "metadata": {},
     "output_type": "display_data"
    },
    {
     "name": "stdout",
     "output_type": "stream",
     "text": [
      "---------------------------------\n",
      "z, t, z, t:   \n"
     ]
    },
    {
     "data": {
      "text/latex": [
       "$\\displaystyle \\frac{- 8 \\boldsymbol{\\mathrm{r}}^{4} \\sin^{4}{\\left (\\boldsymbol{\\mathrm{\\theta}} \\right )} + 4 \\boldsymbol{\\mathrm{r}}^{4} \\sin^{2}{\\left (\\boldsymbol{\\mathrm{\\theta}} \\right )} - 16 \\boldsymbol{\\mathrm{r}}^{4} \\cos^{4}{\\left (\\boldsymbol{\\mathrm{\\theta}} \\right )} + 3 \\boldsymbol{\\mathrm{r}}^{4} \\cos{\\left (4 \\boldsymbol{\\mathrm{\\theta}} \\right )} - 3 \\boldsymbol{\\mathrm{r}}^{4} + 8 \\boldsymbol{\\mathrm{r}}^{2} \\sin^{4}{\\left (\\boldsymbol{\\mathrm{\\theta}} \\right )} - 16 \\boldsymbol{\\mathrm{r}}^{2} \\sin^{2}{\\left (\\boldsymbol{\\mathrm{\\theta}} \\right )} - 32 \\boldsymbol{\\mathrm{r}}^{2} \\cos^{2}{\\left (\\boldsymbol{\\mathrm{\\theta}} \\right )} - \\boldsymbol{\\mathrm{r}}^{2} \\cos{\\left (4 \\boldsymbol{\\mathrm{\\theta}} \\right )} + \\boldsymbol{\\mathrm{r}}^{2} + 12 \\sin^{2}{\\left (\\boldsymbol{\\mathrm{\\theta}} \\right )} - 16}{- 4 \\boldsymbol{\\mathrm{r}}^{8} \\sin^{4}{\\left (\\boldsymbol{\\mathrm{\\theta}} \\right )} - 4 \\boldsymbol{\\mathrm{r}}^{8} \\cos^{4}{\\left (\\boldsymbol{\\mathrm{\\theta}} \\right )} + \\boldsymbol{\\mathrm{r}}^{8} \\cos{\\left (4 \\boldsymbol{\\mathrm{\\theta}} \\right )} - \\boldsymbol{\\mathrm{r}}^{8} - 8 \\boldsymbol{\\mathrm{r}}^{6} \\sin^{4}{\\left (\\boldsymbol{\\mathrm{\\theta}} \\right )} - 8 \\boldsymbol{\\mathrm{r}}^{6} \\sin^{2}{\\left (\\boldsymbol{\\mathrm{\\theta}} \\right )} - 8 \\boldsymbol{\\mathrm{r}}^{6} \\cos^{4}{\\left (\\boldsymbol{\\mathrm{\\theta}} \\right )} - 8 \\boldsymbol{\\mathrm{r}}^{6} \\cos^{2}{\\left (\\boldsymbol{\\mathrm{\\theta}} \\right )} + 2 \\boldsymbol{\\mathrm{r}}^{6} \\cos{\\left (4 \\boldsymbol{\\mathrm{\\theta}} \\right )} - 2 \\boldsymbol{\\mathrm{r}}^{6} - 4 \\boldsymbol{\\mathrm{r}}^{4} \\sin^{4}{\\left (\\boldsymbol{\\mathrm{\\theta}} \\right )} - 16 \\boldsymbol{\\mathrm{r}}^{4} \\sin^{2}{\\left (\\boldsymbol{\\mathrm{\\theta}} \\right )} - 4 \\boldsymbol{\\mathrm{r}}^{4} \\cos^{4}{\\left (\\boldsymbol{\\mathrm{\\theta}} \\right )} - 16 \\boldsymbol{\\mathrm{r}}^{4} \\cos^{2}{\\left (\\boldsymbol{\\mathrm{\\theta}} \\right )} + \\boldsymbol{\\mathrm{r}}^{4} \\cos{\\left (4 \\boldsymbol{\\mathrm{\\theta}} \\right )} - 5 \\boldsymbol{\\mathrm{r}}^{4} - 8 \\boldsymbol{\\mathrm{r}}^{2} \\sin^{2}{\\left (\\boldsymbol{\\mathrm{\\theta}} \\right )} - 8 \\boldsymbol{\\mathrm{r}}^{2} \\cos^{2}{\\left (\\boldsymbol{\\mathrm{\\theta}} \\right )} - 8 \\boldsymbol{\\mathrm{r}}^{2} - 4}$"
      ],
      "text/plain": [
       "<IPython.core.display.Math object>"
      ]
     },
     "metadata": {},
     "output_type": "display_data"
    },
    {
     "name": "stdout",
     "output_type": "stream",
     "text": [
      "---------------------------------\n",
      "z, t, z, r:   \n"
     ]
    },
    {
     "data": {
      "text/latex": [
       "$\\displaystyle - \\frac{\\boldsymbol{\\mathrm{r}} \\left(2 \\boldsymbol{\\mathrm{r}}^{2} + 3\\right) \\cos^{2}{\\left (\\boldsymbol{\\mathrm{\\theta}} \\right )} \\tan{\\left (\\boldsymbol{\\mathrm{\\theta}} \\right )}}{\\boldsymbol{\\mathrm{r}}^{4} + 2 \\boldsymbol{\\mathrm{r}}^{2} + 1}$"
      ],
      "text/plain": [
       "<IPython.core.display.Math object>"
      ]
     },
     "metadata": {},
     "output_type": "display_data"
    },
    {
     "name": "stdout",
     "output_type": "stream",
     "text": [
      "---------------------------------\n",
      "z, r, t, phi:   \n"
     ]
    },
    {
     "data": {
      "text/latex": [
       "$\\displaystyle - \\frac{\\boldsymbol{\\mathrm{r}} \\left(2 \\boldsymbol{\\mathrm{r}}^{4} \\cos^{2}{\\left (2 \\boldsymbol{\\mathrm{\\theta}} \\right )} + 4 \\boldsymbol{\\mathrm{r}}^{4} \\cos{\\left (2 \\boldsymbol{\\mathrm{\\theta}} \\right )} - \\boldsymbol{\\mathrm{r}}^{4} \\cos{\\left (4 \\boldsymbol{\\mathrm{\\theta}} \\right )} + 3 \\boldsymbol{\\mathrm{r}}^{4} + 16 \\boldsymbol{\\mathrm{r}}^{2} \\cos{\\left (2 \\boldsymbol{\\mathrm{\\theta}} \\right )} + 12 \\cos{\\left (2 \\boldsymbol{\\mathrm{\\theta}} \\right )} - 4\\right) \\tan{\\left (\\boldsymbol{\\mathrm{\\theta}} \\right )}}{4 \\boldsymbol{\\mathrm{r}}^{6} \\cos^{2}{\\left (2 \\boldsymbol{\\mathrm{\\theta}} \\right )} - 2 \\boldsymbol{\\mathrm{r}}^{6} \\cos{\\left (4 \\boldsymbol{\\mathrm{\\theta}} \\right )} + 6 \\boldsymbol{\\mathrm{r}}^{6} + 4 \\boldsymbol{\\mathrm{r}}^{4} \\cos^{2}{\\left (2 \\boldsymbol{\\mathrm{\\theta}} \\right )} - 2 \\boldsymbol{\\mathrm{r}}^{4} \\cos{\\left (4 \\boldsymbol{\\mathrm{\\theta}} \\right )} + 22 \\boldsymbol{\\mathrm{r}}^{4} + 24 \\boldsymbol{\\mathrm{r}}^{2} + 8}$"
      ],
      "text/plain": [
       "<IPython.core.display.Math object>"
      ]
     },
     "metadata": {},
     "output_type": "display_data"
    },
    {
     "name": "stdout",
     "output_type": "stream",
     "text": [
      "---------------------------------\n",
      "z, r, t, z:   \n"
     ]
    },
    {
     "data": {
      "text/latex": [
       "$\\displaystyle \\frac{\\boldsymbol{\\mathrm{r}} \\left(2 \\boldsymbol{\\mathrm{r}}^{4} \\cos^{2}{\\left (2 \\boldsymbol{\\mathrm{\\theta}} \\right )} + 4 \\boldsymbol{\\mathrm{r}}^{4} \\cos{\\left (2 \\boldsymbol{\\mathrm{\\theta}} \\right )} - \\boldsymbol{\\mathrm{r}}^{4} \\cos{\\left (4 \\boldsymbol{\\mathrm{\\theta}} \\right )} + 3 \\boldsymbol{\\mathrm{r}}^{4} + 16 \\boldsymbol{\\mathrm{r}}^{2} \\cos{\\left (2 \\boldsymbol{\\mathrm{\\theta}} \\right )} + 16 \\boldsymbol{\\mathrm{r}}^{2} + 12 \\cos{\\left (2 \\boldsymbol{\\mathrm{\\theta}} \\right )} + 12\\right) \\tan{\\left (\\boldsymbol{\\mathrm{\\theta}} \\right )}}{2 \\left(2 \\boldsymbol{\\mathrm{r}}^{6} \\cos^{2}{\\left (2 \\boldsymbol{\\mathrm{\\theta}} \\right )} - \\boldsymbol{\\mathrm{r}}^{6} \\cos{\\left (4 \\boldsymbol{\\mathrm{\\theta}} \\right )} + 3 \\boldsymbol{\\mathrm{r}}^{6} + 2 \\boldsymbol{\\mathrm{r}}^{4} \\cos^{2}{\\left (2 \\boldsymbol{\\mathrm{\\theta}} \\right )} - \\boldsymbol{\\mathrm{r}}^{4} \\cos{\\left (4 \\boldsymbol{\\mathrm{\\theta}} \\right )} + 11 \\boldsymbol{\\mathrm{r}}^{4} + 12 \\boldsymbol{\\mathrm{r}}^{2} + 4\\right)}$"
      ],
      "text/plain": [
       "<IPython.core.display.Math object>"
      ]
     },
     "metadata": {},
     "output_type": "display_data"
    },
    {
     "name": "stdout",
     "output_type": "stream",
     "text": [
      "---------------------------------\n",
      "z, r, r, phi:   \n"
     ]
    },
    {
     "data": {
      "text/latex": [
       "$\\displaystyle \\frac{3 \\boldsymbol{\\mathrm{r}}^{2} \\sin^{2}{\\left (\\boldsymbol{\\mathrm{\\theta}} \\right )}}{\\boldsymbol{\\mathrm{r}}^{2} \\sin^{2}{\\left (\\boldsymbol{\\mathrm{\\theta}} \\right )} + \\boldsymbol{\\mathrm{r}}^{2} \\cos^{2}{\\left (\\boldsymbol{\\mathrm{\\theta}} \\right )} + 1}$"
      ],
      "text/plain": [
       "<IPython.core.display.Math object>"
      ]
     },
     "metadata": {},
     "output_type": "display_data"
    },
    {
     "name": "stdout",
     "output_type": "stream",
     "text": [
      "---------------------------------\n",
      "z, r, r, z:   \n"
     ]
    },
    {
     "data": {
      "text/latex": [
       "$\\displaystyle - \\frac{\\boldsymbol{\\mathrm{r}}^{2} \\left(3 \\sin^{2}{\\left (\\boldsymbol{\\mathrm{\\theta}} \\right )} + 1\\right)}{\\boldsymbol{\\mathrm{r}}^{2} \\sin^{2}{\\left (\\boldsymbol{\\mathrm{\\theta}} \\right )} + \\boldsymbol{\\mathrm{r}}^{2} \\cos^{2}{\\left (\\boldsymbol{\\mathrm{\\theta}} \\right )} + 1}$"
      ],
      "text/plain": [
       "<IPython.core.display.Math object>"
      ]
     },
     "metadata": {},
     "output_type": "display_data"
    },
    {
     "name": "stdout",
     "output_type": "stream",
     "text": [
      "---------------------------------\n",
      "z, r, phi, t:   \n"
     ]
    },
    {
     "data": {
      "text/latex": [
       "$\\displaystyle \\frac{\\boldsymbol{\\mathrm{r}} \\left(2 \\boldsymbol{\\mathrm{r}}^{4} \\cos^{2}{\\left (2 \\boldsymbol{\\mathrm{\\theta}} \\right )} + 4 \\boldsymbol{\\mathrm{r}}^{4} \\cos{\\left (2 \\boldsymbol{\\mathrm{\\theta}} \\right )} - \\boldsymbol{\\mathrm{r}}^{4} \\cos{\\left (4 \\boldsymbol{\\mathrm{\\theta}} \\right )} + 3 \\boldsymbol{\\mathrm{r}}^{4} + 16 \\boldsymbol{\\mathrm{r}}^{2} \\cos{\\left (2 \\boldsymbol{\\mathrm{\\theta}} \\right )} + 12 \\cos{\\left (2 \\boldsymbol{\\mathrm{\\theta}} \\right )} - 4\\right) \\tan{\\left (\\boldsymbol{\\mathrm{\\theta}} \\right )}}{2 \\left(2 \\boldsymbol{\\mathrm{r}}^{6} \\cos^{2}{\\left (2 \\boldsymbol{\\mathrm{\\theta}} \\right )} - \\boldsymbol{\\mathrm{r}}^{6} \\cos{\\left (4 \\boldsymbol{\\mathrm{\\theta}} \\right )} + 3 \\boldsymbol{\\mathrm{r}}^{6} + 2 \\boldsymbol{\\mathrm{r}}^{4} \\cos^{2}{\\left (2 \\boldsymbol{\\mathrm{\\theta}} \\right )} - \\boldsymbol{\\mathrm{r}}^{4} \\cos{\\left (4 \\boldsymbol{\\mathrm{\\theta}} \\right )} + 11 \\boldsymbol{\\mathrm{r}}^{4} + 12 \\boldsymbol{\\mathrm{r}}^{2} + 4\\right)}$"
      ],
      "text/plain": [
       "<IPython.core.display.Math object>"
      ]
     },
     "metadata": {},
     "output_type": "display_data"
    },
    {
     "name": "stdout",
     "output_type": "stream",
     "text": [
      "---------------------------------\n",
      "z, r, phi, r:   \n"
     ]
    },
    {
     "data": {
      "text/latex": [
       "$\\displaystyle - \\frac{3 \\boldsymbol{\\mathrm{r}}^{2} \\sin^{2}{\\left (\\boldsymbol{\\mathrm{\\theta}} \\right )}}{\\boldsymbol{\\mathrm{r}}^{2} \\sin^{2}{\\left (\\boldsymbol{\\mathrm{\\theta}} \\right )} + \\boldsymbol{\\mathrm{r}}^{2} \\cos^{2}{\\left (\\boldsymbol{\\mathrm{\\theta}} \\right )} + 1}$"
      ],
      "text/plain": [
       "<IPython.core.display.Math object>"
      ]
     },
     "metadata": {},
     "output_type": "display_data"
    },
    {
     "name": "stdout",
     "output_type": "stream",
     "text": [
      "---------------------------------\n",
      "z, r, z, t:   \n"
     ]
    },
    {
     "data": {
      "text/latex": [
       "$\\displaystyle - \\frac{\\boldsymbol{\\mathrm{r}} \\left(2 \\boldsymbol{\\mathrm{r}}^{4} \\cos^{2}{\\left (2 \\boldsymbol{\\mathrm{\\theta}} \\right )} + 4 \\boldsymbol{\\mathrm{r}}^{4} \\cos{\\left (2 \\boldsymbol{\\mathrm{\\theta}} \\right )} - \\boldsymbol{\\mathrm{r}}^{4} \\cos{\\left (4 \\boldsymbol{\\mathrm{\\theta}} \\right )} + 3 \\boldsymbol{\\mathrm{r}}^{4} + 16 \\boldsymbol{\\mathrm{r}}^{2} \\cos{\\left (2 \\boldsymbol{\\mathrm{\\theta}} \\right )} + 16 \\boldsymbol{\\mathrm{r}}^{2} + 12 \\cos{\\left (2 \\boldsymbol{\\mathrm{\\theta}} \\right )} + 12\\right) \\tan{\\left (\\boldsymbol{\\mathrm{\\theta}} \\right )}}{4 \\boldsymbol{\\mathrm{r}}^{6} \\cos^{2}{\\left (2 \\boldsymbol{\\mathrm{\\theta}} \\right )} - 2 \\boldsymbol{\\mathrm{r}}^{6} \\cos{\\left (4 \\boldsymbol{\\mathrm{\\theta}} \\right )} + 6 \\boldsymbol{\\mathrm{r}}^{6} + 4 \\boldsymbol{\\mathrm{r}}^{4} \\cos^{2}{\\left (2 \\boldsymbol{\\mathrm{\\theta}} \\right )} - 2 \\boldsymbol{\\mathrm{r}}^{4} \\cos{\\left (4 \\boldsymbol{\\mathrm{\\theta}} \\right )} + 22 \\boldsymbol{\\mathrm{r}}^{4} + 24 \\boldsymbol{\\mathrm{r}}^{2} + 8}$"
      ],
      "text/plain": [
       "<IPython.core.display.Math object>"
      ]
     },
     "metadata": {},
     "output_type": "display_data"
    },
    {
     "name": "stdout",
     "output_type": "stream",
     "text": [
      "---------------------------------\n",
      "z, r, z, r:   \n"
     ]
    },
    {
     "data": {
      "text/latex": [
       "$\\displaystyle \\frac{\\boldsymbol{\\mathrm{r}}^{2} \\left(3 \\sin^{2}{\\left (\\boldsymbol{\\mathrm{\\theta}} \\right )} + 1\\right)}{\\boldsymbol{\\mathrm{r}}^{2} \\sin^{2}{\\left (\\boldsymbol{\\mathrm{\\theta}} \\right )} + \\boldsymbol{\\mathrm{r}}^{2} \\cos^{2}{\\left (\\boldsymbol{\\mathrm{\\theta}} \\right )} + 1}$"
      ],
      "text/plain": [
       "<IPython.core.display.Math object>"
      ]
     },
     "metadata": {},
     "output_type": "display_data"
    },
    {
     "name": "stdout",
     "output_type": "stream",
     "text": [
      "---------------------------------\n",
      "z, phi, t, r:   \n"
     ]
    },
    {
     "data": {
      "text/latex": [
       "$\\displaystyle \\frac{\\boldsymbol{\\mathrm{r}} \\left(2 \\boldsymbol{\\mathrm{r}}^{2} \\cos^{2}{\\left (2 \\boldsymbol{\\mathrm{\\theta}} \\right )} + 4 \\boldsymbol{\\mathrm{r}}^{2} \\cos{\\left (2 \\boldsymbol{\\mathrm{\\theta}} \\right )} - \\boldsymbol{\\mathrm{r}}^{2} \\cos{\\left (4 \\boldsymbol{\\mathrm{\\theta}} \\right )} + 3 \\boldsymbol{\\mathrm{r}}^{2} + 8\\right) \\tan{\\left (\\boldsymbol{\\mathrm{\\theta}} \\right )}}{2 \\left(2 \\boldsymbol{\\mathrm{r}}^{4} \\cos^{2}{\\left (2 \\boldsymbol{\\mathrm{\\theta}} \\right )} - \\boldsymbol{\\mathrm{r}}^{4} \\cos{\\left (4 \\boldsymbol{\\mathrm{\\theta}} \\right )} + 3 \\boldsymbol{\\mathrm{r}}^{4} + 8 \\boldsymbol{\\mathrm{r}}^{2} + 4\\right)}$"
      ],
      "text/plain": [
       "<IPython.core.display.Math object>"
      ]
     },
     "metadata": {},
     "output_type": "display_data"
    },
    {
     "name": "stdout",
     "output_type": "stream",
     "text": [
      "---------------------------------\n",
      "z, phi, r, t:   \n"
     ]
    },
    {
     "data": {
      "text/latex": [
       "$\\displaystyle - \\frac{\\boldsymbol{\\mathrm{r}} \\left(2 \\boldsymbol{\\mathrm{r}}^{2} \\cos^{2}{\\left (2 \\boldsymbol{\\mathrm{\\theta}} \\right )} + 4 \\boldsymbol{\\mathrm{r}}^{2} \\cos{\\left (2 \\boldsymbol{\\mathrm{\\theta}} \\right )} - \\boldsymbol{\\mathrm{r}}^{2} \\cos{\\left (4 \\boldsymbol{\\mathrm{\\theta}} \\right )} + 3 \\boldsymbol{\\mathrm{r}}^{2} + 8\\right) \\tan{\\left (\\boldsymbol{\\mathrm{\\theta}} \\right )}}{4 \\boldsymbol{\\mathrm{r}}^{4} \\cos^{2}{\\left (2 \\boldsymbol{\\mathrm{\\theta}} \\right )} - 2 \\boldsymbol{\\mathrm{r}}^{4} \\cos{\\left (4 \\boldsymbol{\\mathrm{\\theta}} \\right )} + 6 \\boldsymbol{\\mathrm{r}}^{4} + 16 \\boldsymbol{\\mathrm{r}}^{2} + 8}$"
      ],
      "text/plain": [
       "<IPython.core.display.Math object>"
      ]
     },
     "metadata": {},
     "output_type": "display_data"
    },
    {
     "name": "stdout",
     "output_type": "stream",
     "text": [
      "---------------------------------\n",
      "z, phi, phi, z:   \n"
     ]
    },
    {
     "data": {
      "text/latex": [
       "$\\displaystyle \\frac{\\boldsymbol{\\mathrm{r}}^{2} \\left(- \\frac{\\boldsymbol{\\mathrm{r}}^{4} \\left(\\cos{\\left (2 \\boldsymbol{\\mathrm{\\theta}} \\right )} + 1\\right)^{2}}{2} + \\frac{\\boldsymbol{\\mathrm{r}}^{4} \\left(\\cos{\\left (2 \\boldsymbol{\\mathrm{\\theta}} \\right )} + 1\\right)}{2} - \\frac{\\boldsymbol{\\mathrm{r}}^{4} \\left(- \\cos{\\left (4 \\boldsymbol{\\mathrm{\\theta}} \\right )} + 1\\right)}{4} - \\boldsymbol{\\mathrm{r}}^{2} \\left(- \\cos{\\left (2 \\boldsymbol{\\mathrm{\\theta}} \\right )} + 1\\right) + \\frac{\\boldsymbol{\\mathrm{r}}^{2} \\left(\\cos{\\left (2 \\boldsymbol{\\mathrm{\\theta}} \\right )} + 1\\right)^{2}}{2} - \\frac{5 \\boldsymbol{\\mathrm{r}}^{2} \\left(\\cos{\\left (2 \\boldsymbol{\\mathrm{\\theta}} \\right )} + 1\\right)}{2} - \\frac{\\boldsymbol{\\mathrm{r}}^{2} \\left(\\cos{\\left (4 \\boldsymbol{\\mathrm{\\theta}} \\right )} - 1\\right)}{4} + \\boldsymbol{\\mathrm{r}}^{2} - 1\\right) \\sin^{2}{\\left (\\boldsymbol{\\mathrm{\\theta}} \\right )}}{\\boldsymbol{\\mathrm{r}}^{6} \\sin^{2}{\\left (\\boldsymbol{\\mathrm{\\theta}} \\right )} + \\boldsymbol{\\mathrm{r}}^{6} \\cos^{2}{\\left (\\boldsymbol{\\mathrm{\\theta}} \\right )} + 2 \\boldsymbol{\\mathrm{r}}^{4} \\sin^{2}{\\left (\\boldsymbol{\\mathrm{\\theta}} \\right )} + 2 \\boldsymbol{\\mathrm{r}}^{4} \\cos^{2}{\\left (\\boldsymbol{\\mathrm{\\theta}} \\right )} + \\boldsymbol{\\mathrm{r}}^{4} + \\boldsymbol{\\mathrm{r}}^{2} \\sin^{2}{\\left (\\boldsymbol{\\mathrm{\\theta}} \\right )} + \\boldsymbol{\\mathrm{r}}^{2} \\cos^{2}{\\left (\\boldsymbol{\\mathrm{\\theta}} \\right )} + 2 \\boldsymbol{\\mathrm{r}}^{2} + 1}$"
      ],
      "text/plain": [
       "<IPython.core.display.Math object>"
      ]
     },
     "metadata": {},
     "output_type": "display_data"
    },
    {
     "name": "stdout",
     "output_type": "stream",
     "text": [
      "---------------------------------\n",
      "z, phi, z, phi:   \n"
     ]
    },
    {
     "data": {
      "text/latex": [
       "$\\displaystyle \\frac{\\boldsymbol{\\mathrm{r}}^{2} \\left(\\frac{\\boldsymbol{\\mathrm{r}}^{4} \\left(\\cos{\\left (2 \\boldsymbol{\\mathrm{\\theta}} \\right )} + 1\\right)^{2}}{2} - \\frac{\\boldsymbol{\\mathrm{r}}^{4} \\left(\\cos{\\left (2 \\boldsymbol{\\mathrm{\\theta}} \\right )} + 1\\right)}{2} + \\frac{\\boldsymbol{\\mathrm{r}}^{4} \\left(- \\cos{\\left (4 \\boldsymbol{\\mathrm{\\theta}} \\right )} + 1\\right)}{4} + \\boldsymbol{\\mathrm{r}}^{2} \\left(- \\cos{\\left (2 \\boldsymbol{\\mathrm{\\theta}} \\right )} + 1\\right) - \\frac{\\boldsymbol{\\mathrm{r}}^{2} \\left(\\cos{\\left (2 \\boldsymbol{\\mathrm{\\theta}} \\right )} + 1\\right)^{2}}{2} + \\frac{5 \\boldsymbol{\\mathrm{r}}^{2} \\left(\\cos{\\left (2 \\boldsymbol{\\mathrm{\\theta}} \\right )} + 1\\right)}{2} + \\frac{\\boldsymbol{\\mathrm{r}}^{2} \\left(\\cos{\\left (4 \\boldsymbol{\\mathrm{\\theta}} \\right )} - 1\\right)}{4} - \\boldsymbol{\\mathrm{r}}^{2} + 1\\right) \\sin^{2}{\\left (\\boldsymbol{\\mathrm{\\theta}} \\right )}}{\\boldsymbol{\\mathrm{r}}^{6} \\sin^{2}{\\left (\\boldsymbol{\\mathrm{\\theta}} \\right )} + \\boldsymbol{\\mathrm{r}}^{6} \\cos^{2}{\\left (\\boldsymbol{\\mathrm{\\theta}} \\right )} + 2 \\boldsymbol{\\mathrm{r}}^{4} \\sin^{2}{\\left (\\boldsymbol{\\mathrm{\\theta}} \\right )} + 2 \\boldsymbol{\\mathrm{r}}^{4} \\cos^{2}{\\left (\\boldsymbol{\\mathrm{\\theta}} \\right )} + \\boldsymbol{\\mathrm{r}}^{4} + \\boldsymbol{\\mathrm{r}}^{2} \\sin^{2}{\\left (\\boldsymbol{\\mathrm{\\theta}} \\right )} + \\boldsymbol{\\mathrm{r}}^{2} \\cos^{2}{\\left (\\boldsymbol{\\mathrm{\\theta}} \\right )} + 2 \\boldsymbol{\\mathrm{r}}^{2} + 1}$"
      ],
      "text/plain": [
       "<IPython.core.display.Math object>"
      ]
     },
     "metadata": {},
     "output_type": "display_data"
    },
    {
     "name": "stdout",
     "output_type": "stream",
     "text": [
      "---------------------------------\n",
      "z, z, t, r:   \n"
     ]
    },
    {
     "data": {
      "text/latex": [
       "$\\displaystyle - \\frac{2 \\boldsymbol{\\mathrm{r}}^{3} \\sin{\\left (2 \\boldsymbol{\\mathrm{\\theta}} \\right )}}{2 \\boldsymbol{\\mathrm{r}}^{4} \\cos^{2}{\\left (2 \\boldsymbol{\\mathrm{\\theta}} \\right )} - \\boldsymbol{\\mathrm{r}}^{4} \\cos{\\left (4 \\boldsymbol{\\mathrm{\\theta}} \\right )} + 3 \\boldsymbol{\\mathrm{r}}^{4} + 8 \\boldsymbol{\\mathrm{r}}^{2} + 4}$"
      ],
      "text/plain": [
       "<IPython.core.display.Math object>"
      ]
     },
     "metadata": {},
     "output_type": "display_data"
    },
    {
     "name": "stdout",
     "output_type": "stream",
     "text": [
      "---------------------------------\n",
      "z, z, r, t:   \n"
     ]
    },
    {
     "data": {
      "text/latex": [
       "$\\displaystyle \\frac{2 \\boldsymbol{\\mathrm{r}}^{3} \\sin{\\left (2 \\boldsymbol{\\mathrm{\\theta}} \\right )}}{2 \\boldsymbol{\\mathrm{r}}^{4} \\cos^{2}{\\left (2 \\boldsymbol{\\mathrm{\\theta}} \\right )} - \\boldsymbol{\\mathrm{r}}^{4} \\cos{\\left (4 \\boldsymbol{\\mathrm{\\theta}} \\right )} + 3 \\boldsymbol{\\mathrm{r}}^{4} + 8 \\boldsymbol{\\mathrm{r}}^{2} + 4}$"
      ],
      "text/plain": [
       "<IPython.core.display.Math object>"
      ]
     },
     "metadata": {},
     "output_type": "display_data"
    },
    {
     "name": "stdout",
     "output_type": "stream",
     "text": [
      "---------------------------------\n",
      "z, z, phi, z:   \n"
     ]
    },
    {
     "data": {
      "text/latex": [
       "$\\displaystyle - \\frac{\\boldsymbol{\\mathrm{r}}^{4} \\left(\\cos{\\left (4 \\boldsymbol{\\mathrm{\\theta}} \\right )} - 1\\right)}{8 \\boldsymbol{\\mathrm{r}}^{4} + 16 \\boldsymbol{\\mathrm{r}}^{2} + 8}$"
      ],
      "text/plain": [
       "<IPython.core.display.Math object>"
      ]
     },
     "metadata": {},
     "output_type": "display_data"
    },
    {
     "name": "stdout",
     "output_type": "stream",
     "text": [
      "---------------------------------\n",
      "z, z, z, phi:   \n"
     ]
    },
    {
     "data": {
      "text/latex": [
       "$\\displaystyle \\frac{\\boldsymbol{\\mathrm{r}}^{4} \\left(\\cos{\\left (4 \\boldsymbol{\\mathrm{\\theta}} \\right )} - 1\\right)}{8 \\left(\\boldsymbol{\\mathrm{r}}^{4} + 2 \\boldsymbol{\\mathrm{r}}^{2} + 1\\right)}$"
      ],
      "text/plain": [
       "<IPython.core.display.Math object>"
      ]
     },
     "metadata": {},
     "output_type": "display_data"
    },
    {
     "name": "stdout",
     "output_type": "stream",
     "text": [
      "---------------------------------\n",
      "******************************************************************\n",
      "************************* Ricci Tensor *************************\n",
      "t, t\n"
     ]
    },
    {
     "data": {
      "text/latex": [
       "$\\displaystyle \\frac{14 \\boldsymbol{\\mathrm{r}}^{4} \\cos^{2}{\\left (2 \\boldsymbol{\\mathrm{\\theta}} \\right )} - 7 \\boldsymbol{\\mathrm{r}}^{4} \\cos{\\left (4 \\boldsymbol{\\mathrm{\\theta}} \\right )} + 17 \\boldsymbol{\\mathrm{r}}^{4} - 4 \\boldsymbol{\\mathrm{r}}^{2} \\cos^{2}{\\left (2 \\boldsymbol{\\mathrm{\\theta}} \\right )} + 2 \\boldsymbol{\\mathrm{r}}^{2} \\cos{\\left (4 \\boldsymbol{\\mathrm{\\theta}} \\right )} + 50 \\boldsymbol{\\mathrm{r}}^{2} + 24}{4 \\boldsymbol{\\mathrm{r}}^{8} \\sin^{4}{\\left (\\boldsymbol{\\mathrm{\\theta}} \\right )} + 4 \\boldsymbol{\\mathrm{r}}^{8} \\cos^{4}{\\left (\\boldsymbol{\\mathrm{\\theta}} \\right )} - \\boldsymbol{\\mathrm{r}}^{8} \\cos{\\left (4 \\boldsymbol{\\mathrm{\\theta}} \\right )} + \\boldsymbol{\\mathrm{r}}^{8} + 8 \\boldsymbol{\\mathrm{r}}^{6} \\sin^{4}{\\left (\\boldsymbol{\\mathrm{\\theta}} \\right )} + 8 \\boldsymbol{\\mathrm{r}}^{6} \\sin^{2}{\\left (\\boldsymbol{\\mathrm{\\theta}} \\right )} + 8 \\boldsymbol{\\mathrm{r}}^{6} \\cos^{4}{\\left (\\boldsymbol{\\mathrm{\\theta}} \\right )} + 8 \\boldsymbol{\\mathrm{r}}^{6} \\cos^{2}{\\left (\\boldsymbol{\\mathrm{\\theta}} \\right )} - 2 \\boldsymbol{\\mathrm{r}}^{6} \\cos{\\left (4 \\boldsymbol{\\mathrm{\\theta}} \\right )} + 2 \\boldsymbol{\\mathrm{r}}^{6} + 4 \\boldsymbol{\\mathrm{r}}^{4} \\sin^{4}{\\left (\\boldsymbol{\\mathrm{\\theta}} \\right )} + 16 \\boldsymbol{\\mathrm{r}}^{4} \\sin^{2}{\\left (\\boldsymbol{\\mathrm{\\theta}} \\right )} + 4 \\boldsymbol{\\mathrm{r}}^{4} \\cos^{4}{\\left (\\boldsymbol{\\mathrm{\\theta}} \\right )} + 16 \\boldsymbol{\\mathrm{r}}^{4} \\cos^{2}{\\left (\\boldsymbol{\\mathrm{\\theta}} \\right )} - \\boldsymbol{\\mathrm{r}}^{4} \\cos{\\left (4 \\boldsymbol{\\mathrm{\\theta}} \\right )} + 5 \\boldsymbol{\\mathrm{r}}^{4} + 8 \\boldsymbol{\\mathrm{r}}^{2} \\sin^{2}{\\left (\\boldsymbol{\\mathrm{\\theta}} \\right )} + 8 \\boldsymbol{\\mathrm{r}}^{2} \\cos^{2}{\\left (\\boldsymbol{\\mathrm{\\theta}} \\right )} + 8 \\boldsymbol{\\mathrm{r}}^{2} + 4}$"
      ],
      "text/plain": [
       "<IPython.core.display.Math object>"
      ]
     },
     "metadata": {},
     "output_type": "display_data"
    },
    {
     "name": "stdout",
     "output_type": "stream",
     "text": [
      "---------------------------------\n",
      "r, r\n"
     ]
    },
    {
     "data": {
      "text/latex": [
       "$\\displaystyle \\frac{6 \\boldsymbol{\\mathrm{r}}^{2}}{\\boldsymbol{\\mathrm{r}}^{2} \\sin^{2}{\\left (\\boldsymbol{\\mathrm{\\theta}} \\right )} + \\boldsymbol{\\mathrm{r}}^{2} \\cos^{2}{\\left (\\boldsymbol{\\mathrm{\\theta}} \\right )} + 1}$"
      ],
      "text/plain": [
       "<IPython.core.display.Math object>"
      ]
     },
     "metadata": {},
     "output_type": "display_data"
    },
    {
     "name": "stdout",
     "output_type": "stream",
     "text": [
      "---------------------------------\n",
      "phi, phi\n"
     ]
    },
    {
     "data": {
      "text/latex": [
       "$\\displaystyle \\frac{\\boldsymbol{\\mathrm{r}}^{2} \\left(2 \\boldsymbol{\\mathrm{r}}^{4} \\left(\\cos{\\left (2 \\boldsymbol{\\mathrm{\\theta}} \\right )} + 1\\right)^{2} - \\boldsymbol{\\mathrm{r}}^{4} \\left(\\cos{\\left (2 \\boldsymbol{\\mathrm{\\theta}} \\right )} + 1\\right) + \\boldsymbol{\\mathrm{r}}^{4} \\left(- \\cos{\\left (4 \\boldsymbol{\\mathrm{\\theta}} \\right )} + 1\\right) + \\frac{7 \\boldsymbol{\\mathrm{r}}^{2} \\left(- \\cos{\\left (2 \\boldsymbol{\\mathrm{\\theta}} \\right )} + 1\\right)}{2} - \\frac{\\boldsymbol{\\mathrm{r}}^{2} \\left(\\cos{\\left (2 \\boldsymbol{\\mathrm{\\theta}} \\right )} + 1\\right)^{2}}{2} + \\frac{15 \\boldsymbol{\\mathrm{r}}^{2} \\left(\\cos{\\left (2 \\boldsymbol{\\mathrm{\\theta}} \\right )} + 1\\right)}{2} + \\frac{\\boldsymbol{\\mathrm{r}}^{2} \\left(\\cos{\\left (4 \\boldsymbol{\\mathrm{\\theta}} \\right )} - 1\\right)}{4} - \\boldsymbol{\\mathrm{r}}^{2} + 6\\right) \\sin^{2}{\\left (\\boldsymbol{\\mathrm{\\theta}} \\right )}}{\\boldsymbol{\\mathrm{r}}^{6} \\sin^{2}{\\left (\\boldsymbol{\\mathrm{\\theta}} \\right )} + \\boldsymbol{\\mathrm{r}}^{6} \\cos^{2}{\\left (\\boldsymbol{\\mathrm{\\theta}} \\right )} + 2 \\boldsymbol{\\mathrm{r}}^{4} \\sin^{2}{\\left (\\boldsymbol{\\mathrm{\\theta}} \\right )} + 2 \\boldsymbol{\\mathrm{r}}^{4} \\cos^{2}{\\left (\\boldsymbol{\\mathrm{\\theta}} \\right )} + \\boldsymbol{\\mathrm{r}}^{4} + \\boldsymbol{\\mathrm{r}}^{2} \\sin^{2}{\\left (\\boldsymbol{\\mathrm{\\theta}} \\right )} + \\boldsymbol{\\mathrm{r}}^{2} \\cos^{2}{\\left (\\boldsymbol{\\mathrm{\\theta}} \\right )} + 2 \\boldsymbol{\\mathrm{r}}^{2} + 1}$"
      ],
      "text/plain": [
       "<IPython.core.display.Math object>"
      ]
     },
     "metadata": {},
     "output_type": "display_data"
    },
    {
     "name": "stdout",
     "output_type": "stream",
     "text": [
      "---------------------------------\n",
      "phi, z\n"
     ]
    },
    {
     "data": {
      "text/latex": [
       "$\\displaystyle \\frac{3 \\boldsymbol{\\mathrm{r}}^{4} \\left(\\cos{\\left (4 \\boldsymbol{\\mathrm{\\theta}} \\right )} - 1\\right)}{4 \\left(\\boldsymbol{\\mathrm{r}}^{4} + 2 \\boldsymbol{\\mathrm{r}}^{2} + 1\\right)}$"
      ],
      "text/plain": [
       "<IPython.core.display.Math object>"
      ]
     },
     "metadata": {},
     "output_type": "display_data"
    },
    {
     "name": "stdout",
     "output_type": "stream",
     "text": [
      "---------------------------------\n",
      "z, phi\n"
     ]
    },
    {
     "data": {
      "text/latex": [
       "$\\displaystyle \\frac{3 \\boldsymbol{\\mathrm{r}}^{4} \\left(\\cos{\\left (4 \\boldsymbol{\\mathrm{\\theta}} \\right )} - 1\\right)}{4 \\left(\\boldsymbol{\\mathrm{r}}^{4} + 2 \\boldsymbol{\\mathrm{r}}^{2} + 1\\right)}$"
      ],
      "text/plain": [
       "<IPython.core.display.Math object>"
      ]
     },
     "metadata": {},
     "output_type": "display_data"
    },
    {
     "name": "stdout",
     "output_type": "stream",
     "text": [
      "---------------------------------\n",
      "z, z\n"
     ]
    },
    {
     "data": {
      "text/latex": [
       "$\\displaystyle \\frac{\\boldsymbol{\\mathrm{r}}^{2} \\left(2 \\boldsymbol{\\mathrm{r}}^{4} \\left(- \\cos{\\left (2 \\boldsymbol{\\mathrm{\\theta}} \\right )} + 1\\right)^{2} + \\boldsymbol{\\mathrm{r}}^{4} \\left(\\cos{\\left (2 \\boldsymbol{\\mathrm{\\theta}} \\right )} - 1\\right) + \\boldsymbol{\\mathrm{r}}^{4} \\left(- \\cos{\\left (4 \\boldsymbol{\\mathrm{\\theta}} \\right )} + 1\\right) - \\frac{\\boldsymbol{\\mathrm{r}}^{2} \\left(- \\cos{\\left (2 \\boldsymbol{\\mathrm{\\theta}} \\right )} + 1\\right)^{2}}{2} + \\frac{15 \\boldsymbol{\\mathrm{r}}^{2} \\left(- \\cos{\\left (2 \\boldsymbol{\\mathrm{\\theta}} \\right )} + 1\\right)}{2} + \\frac{7 \\boldsymbol{\\mathrm{r}}^{2} \\left(\\cos{\\left (2 \\boldsymbol{\\mathrm{\\theta}} \\right )} + 1\\right)}{2} + \\frac{\\boldsymbol{\\mathrm{r}}^{2} \\left(\\cos{\\left (4 \\boldsymbol{\\mathrm{\\theta}} \\right )} - 1\\right)}{4} - \\boldsymbol{\\mathrm{r}}^{2} + 6\\right) \\cos^{2}{\\left (\\boldsymbol{\\mathrm{\\theta}} \\right )}}{\\boldsymbol{\\mathrm{r}}^{6} \\sin^{2}{\\left (\\boldsymbol{\\mathrm{\\theta}} \\right )} + \\boldsymbol{\\mathrm{r}}^{6} \\cos^{2}{\\left (\\boldsymbol{\\mathrm{\\theta}} \\right )} + 2 \\boldsymbol{\\mathrm{r}}^{4} \\sin^{2}{\\left (\\boldsymbol{\\mathrm{\\theta}} \\right )} + 2 \\boldsymbol{\\mathrm{r}}^{4} \\cos^{2}{\\left (\\boldsymbol{\\mathrm{\\theta}} \\right )} + \\boldsymbol{\\mathrm{r}}^{4} + \\boldsymbol{\\mathrm{r}}^{2} \\sin^{2}{\\left (\\boldsymbol{\\mathrm{\\theta}} \\right )} + \\boldsymbol{\\mathrm{r}}^{2} \\cos^{2}{\\left (\\boldsymbol{\\mathrm{\\theta}} \\right )} + 2 \\boldsymbol{\\mathrm{r}}^{2} + 1}$"
      ],
      "text/plain": [
       "<IPython.core.display.Math object>"
      ]
     },
     "metadata": {},
     "output_type": "display_data"
    },
    {
     "name": "stdout",
     "output_type": "stream",
     "text": [
      "---------------------------------\n",
      "******************************************************************\n",
      "************************** Ricci Scalar **************************\n"
     ]
    },
    {
     "data": {
      "text/latex": [
       "$\\displaystyle \\frac{56 \\boldsymbol{\\mathrm{r}}^{4} \\cos^{2}{\\left (2 \\boldsymbol{\\mathrm{\\theta}} \\right )} - 28 \\boldsymbol{\\mathrm{r}}^{4} \\cos{\\left (4 \\boldsymbol{\\mathrm{\\theta}} \\right )} + 68 \\boldsymbol{\\mathrm{r}}^{4} - 12 \\boldsymbol{\\mathrm{r}}^{2} \\cos^{2}{\\left (2 \\boldsymbol{\\mathrm{\\theta}} \\right )} + 6 \\boldsymbol{\\mathrm{r}}^{2} \\cos{\\left (4 \\boldsymbol{\\mathrm{\\theta}} \\right )} + 198 \\boldsymbol{\\mathrm{r}}^{2} + 96}{4 \\boldsymbol{\\mathrm{r}}^{4} \\sin^{4}{\\left (\\boldsymbol{\\mathrm{\\theta}} \\right )} + 4 \\boldsymbol{\\mathrm{r}}^{4} \\cos^{4}{\\left (\\boldsymbol{\\mathrm{\\theta}} \\right )} - \\boldsymbol{\\mathrm{r}}^{4} \\cos{\\left (4 \\boldsymbol{\\mathrm{\\theta}} \\right )} + \\boldsymbol{\\mathrm{r}}^{4} + 8 \\boldsymbol{\\mathrm{r}}^{2} \\sin^{2}{\\left (\\boldsymbol{\\mathrm{\\theta}} \\right )} + 8 \\boldsymbol{\\mathrm{r}}^{2} \\cos^{2}{\\left (\\boldsymbol{\\mathrm{\\theta}} \\right )} + 4}$"
      ],
      "text/plain": [
       "<IPython.core.display.Math object>"
      ]
     },
     "metadata": {},
     "output_type": "display_data"
    },
    {
     "name": "stdout",
     "output_type": "stream",
     "text": [
      "******************************************************************\n"
     ]
    }
   ],
   "source": [
    "## Fubini-Study Metric\n",
    "r, theta, phi, psi = symbols('r, theta, phi, psi')\n",
    "m = Manifold('M', 4)\n",
    "patch = Patch('P', m)\n",
    "coords = CoordSystem('coords', patch, ['r', 'theta', 'phi', 'psi'])\n",
    "r, theta, phi, psi = coords.coord_functions()\n",
    "dr, dtheta, dphi, dpsi = coords.base_oneforms()\n",
    "\n",
    "# make my metric\n",
    "TP = diffgeom.TensorProduct\n",
    "metric = (1 / (1 + r**2)**2) * TP(dr, dr) + \\\n",
    "         (r**2 / (1 + r**2)) * TP(dtheta, dtheta) + \\\n",
    "         ((r**2 * sin(theta)**2 / (1 + r**2)**2) + (r**4 * sin(theta)**2 * cos(theta)**2 / (1 + r**2)**2)) * TP(dphi, dphi) + \\\n",
    "         ((r**2 * cos(theta)**2 / (1 + r**2)**2) + (r**4 * sin(theta)**2 * cos(theta)**2 / (1 + r**2)**2)) * TP(dpsi, dpsi) + \\\n",
    "         - (r**4 * sin(theta)**2 * cos(theta)**2 / (1 + r**2)**2) * TP(dphi, dpsi) + \\\n",
    "         - (r**4 * sin(theta)**2 * cos(theta)**2 / (1 + r**2)**2) * TP(dpsi, dphi)\n",
    "components = ['t', 'r', 'phi', 'z']\n",
    "print_nonzero_riemann(Riemann(metric), components)\n",
    "print_nonzero_ricci(Ricci(metric), components)\n",
    "print_ricci_scalar(metric)"
   ]
  },
  {
   "cell_type": "code",
   "execution_count": 61,
   "metadata": {
    "scrolled": true
   },
   "outputs": [
    {
     "name": "stdout",
     "output_type": "stream",
     "text": [
      "************************* Riemann Tensor *************************\n",
      "t, x, t, x:   \n"
     ]
    },
    {
     "data": {
      "text/latex": [
       "$\\displaystyle \\frac{A \\left(\\boldsymbol{\\mathrm{x}} + \\boldsymbol{\\mathrm{y}}\\right)}{2 \\boldsymbol{\\mathrm{x}}^{3} A + \\boldsymbol{\\mathrm{x}}^{2} - 1}$"
      ],
      "text/plain": [
       "<IPython.core.display.Math object>"
      ]
     },
     "metadata": {},
     "output_type": "display_data"
    },
    {
     "name": "stdout",
     "output_type": "stream",
     "text": [
      "---------------------------------\n",
      "t, x, x, t:   \n"
     ]
    },
    {
     "data": {
      "text/latex": [
       "$\\displaystyle - \\frac{A \\left(\\boldsymbol{\\mathrm{x}} + \\boldsymbol{\\mathrm{y}}\\right)}{2 \\boldsymbol{\\mathrm{x}}^{3} A + \\boldsymbol{\\mathrm{x}}^{2} - 1}$"
      ],
      "text/plain": [
       "<IPython.core.display.Math object>"
      ]
     },
     "metadata": {},
     "output_type": "display_data"
    },
    {
     "name": "stdout",
     "output_type": "stream",
     "text": [
      "---------------------------------\n",
      "t, y, t, y:   \n"
     ]
    },
    {
     "data": {
      "text/latex": [
       "$\\displaystyle - \\frac{2 A \\left(\\boldsymbol{\\mathrm{x}} + \\boldsymbol{\\mathrm{y}}\\right)}{2 \\boldsymbol{\\mathrm{y}}^{3} A - \\boldsymbol{\\mathrm{y}}^{2} + 1}$"
      ],
      "text/plain": [
       "<IPython.core.display.Math object>"
      ]
     },
     "metadata": {},
     "output_type": "display_data"
    },
    {
     "name": "stdout",
     "output_type": "stream",
     "text": [
      "---------------------------------\n",
      "t, y, y, t:   \n"
     ]
    },
    {
     "data": {
      "text/latex": [
       "$\\displaystyle \\frac{2 A \\left(\\boldsymbol{\\mathrm{x}} + \\boldsymbol{\\mathrm{y}}\\right)}{2 \\boldsymbol{\\mathrm{y}}^{3} A - \\boldsymbol{\\mathrm{y}}^{2} + 1}$"
      ],
      "text/plain": [
       "<IPython.core.display.Math object>"
      ]
     },
     "metadata": {},
     "output_type": "display_data"
    },
    {
     "name": "stdout",
     "output_type": "stream",
     "text": [
      "---------------------------------\n",
      "t, phi, t, phi:   \n"
     ]
    },
    {
     "data": {
      "text/latex": [
       "$\\displaystyle A \\left(2 \\boldsymbol{\\mathrm{x}}^{4} A + 2 \\boldsymbol{\\mathrm{x}}^{3} \\boldsymbol{\\mathrm{y}} A + \\boldsymbol{\\mathrm{x}}^{3} + \\boldsymbol{\\mathrm{x}}^{2} \\boldsymbol{\\mathrm{y}} - \\boldsymbol{\\mathrm{x}} - \\boldsymbol{\\mathrm{y}}\\right)$"
      ],
      "text/plain": [
       "<IPython.core.display.Math object>"
      ]
     },
     "metadata": {},
     "output_type": "display_data"
    },
    {
     "name": "stdout",
     "output_type": "stream",
     "text": [
      "---------------------------------\n",
      "t, phi, phi, t:   \n"
     ]
    },
    {
     "data": {
      "text/latex": [
       "$\\displaystyle A \\left(- 2 \\boldsymbol{\\mathrm{x}}^{4} A - 2 \\boldsymbol{\\mathrm{x}}^{3} \\boldsymbol{\\mathrm{y}} A - \\boldsymbol{\\mathrm{x}}^{3} - \\boldsymbol{\\mathrm{x}}^{2} \\boldsymbol{\\mathrm{y}} + \\boldsymbol{\\mathrm{x}} + \\boldsymbol{\\mathrm{y}}\\right)$"
      ],
      "text/plain": [
       "<IPython.core.display.Math object>"
      ]
     },
     "metadata": {},
     "output_type": "display_data"
    },
    {
     "name": "stdout",
     "output_type": "stream",
     "text": [
      "---------------------------------\n",
      "x, t, t, x:   \n"
     ]
    },
    {
     "data": {
      "text/latex": [
       "$\\displaystyle A \\left(2 \\boldsymbol{\\mathrm{x}} \\boldsymbol{\\mathrm{y}}^{3} A - \\boldsymbol{\\mathrm{x}} \\boldsymbol{\\mathrm{y}}^{2} + \\boldsymbol{\\mathrm{x}} + 2 \\boldsymbol{\\mathrm{y}}^{4} A - \\boldsymbol{\\mathrm{y}}^{3} + \\boldsymbol{\\mathrm{y}}\\right)$"
      ],
      "text/plain": [
       "<IPython.core.display.Math object>"
      ]
     },
     "metadata": {},
     "output_type": "display_data"
    },
    {
     "name": "stdout",
     "output_type": "stream",
     "text": [
      "---------------------------------\n",
      "x, t, x, t:   \n"
     ]
    },
    {
     "data": {
      "text/latex": [
       "$\\displaystyle A \\left(- 2 \\boldsymbol{\\mathrm{x}} \\boldsymbol{\\mathrm{y}}^{3} A + \\boldsymbol{\\mathrm{x}} \\boldsymbol{\\mathrm{y}}^{2} - \\boldsymbol{\\mathrm{x}} - 2 \\boldsymbol{\\mathrm{y}}^{4} A + \\boldsymbol{\\mathrm{y}}^{3} - \\boldsymbol{\\mathrm{y}}\\right)$"
      ],
      "text/plain": [
       "<IPython.core.display.Math object>"
      ]
     },
     "metadata": {},
     "output_type": "display_data"
    },
    {
     "name": "stdout",
     "output_type": "stream",
     "text": [
      "---------------------------------\n",
      "x, y, x, y:   \n"
     ]
    },
    {
     "data": {
      "text/latex": [
       "$\\displaystyle \\frac{A \\left(\\boldsymbol{\\mathrm{x}} + \\boldsymbol{\\mathrm{y}}\\right)}{2 \\boldsymbol{\\mathrm{y}}^{3} A - \\boldsymbol{\\mathrm{y}}^{2} + 1}$"
      ],
      "text/plain": [
       "<IPython.core.display.Math object>"
      ]
     },
     "metadata": {},
     "output_type": "display_data"
    },
    {
     "name": "stdout",
     "output_type": "stream",
     "text": [
      "---------------------------------\n",
      "x, y, y, x:   \n"
     ]
    },
    {
     "data": {
      "text/latex": [
       "$\\displaystyle - \\frac{A \\left(\\boldsymbol{\\mathrm{x}} + \\boldsymbol{\\mathrm{y}}\\right)}{2 \\boldsymbol{\\mathrm{y}}^{3} A - \\boldsymbol{\\mathrm{y}}^{2} + 1}$"
      ],
      "text/plain": [
       "<IPython.core.display.Math object>"
      ]
     },
     "metadata": {},
     "output_type": "display_data"
    },
    {
     "name": "stdout",
     "output_type": "stream",
     "text": [
      "---------------------------------\n",
      "x, phi, x, phi:   \n"
     ]
    },
    {
     "data": {
      "text/latex": [
       "$\\displaystyle 2 A \\left(- 2 \\boldsymbol{\\mathrm{x}}^{4} A - 2 \\boldsymbol{\\mathrm{x}}^{3} \\boldsymbol{\\mathrm{y}} A - \\boldsymbol{\\mathrm{x}}^{3} - \\boldsymbol{\\mathrm{x}}^{2} \\boldsymbol{\\mathrm{y}} + \\boldsymbol{\\mathrm{x}} + \\boldsymbol{\\mathrm{y}}\\right)$"
      ],
      "text/plain": [
       "<IPython.core.display.Math object>"
      ]
     },
     "metadata": {},
     "output_type": "display_data"
    },
    {
     "name": "stdout",
     "output_type": "stream",
     "text": [
      "---------------------------------\n",
      "x, phi, phi, x:   \n"
     ]
    },
    {
     "data": {
      "text/latex": [
       "$\\displaystyle 2 A \\left(2 \\boldsymbol{\\mathrm{x}}^{4} A + 2 \\boldsymbol{\\mathrm{x}}^{3} \\boldsymbol{\\mathrm{y}} A + \\boldsymbol{\\mathrm{x}}^{3} + \\boldsymbol{\\mathrm{x}}^{2} \\boldsymbol{\\mathrm{y}} - \\boldsymbol{\\mathrm{x}} - \\boldsymbol{\\mathrm{y}}\\right)$"
      ],
      "text/plain": [
       "<IPython.core.display.Math object>"
      ]
     },
     "metadata": {},
     "output_type": "display_data"
    },
    {
     "name": "stdout",
     "output_type": "stream",
     "text": [
      "---------------------------------\n",
      "y, t, t, y:   \n"
     ]
    },
    {
     "data": {
      "text/latex": [
       "$\\displaystyle 2 A \\left(- 2 \\boldsymbol{\\mathrm{x}} \\boldsymbol{\\mathrm{y}}^{3} A + \\boldsymbol{\\mathrm{x}} \\boldsymbol{\\mathrm{y}}^{2} - \\boldsymbol{\\mathrm{x}} - 2 \\boldsymbol{\\mathrm{y}}^{4} A + \\boldsymbol{\\mathrm{y}}^{3} - \\boldsymbol{\\mathrm{y}}\\right)$"
      ],
      "text/plain": [
       "<IPython.core.display.Math object>"
      ]
     },
     "metadata": {},
     "output_type": "display_data"
    },
    {
     "name": "stdout",
     "output_type": "stream",
     "text": [
      "---------------------------------\n",
      "y, t, y, t:   \n"
     ]
    },
    {
     "data": {
      "text/latex": [
       "$\\displaystyle 2 A \\left(2 \\boldsymbol{\\mathrm{x}} \\boldsymbol{\\mathrm{y}}^{3} A - \\boldsymbol{\\mathrm{x}} \\boldsymbol{\\mathrm{y}}^{2} + \\boldsymbol{\\mathrm{x}} + 2 \\boldsymbol{\\mathrm{y}}^{4} A - \\boldsymbol{\\mathrm{y}}^{3} + \\boldsymbol{\\mathrm{y}}\\right)$"
      ],
      "text/plain": [
       "<IPython.core.display.Math object>"
      ]
     },
     "metadata": {},
     "output_type": "display_data"
    },
    {
     "name": "stdout",
     "output_type": "stream",
     "text": [
      "---------------------------------\n",
      "y, x, x, y:   \n"
     ]
    },
    {
     "data": {
      "text/latex": [
       "$\\displaystyle - \\frac{A \\left(\\boldsymbol{\\mathrm{x}} + \\boldsymbol{\\mathrm{y}}\\right)}{2 \\boldsymbol{\\mathrm{x}}^{3} A + \\boldsymbol{\\mathrm{x}}^{2} - 1}$"
      ],
      "text/plain": [
       "<IPython.core.display.Math object>"
      ]
     },
     "metadata": {},
     "output_type": "display_data"
    },
    {
     "name": "stdout",
     "output_type": "stream",
     "text": [
      "---------------------------------\n",
      "y, x, y, x:   \n"
     ]
    },
    {
     "data": {
      "text/latex": [
       "$\\displaystyle \\frac{A \\left(\\boldsymbol{\\mathrm{x}} + \\boldsymbol{\\mathrm{y}}\\right)}{2 \\boldsymbol{\\mathrm{x}}^{3} A + \\boldsymbol{\\mathrm{x}}^{2} - 1}$"
      ],
      "text/plain": [
       "<IPython.core.display.Math object>"
      ]
     },
     "metadata": {},
     "output_type": "display_data"
    },
    {
     "name": "stdout",
     "output_type": "stream",
     "text": [
      "---------------------------------\n",
      "y, phi, y, phi:   \n"
     ]
    },
    {
     "data": {
      "text/latex": [
       "$\\displaystyle A \\left(2 \\boldsymbol{\\mathrm{x}}^{4} A + 2 \\boldsymbol{\\mathrm{x}}^{3} \\boldsymbol{\\mathrm{y}} A + \\boldsymbol{\\mathrm{x}}^{3} + \\boldsymbol{\\mathrm{x}}^{2} \\boldsymbol{\\mathrm{y}} - \\boldsymbol{\\mathrm{x}} - \\boldsymbol{\\mathrm{y}}\\right)$"
      ],
      "text/plain": [
       "<IPython.core.display.Math object>"
      ]
     },
     "metadata": {},
     "output_type": "display_data"
    },
    {
     "name": "stdout",
     "output_type": "stream",
     "text": [
      "---------------------------------\n",
      "y, phi, phi, y:   \n"
     ]
    },
    {
     "data": {
      "text/latex": [
       "$\\displaystyle A \\left(- 2 \\boldsymbol{\\mathrm{x}}^{4} A - 2 \\boldsymbol{\\mathrm{x}}^{3} \\boldsymbol{\\mathrm{y}} A - \\boldsymbol{\\mathrm{x}}^{3} - \\boldsymbol{\\mathrm{x}}^{2} \\boldsymbol{\\mathrm{y}} + \\boldsymbol{\\mathrm{x}} + \\boldsymbol{\\mathrm{y}}\\right)$"
      ],
      "text/plain": [
       "<IPython.core.display.Math object>"
      ]
     },
     "metadata": {},
     "output_type": "display_data"
    },
    {
     "name": "stdout",
     "output_type": "stream",
     "text": [
      "---------------------------------\n",
      "phi, t, t, phi:   \n"
     ]
    },
    {
     "data": {
      "text/latex": [
       "$\\displaystyle A \\left(2 \\boldsymbol{\\mathrm{x}} \\boldsymbol{\\mathrm{y}}^{3} A - \\boldsymbol{\\mathrm{x}} \\boldsymbol{\\mathrm{y}}^{2} + \\boldsymbol{\\mathrm{x}} + 2 \\boldsymbol{\\mathrm{y}}^{4} A - \\boldsymbol{\\mathrm{y}}^{3} + \\boldsymbol{\\mathrm{y}}\\right)$"
      ],
      "text/plain": [
       "<IPython.core.display.Math object>"
      ]
     },
     "metadata": {},
     "output_type": "display_data"
    },
    {
     "name": "stdout",
     "output_type": "stream",
     "text": [
      "---------------------------------\n",
      "phi, t, phi, t:   \n"
     ]
    },
    {
     "data": {
      "text/latex": [
       "$\\displaystyle A \\left(- 2 \\boldsymbol{\\mathrm{x}} \\boldsymbol{\\mathrm{y}}^{3} A + \\boldsymbol{\\mathrm{x}} \\boldsymbol{\\mathrm{y}}^{2} - \\boldsymbol{\\mathrm{x}} - 2 \\boldsymbol{\\mathrm{y}}^{4} A + \\boldsymbol{\\mathrm{y}}^{3} - \\boldsymbol{\\mathrm{y}}\\right)$"
      ],
      "text/plain": [
       "<IPython.core.display.Math object>"
      ]
     },
     "metadata": {},
     "output_type": "display_data"
    },
    {
     "name": "stdout",
     "output_type": "stream",
     "text": [
      "---------------------------------\n",
      "phi, x, x, phi:   \n"
     ]
    },
    {
     "data": {
      "text/latex": [
       "$\\displaystyle \\frac{2 A \\left(\\boldsymbol{\\mathrm{x}} + \\boldsymbol{\\mathrm{y}}\\right)}{2 \\boldsymbol{\\mathrm{x}}^{3} A + \\boldsymbol{\\mathrm{x}}^{2} - 1}$"
      ],
      "text/plain": [
       "<IPython.core.display.Math object>"
      ]
     },
     "metadata": {},
     "output_type": "display_data"
    },
    {
     "name": "stdout",
     "output_type": "stream",
     "text": [
      "---------------------------------\n",
      "phi, x, phi, x:   \n"
     ]
    },
    {
     "data": {
      "text/latex": [
       "$\\displaystyle - \\frac{2 A \\left(\\boldsymbol{\\mathrm{x}} + \\boldsymbol{\\mathrm{y}}\\right)}{2 \\boldsymbol{\\mathrm{x}}^{3} A + \\boldsymbol{\\mathrm{x}}^{2} - 1}$"
      ],
      "text/plain": [
       "<IPython.core.display.Math object>"
      ]
     },
     "metadata": {},
     "output_type": "display_data"
    },
    {
     "name": "stdout",
     "output_type": "stream",
     "text": [
      "---------------------------------\n",
      "phi, y, y, phi:   \n"
     ]
    },
    {
     "data": {
      "text/latex": [
       "$\\displaystyle - \\frac{A \\left(\\boldsymbol{\\mathrm{x}} + \\boldsymbol{\\mathrm{y}}\\right)}{2 \\boldsymbol{\\mathrm{y}}^{3} A - \\boldsymbol{\\mathrm{y}}^{2} + 1}$"
      ],
      "text/plain": [
       "<IPython.core.display.Math object>"
      ]
     },
     "metadata": {},
     "output_type": "display_data"
    },
    {
     "name": "stdout",
     "output_type": "stream",
     "text": [
      "---------------------------------\n",
      "phi, y, phi, y:   \n"
     ]
    },
    {
     "data": {
      "text/latex": [
       "$\\displaystyle \\frac{A \\left(\\boldsymbol{\\mathrm{x}} + \\boldsymbol{\\mathrm{y}}\\right)}{2 \\boldsymbol{\\mathrm{y}}^{3} A - \\boldsymbol{\\mathrm{y}}^{2} + 1}$"
      ],
      "text/plain": [
       "<IPython.core.display.Math object>"
      ]
     },
     "metadata": {},
     "output_type": "display_data"
    },
    {
     "name": "stdout",
     "output_type": "stream",
     "text": [
      "---------------------------------\n",
      "******************************************************************\n",
      "************************* Ricci Tensor *************************\n",
      "******************************************************************\n",
      "************************** Ricci Scalar **************************\n"
     ]
    },
    {
     "data": {
      "text/latex": [
       "$\\displaystyle 0$"
      ],
      "text/plain": [
       "<IPython.core.display.Math object>"
      ]
     },
     "metadata": {},
     "output_type": "display_data"
    },
    {
     "name": "stdout",
     "output_type": "stream",
     "text": [
      "******************************************************************\n"
     ]
    }
   ],
   "source": [
    "## C Metric\n",
    "t, x, y, phi = symbols('t, x, y, phi')\n",
    "m = Manifold('M', 4)\n",
    "patch = Patch('P', m)\n",
    "coords = CoordSystem(\"C\", patch, ['t', 'x', 'y', 'phi'])\n",
    "t, x, y, phi = coords.coord_functions()\n",
    "dt, dx, dy, dphi = coords.base_oneforms()\n",
    "\n",
    "X = 1 - x**2 - 2 * A * x**3\n",
    "Y = -1 + y**2 - 2 * A * y**3\n",
    "\n",
    "# make my metric\n",
    "TP = diffgeom.TensorProduct\n",
    "metric =  1 / (x + y)**2 * (-Y * TP(dt, dt) + TP(dx, dx) / X + TP(dy, dy) / Y + X * TP(dphi, dphi))\n",
    "components = ['t', 'x', 'y', 'phi']\n",
    "print_nonzero_riemann(Riemann(metric), components)\n",
    "print_nonzero_ricci(Ricci(metric), components)\n",
    "print_ricci_scalar(metric)"
   ]
  },
  {
   "cell_type": "markdown",
   "metadata": {},
   "source": [
    "## Problem 5"
   ]
  },
  {
   "cell_type": "code",
   "execution_count": 10,
   "metadata": {
    "scrolled": true
   },
   "outputs": [
    {
     "name": "stdout",
     "output_type": "stream",
     "text": [
      "************************* Ricci Tensor *************************\n",
      "t, t\n"
     ]
    },
    {
     "data": {
      "text/latex": [
       "$\\displaystyle \\frac{- p_{1}^{2} + p_{1} - p_{2}^{2} + p_{2} - p_{3}^{2} + p_{3}}{\\mathbf{t}^{2}}$"
      ],
      "text/plain": [
       "(-p1**2 + p1 - p2**2 + p2 - p3**2 + p3)/t**2"
      ]
     },
     "metadata": {},
     "output_type": "display_data"
    },
    {
     "name": "stdout",
     "output_type": "stream",
     "text": [
      "---------------------------------\n",
      "x, x\n"
     ]
    },
    {
     "data": {
      "text/latex": [
       "$\\displaystyle \\frac{p_{1} \\left(\\frac{\\mathbf{t}}{t_{0}}\\right)^{2 p_{1}} \\left(p_{1} + p_{2} + p_{3} - 1\\right)}{\\mathbf{t}^{2}}$"
      ],
      "text/plain": [
       "p1*(t/t0)**(2*p1)*(p1 + p2 + p3 - 1)/t**2"
      ]
     },
     "metadata": {},
     "output_type": "display_data"
    },
    {
     "name": "stdout",
     "output_type": "stream",
     "text": [
      "---------------------------------\n",
      "y, y\n"
     ]
    },
    {
     "data": {
      "text/latex": [
       "$\\displaystyle \\frac{p_{2} \\left(\\frac{\\mathbf{t}}{t_{0}}\\right)^{2 p_{2}} \\left(p_{1} + p_{2} + p_{3} - 1\\right)}{\\mathbf{t}^{2}}$"
      ],
      "text/plain": [
       "p2*(t/t0)**(2*p2)*(p1 + p2 + p3 - 1)/t**2"
      ]
     },
     "metadata": {},
     "output_type": "display_data"
    },
    {
     "name": "stdout",
     "output_type": "stream",
     "text": [
      "---------------------------------\n",
      "phi, phi\n"
     ]
    },
    {
     "data": {
      "text/latex": [
       "$\\displaystyle \\frac{p_{3} \\left(\\frac{\\mathbf{t}}{t_{0}}\\right)^{2 p_{3}} \\left(p_{1} + p_{2} + p_{3} - 1\\right)}{\\mathbf{t}^{2}}$"
      ],
      "text/plain": [
       "p3*(t/t0)**(2*p3)*(p1 + p2 + p3 - 1)/t**2"
      ]
     },
     "metadata": {},
     "output_type": "display_data"
    },
    {
     "name": "stdout",
     "output_type": "stream",
     "text": [
      "---------------------------------\n",
      "******************************************************************\n",
      "************************** Ricci Scalar **************************\n"
     ]
    },
    {
     "data": {
      "text/latex": [
       "$\\displaystyle \\frac{2 \\left(p_{1}^{2} + p_{1} p_{2} + p_{1} p_{3} - p_{1} + p_{2}^{2} + p_{2} p_{3} - p_{2} + p_{3}^{2} - p_{3}\\right)}{\\mathbf{t}^{2}}$"
      ],
      "text/plain": [
       "<IPython.core.display.Math object>"
      ]
     },
     "metadata": {},
     "output_type": "display_data"
    },
    {
     "name": "stdout",
     "output_type": "stream",
     "text": [
      "******************************************************************\n"
     ]
    },
    {
     "data": {
      "text/latex": [
       "$\\displaystyle \\left[ \\left( t_{0}, \\  0, \\  0, \\  0\\right), \\  \\left( t_{0}, \\  0, \\  0, \\  1\\right), \\  \\left( t_{0}, \\  0, \\  1, \\  0\\right)\\right]$"
      ],
      "text/plain": [
       "<IPython.core.display.Math object>"
      ]
     },
     "metadata": {},
     "output_type": "display_data"
    }
   ],
   "source": [
    "## Kasner Metric\n",
    "t, x, y, z = symbols('t, x, y, z')\n",
    "t0, p1, p2, p3 = symbols('t0, p1, p2, p3')\n",
    "m = Manifold('M', 4)\n",
    "patch = Patch('P', m)\n",
    "coords = CoordSystem(\"C\", patch, ['t', 'x', 'y', 'z'])\n",
    "t, x, y, z = coords.coord_functions()\n",
    "dt, dx, dy, dz = coords.base_oneforms()\n",
    "\n",
    "# make my metric\n",
    "TP = diffgeom.TensorProduct\n",
    "metric =  - TP(dt, dt) + (t / t0)**(2 * p1) * TP(dx, dx) + (t / t0)**(2 * p2) * TP(dy, dy) \\\n",
    "          + (t / t0)**(2 * p3) * TP(dz, dz)\n",
    "components = ['t', 'x', 'y', 'phi']\n",
    "#print_nonzero_riemann(Riemann(metric), components)\n",
    "print_nonzero_ricci(Ricci(metric), components)\n",
    "print_ricci_scalar(metric)\n",
    "Ricci_tensor = Ricci(metric)\n",
    "display(Math(latex(solve(Ricci_tensor, [t0, p1, p2, p3]))))"
   ]
  }
 ],
 "metadata": {
  "kernelspec": {
   "display_name": "Python 3",
   "language": "python",
   "name": "python3"
  },
  "language_info": {
   "codemirror_mode": {
    "name": "ipython",
    "version": 3
   },
   "file_extension": ".py",
   "mimetype": "text/x-python",
   "name": "python",
   "nbconvert_exporter": "python",
   "pygments_lexer": "ipython3",
   "version": "3.7.3"
  }
 },
 "nbformat": 4,
 "nbformat_minor": 2
}
